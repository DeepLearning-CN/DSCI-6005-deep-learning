{
 "cells": [
  {
   "cell_type": "markdown",
   "metadata": {
    "deletable": true,
    "editable": true
   },
   "source": [
    "# TensorBoard Visualizations"
   ]
  },
  {
   "cell_type": "code",
   "execution_count": null,
   "metadata": {
    "collapsed": false,
    "deletable": true,
    "editable": true,
    "nbgrader": {
     "grade": false,
     "grade_id": "runs_solution",
     "locked": false,
     "schema_version": 1,
     "solution": true
    },
    "scrolled": false
   },
   "outputs": [],
   "source": [
    "from train import ex\n",
    "import keras.backend as K\n",
    "\n",
    "for trainer in ['MLRTrainer', 'MLPTrainer']:\n",
    "    run = ex.run(config_updates={'trainer': trainer})\n",
    "    K.clear_session()"
   ]
  },
  {
   "cell_type": "markdown",
   "metadata": {
    "deletable": true,
    "editable": true
   },
   "source": [
    "# TensorBoard + SacredBoard Visualizations"
   ]
  },
  {
   "cell_type": "code",
   "execution_count": null,
   "metadata": {
    "collapsed": false
   },
   "outputs": [],
   "source": [
    "from train import ex\n",
    "from sacred.observers import MongoObserver\n",
    "mongo_observer = MongoObserver.create()\n",
    "ex.observers.append(mongo_observer)\n",
    "\n",
    "import keras.backend as K\n",
    "for trainer in ['MLRTrainer', 'MLPTrainer']:\n",
    "    run = ex.run(config_updates={'trainer': trainer})\n",
    "    K.clear_session()"
   ]
  },
  {
   "cell_type": "markdown",
   "metadata": {},
   "source": [
    "# TensorBoard + Sacred Named Visualizations"
   ]
  },
  {
   "cell_type": "code",
   "execution_count": null,
   "metadata": {
    "collapsed": false,
    "deletable": true,
    "editable": true,
    "scrolled": false
   },
   "outputs": [],
   "source": [
    "for trainer in ['MLRTrainer', 'MLPTrainer']:\n",
    "    run = ex.run(config_updates=dict(trainer=trainer), options={'--name': trainer})\n",
    "    K.clear_session()"
   ]
  },
  {
   "cell_type": "markdown",
   "metadata": {},
   "source": [
    "# TensorBoard + Sacred Named Visualizations \"General Solution\""
   ]
  },
  {
   "cell_type": "code",
   "execution_count": null,
   "metadata": {
    "collapsed": false,
    "scrolled": false
   },
   "outputs": [],
   "source": [
    "for trainer in ['MLRTrainer', 'MLPTrainer']:\n",
    "    C = {'trainer': trainer, 'metric': 'acc', 'result_mode': 'max'}\n",
    "    name = '+'.join(f'{key}={value}' for key, value in C.items())\n",
    "    run = ex.run(config_updates=C, options={'--name': name})\n",
    "    K.clear_session()"
   ]
  },
  {
   "cell_type": "markdown",
   "metadata": {
    "deletable": true,
    "editable": true
   },
   "source": [
    "# SacredBoard Installation Instructions\n",
    "\n",
    "```shell\n",
    "$ brew install mongodb # install mongodb\n",
    "$ mkdir mongo # create local directory for mongodb to write to\n",
    "$ mongod --dbpath mongo # start mongodb server and tell it to write to local folder mongo\n",
    "$ pip install git+https://github.com/IDSIA/sacred.git # install latest version of sacred\n",
    "$ pip install sacredboard # install sacredboard\n",
    "$ sacredboard # start sacredboard server\n",
    "```\n",
    "\n",
    "Now all you have to do is run the sacred experiments above and open a web browser to the SacredBoard port to leverage its visualization capabilities."
   ]
  }
 ],
 "metadata": {
  "kernelspec": {
   "display_name": "Python 3",
   "language": "python",
   "name": "python3"
  },
  "language_info": {
   "codemirror_mode": {
    "name": "ipython",
    "version": 3
   },
   "file_extension": ".py",
   "mimetype": "text/x-python",
   "name": "python",
   "nbconvert_exporter": "python",
   "pygments_lexer": "ipython3",
   "version": "3.6.1"
  }
 },
 "nbformat": 4,
 "nbformat_minor": 2
}
