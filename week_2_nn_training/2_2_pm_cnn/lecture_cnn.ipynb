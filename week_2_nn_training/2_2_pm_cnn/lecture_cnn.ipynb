{
 "cells": [
  {
   "cell_type": "markdown",
   "metadata": {
    "deletable": true,
    "editable": true,
    "slideshow": {
     "slide_type": "slide"
    }
   },
   "source": [
    "# What is a Convolutional Neural Network?"
   ]
  },
  {
   "cell_type": "markdown",
   "metadata": {
    "deletable": true,
    "editable": true,
    "slideshow": {
     "slide_type": "fragment"
    }
   },
   "source": [
    "It's a neural network with one more more convolutional *layers*."
   ]
  },
  {
   "cell_type": "markdown",
   "metadata": {
    "deletable": true,
    "editable": true,
    "slideshow": {
     "slide_type": "slide"
    }
   },
   "source": [
    "# What is a Convolutional Layer?"
   ]
  },
  {
   "cell_type": "markdown",
   "metadata": {
    "deletable": true,
    "editable": true,
    "slideshow": {
     "slide_type": "fragment"
    }
   },
   "source": [
    "It's a layer in a neural network that utilizes *convolution*."
   ]
  },
  {
   "cell_type": "markdown",
   "metadata": {
    "deletable": true,
    "editable": true,
    "slideshow": {
     "slide_type": "slide"
    }
   },
   "source": [
    "# What is Convolution?"
   ]
  },
  {
   "cell_type": "markdown",
   "metadata": {
    "deletable": true,
    "editable": true,
    "slideshow": {
     "slide_type": "fragment"
    }
   },
   "source": [
    "![2D Convolution](https://i.stack.imgur.com/I7DBr.gif3)"
   ]
  },
  {
   "cell_type": "markdown",
   "metadata": {
    "deletable": true,
    "editable": true,
    "slideshow": {
     "slide_type": "fragment"
    }
   },
   "source": [
    "### Mathematical Definition\n",
    "\n",
    "$$\n",
    "(I \\star F)[x, y] = \\sum_{i = -1}^1 \\sum_{j = -1}^1 I[x+i, y+j] * F[i, j]\n",
    "$$"
   ]
  },
  {
   "cell_type": "markdown",
   "metadata": {
    "deletable": true,
    "editable": true,
    "slideshow": {
     "slide_type": "slide"
    }
   },
   "source": [
    "![winter1516_lecture7 10](images/winter1516_lecture7 10.png)"
   ]
  },
  {
   "cell_type": "markdown",
   "metadata": {
    "deletable": true,
    "editable": true,
    "slideshow": {
     "slide_type": "slide"
    }
   },
   "source": [
    "![winter1516_lecture7 11](images/winter1516_lecture7 11.png)"
   ]
  },
  {
   "cell_type": "markdown",
   "metadata": {
    "deletable": true,
    "editable": true,
    "slideshow": {
     "slide_type": "slide"
    }
   },
   "source": [
    "![winter1516_lecture7 12](images/winter1516_lecture7 12.png)"
   ]
  },
  {
   "cell_type": "markdown",
   "metadata": {
    "deletable": true,
    "editable": true,
    "slideshow": {
     "slide_type": "slide"
    }
   },
   "source": [
    "![winter1516_lecture7 13](images/winter1516_lecture7 13.png)"
   ]
  },
  {
   "cell_type": "markdown",
   "metadata": {
    "deletable": true,
    "editable": true,
    "slideshow": {
     "slide_type": "slide"
    }
   },
   "source": [
    "![winter1516_lecture7 14](images/winter1516_lecture7 14.png)"
   ]
  },
  {
   "cell_type": "markdown",
   "metadata": {
    "deletable": true,
    "editable": true,
    "slideshow": {
     "slide_type": "slide"
    }
   },
   "source": [
    "![winter1516_lecture7 15](images/winter1516_lecture7 15.png)"
   ]
  },
  {
   "cell_type": "markdown",
   "metadata": {
    "deletable": true,
    "editable": true,
    "slideshow": {
     "slide_type": "slide"
    }
   },
   "source": [
    "![winter1516_lecture7 16](images/winter1516_lecture7 16.png)"
   ]
  },
  {
   "cell_type": "code",
   "execution_count": 1,
   "metadata": {
    "collapsed": false,
    "deletable": true,
    "editable": true,
    "slideshow": {
     "slide_type": "skip"
    }
   },
   "outputs": [
    {
     "name": "stderr",
     "output_type": "stream",
     "text": [
      "Using TensorFlow backend.\n"
     ]
    },
    {
     "ename": "FileNotFoundError",
     "evalue": "[Errno 2] No such file or directory: 'data/CatsVDogs.p'",
     "output_type": "error",
     "traceback": [
      "\u001b[0;31m---------------------------------------------------------------------------\u001b[0m",
      "\u001b[0;31mFileNotFoundError\u001b[0m                         Traceback (most recent call last)",
      "\u001b[0;32m<ipython-input-1-f1e2e8f5b5d7>\u001b[0m in \u001b[0;36m<module>\u001b[0;34m()\u001b[0m\n\u001b[1;32m      6\u001b[0m \u001b[0;32mfrom\u001b[0m \u001b[0mkeras\u001b[0m\u001b[0;34m.\u001b[0m\u001b[0mapplications\u001b[0m\u001b[0;34m.\u001b[0m\u001b[0mvgg16\u001b[0m \u001b[0;32mimport\u001b[0m \u001b[0mpreprocess_input\u001b[0m\u001b[0;34m\u001b[0m\u001b[0m\n\u001b[1;32m      7\u001b[0m \u001b[0;34m\u001b[0m\u001b[0m\n\u001b[0;32m----> 8\u001b[0;31m \u001b[0mimgs\u001b[0m\u001b[0;34m,\u001b[0m \u001b[0my\u001b[0m \u001b[0;34m=\u001b[0m \u001b[0mpickle\u001b[0m\u001b[0;34m.\u001b[0m\u001b[0mload\u001b[0m\u001b[0;34m(\u001b[0m\u001b[0mopen\u001b[0m\u001b[0;34m(\u001b[0m\u001b[0;34m'data/CatsVDogs.p'\u001b[0m\u001b[0;34m,\u001b[0m \u001b[0;34m'rb'\u001b[0m\u001b[0;34m)\u001b[0m\u001b[0;34m)\u001b[0m\u001b[0;34m\u001b[0m\u001b[0m\n\u001b[0m\u001b[1;32m      9\u001b[0m \u001b[0mimg\u001b[0m \u001b[0;34m=\u001b[0m \u001b[0mimgs\u001b[0m\u001b[0;34m[\u001b[0m\u001b[0;36m1\u001b[0m\u001b[0;34m]\u001b[0m\u001b[0;34m.\u001b[0m\u001b[0mresize\u001b[0m\u001b[0;34m(\u001b[0m\u001b[0msize\u001b[0m\u001b[0;34m=\u001b[0m\u001b[0;34m[\u001b[0m\u001b[0;36m224\u001b[0m\u001b[0;34m,\u001b[0m \u001b[0;36m224\u001b[0m\u001b[0;34m]\u001b[0m\u001b[0;34m)\u001b[0m\u001b[0;34m\u001b[0m\u001b[0m\n\u001b[1;32m     10\u001b[0m \u001b[0mx\u001b[0m \u001b[0;34m=\u001b[0m \u001b[0mimg_to_array\u001b[0m\u001b[0;34m(\u001b[0m\u001b[0mimg\u001b[0m\u001b[0;34m)\u001b[0m\u001b[0;34m\u001b[0m\u001b[0m\n",
      "\u001b[0;31mFileNotFoundError\u001b[0m: [Errno 2] No such file or directory: 'data/CatsVDogs.p'"
     ]
    }
   ],
   "source": [
    "from IPython.display import display\n",
    "import pickle\n",
    "import numpy as np\n",
    "from keras.preprocessing.image import img_to_array, array_to_img\n",
    "from keras.models import Model\n",
    "from keras.applications.vgg16 import preprocess_input\n",
    "\n",
    "imgs, y = pickle.load(open('data/CatsVDogs.p', 'rb'))\n",
    "img = imgs[1].resize(size=[224, 224])\n",
    "x = img_to_array(img)\n",
    "X = np.expand_dims(x, axis=0)\n",
    "X = preprocess_input(X)"
   ]
  },
  {
   "cell_type": "code",
   "execution_count": null,
   "metadata": {
    "collapsed": false,
    "deletable": true,
    "editable": true,
    "scrolled": false,
    "slideshow": {
     "slide_type": "fragment"
    }
   },
   "outputs": [],
   "source": [
    "from keras.applications import VGG16\n",
    "\n",
    "vggnet = VGG16()\n",
    "model = Model(input=vggnet.inputs, output=vggnet.get_layer('block1_conv1').output)\n",
    "A = model.predict(X)[0]\n",
    "\n",
    "display(img)\n",
    "\n",
    "nb_filter = len(A)\n",
    "for idx in np.random.choice(nb_filter, size=4):\n",
    "    a = A[idx]\n",
    "    img = array_to_img(np.expand_dims(a, axis=0))\n",
    "    display(img)"
   ]
  },
  {
   "cell_type": "markdown",
   "metadata": {
    "deletable": true,
    "editable": true,
    "slideshow": {
     "slide_type": "slide"
    }
   },
   "source": [
    "![winter1516_lecture7 17](images/winter1516_lecture7 17.png)"
   ]
  },
  {
   "cell_type": "markdown",
   "metadata": {
    "deletable": true,
    "editable": true,
    "slideshow": {
     "slide_type": "slide"
    }
   },
   "source": [
    "![winter1516_lecture7 18](images/winter1516_lecture7 18.png)"
   ]
  },
  {
   "cell_type": "markdown",
   "metadata": {
    "deletable": true,
    "editable": true,
    "slideshow": {
     "slide_type": "slide"
    }
   },
   "source": [
    "![winter1516_lecture7 19](images/winter1516_lecture7 19.png)"
   ]
  },
  {
   "cell_type": "code",
   "execution_count": null,
   "metadata": {
    "collapsed": false,
    "deletable": true,
    "editable": true,
    "slideshow": {
     "slide_type": "fragment"
    }
   },
   "outputs": [],
   "source": [
    "from IPython.display import display\n",
    "import numpy as np\n",
    "from keras.applications.resnet50 import ResNet50\n",
    "from keras.preprocessing.image import array_to_img\n",
    "\n",
    "resnet = ResNet50()\n",
    "W, b = resnet.get_layer('conv1').get_weights()\n",
    "\n",
    "nb_filter = len(W)\n",
    "for filter_idx in np.random.choice(nb_filter, size=10):\n",
    "    w = W[..., filter_idx]\n",
    "    filter = array_to_img(w).resize(size=[64, 64])\n",
    "    display(filter)"
   ]
  },
  {
   "cell_type": "markdown",
   "metadata": {
    "deletable": true,
    "editable": true,
    "slideshow": {
     "slide_type": "slide"
    }
   },
   "source": [
    "![winter1516_lecture7 20](images/winter1516_lecture7 20.png)"
   ]
  },
  {
   "cell_type": "markdown",
   "metadata": {
    "deletable": true,
    "editable": true,
    "slideshow": {
     "slide_type": "slide"
    }
   },
   "source": [
    "![winter1516_lecture7 21](images/winter1516_lecture7 21.png)"
   ]
  },
  {
   "cell_type": "markdown",
   "metadata": {
    "deletable": true,
    "editable": true,
    "slideshow": {
     "slide_type": "slide"
    }
   },
   "source": [
    "![winter1516_lecture7 22](images/winter1516_lecture7 22.png)"
   ]
  },
  {
   "cell_type": "markdown",
   "metadata": {
    "deletable": true,
    "editable": true,
    "slideshow": {
     "slide_type": "slide"
    }
   },
   "source": [
    "![winter1516_lecture7 23](images/winter1516_lecture7 23.png)"
   ]
  },
  {
   "cell_type": "code",
   "execution_count": null,
   "metadata": {
    "collapsed": false,
    "deletable": true,
    "editable": true,
    "slideshow": {
     "slide_type": "fragment"
    }
   },
   "outputs": [],
   "source": [
    "from keras.layers import Input, Convolution2D\n",
    "from keras.models import Model\n",
    "\n",
    "x = Input(shape=[3, 32, 32], name='image')\n",
    "a = Convolution2D(nb_filter=1, nb_row=5, nb_col=5, name='convolution2d')(x)\n",
    "model = Model(x, a)\n",
    "\n",
    "model.summary(line_length=75, positions=[0.5, 0.9, 1.0, 1.0])"
   ]
  },
  {
   "cell_type": "markdown",
   "metadata": {
    "deletable": true,
    "editable": true,
    "slideshow": {
     "slide_type": "slide"
    }
   },
   "source": [
    "![winter1516_lecture7 24](images/winter1516_lecture7 24.png)"
   ]
  },
  {
   "cell_type": "markdown",
   "metadata": {
    "deletable": true,
    "editable": true,
    "slideshow": {
     "slide_type": "slide"
    }
   },
   "source": [
    "![winter1516_lecture7 25](images/winter1516_lecture7 25.png)"
   ]
  },
  {
   "cell_type": "markdown",
   "metadata": {
    "deletable": true,
    "editable": true,
    "slideshow": {
     "slide_type": "slide"
    }
   },
   "source": [
    "![winter1516_lecture7 26](images/winter1516_lecture7 26.png)"
   ]
  },
  {
   "cell_type": "markdown",
   "metadata": {
    "deletable": true,
    "editable": true,
    "slideshow": {
     "slide_type": "slide"
    }
   },
   "source": [
    "![winter1516_lecture7 27](images/winter1516_lecture7 27.png)"
   ]
  },
  {
   "cell_type": "markdown",
   "metadata": {
    "deletable": true,
    "editable": true,
    "slideshow": {
     "slide_type": "slide"
    }
   },
   "source": [
    "![winter1516_lecture7 28](images/winter1516_lecture7 28.png)"
   ]
  },
  {
   "cell_type": "code",
   "execution_count": null,
   "metadata": {
    "collapsed": false,
    "deletable": true,
    "editable": true,
    "slideshow": {
     "slide_type": "fragment"
    }
   },
   "outputs": [],
   "source": [
    "from keras.layers import Input, Convolution2D\n",
    "from keras.models import Model\n",
    "\n",
    "x = Input(shape=[1, 7, 7], name='image')\n",
    "a = Convolution2D(nb_filter=1, nb_row=3, nb_col=3, name='convolution')(x)\n",
    "model = Model(x, a)\n",
    "\n",
    "model.summary(line_length=75, positions=[0.5, 0.9, 1.0, 1.0])"
   ]
  },
  {
   "cell_type": "markdown",
   "metadata": {
    "deletable": true,
    "editable": true,
    "slideshow": {
     "slide_type": "slide"
    }
   },
   "source": [
    "![winter1516_lecture7 29](images/winter1516_lecture7 29.png)"
   ]
  },
  {
   "cell_type": "markdown",
   "metadata": {
    "deletable": true,
    "editable": true,
    "slideshow": {
     "slide_type": "slide"
    }
   },
   "source": [
    "![winter1516_lecture7 30](images/winter1516_lecture7 30.png)"
   ]
  },
  {
   "cell_type": "markdown",
   "metadata": {
    "deletable": true,
    "editable": true,
    "slideshow": {
     "slide_type": "slide"
    }
   },
   "source": [
    "![winter1516_lecture7 31](images/winter1516_lecture7 31.png)"
   ]
  },
  {
   "cell_type": "code",
   "execution_count": null,
   "metadata": {
    "collapsed": false,
    "deletable": true,
    "editable": true,
    "slideshow": {
     "slide_type": "fragment"
    }
   },
   "outputs": [],
   "source": [
    "from keras.layers import Input, Convolution2D\n",
    "from keras.models import Model\n",
    "\n",
    "x = Input(shape=[1, 7, 7], name='image')\n",
    "a = Convolution2D(nb_filter=1, nb_row=3, nb_col=3, subsample=[2, 2], name='convolution')(x)\n",
    "model = Model(x, a)\n",
    "\n",
    "model.summary(line_length=75, positions=[0.5, 0.9, 1.0, 1.0])"
   ]
  },
  {
   "cell_type": "markdown",
   "metadata": {
    "deletable": true,
    "editable": true,
    "slideshow": {
     "slide_type": "slide"
    }
   },
   "source": [
    "![winter1516_lecture7 32](images/winter1516_lecture7 32.png)"
   ]
  },
  {
   "cell_type": "markdown",
   "metadata": {
    "deletable": true,
    "editable": true,
    "slideshow": {
     "slide_type": "slide"
    }
   },
   "source": [
    "![winter1516_lecture7 33](images/winter1516_lecture7 33.png)"
   ]
  },
  {
   "cell_type": "code",
   "execution_count": null,
   "metadata": {
    "collapsed": false,
    "deletable": true,
    "editable": true,
    "slideshow": {
     "slide_type": "fragment"
    }
   },
   "outputs": [],
   "source": [
    "from keras.layers import Input, Convolution2D\n",
    "from keras.models import Model\n",
    "\n",
    "x = Input(shape=[1, 7, 7], name='image')\n",
    "a = Convolution2D(nb_filter=1, nb_row=3, nb_col=3, subsample=[3, 3], name='convolution')(x)\n",
    "model = Model(x, a)\n",
    "\n",
    "model.summary(line_length=75, positions=[0.5, 0.9, 1.0, 1.0])"
   ]
  },
  {
   "cell_type": "markdown",
   "metadata": {
    "deletable": true,
    "editable": true,
    "slideshow": {
     "slide_type": "slide"
    }
   },
   "source": [
    "![winter1516_lecture7 34](images/winter1516_lecture7 34.png)"
   ]
  },
  {
   "cell_type": "markdown",
   "metadata": {
    "deletable": true,
    "editable": true,
    "slideshow": {
     "slide_type": "slide"
    }
   },
   "source": [
    "![winter1516_lecture7 35](images/winter1516_lecture7 35.png)"
   ]
  },
  {
   "cell_type": "markdown",
   "metadata": {
    "deletable": true,
    "editable": true,
    "slideshow": {
     "slide_type": "slide"
    }
   },
   "source": [
    "![winter1516_lecture7 36](images/winter1516_lecture7 36.png)"
   ]
  },
  {
   "cell_type": "code",
   "execution_count": null,
   "metadata": {
    "collapsed": false,
    "deletable": true,
    "editable": true,
    "slideshow": {
     "slide_type": "fragment"
    }
   },
   "outputs": [],
   "source": [
    "from keras.layers import Input, ZeroPadding2D, Convolution2D\n",
    "from keras.models import Model\n",
    "\n",
    "x = Input(shape=[1, 7, 7], name='image')\n",
    "x_padded = ZeroPadding2D(padding=[1, 1], name='image_padded')(x)\n",
    "a = Convolution2D(nb_filter=1, nb_row=3, nb_col=3, name='image_convolved')(x_padded)\n",
    "model = Model(x, a)\n",
    "\n",
    "model.summary(line_length=75, positions=[0.5, 0.9, 1.0, 1.0])"
   ]
  },
  {
   "cell_type": "markdown",
   "metadata": {
    "deletable": true,
    "editable": true,
    "slideshow": {
     "slide_type": "-"
    }
   },
   "source": [
    "### Without Zero-Padding"
   ]
  },
  {
   "cell_type": "code",
   "execution_count": null,
   "metadata": {
    "collapsed": false,
    "deletable": true,
    "editable": true,
    "slideshow": {
     "slide_type": "-"
    }
   },
   "outputs": [],
   "source": [
    "from keras.layers import Input, Convolution2D\n",
    "from keras.models import Model\n",
    "\n",
    "x = Input(shape=[1, 7, 7], name='image')\n",
    "a = Convolution2D(nb_filter=1, nb_row=3, nb_col=3, border_mode='valid', name='convolution')(x)\n",
    "model = Model(x, a)\n",
    "\n",
    "model.summary(line_length=75, positions=[0.5, 0.9, 1.0, 1.0])"
   ]
  },
  {
   "cell_type": "markdown",
   "metadata": {
    "deletable": true,
    "editable": true,
    "slideshow": {
     "slide_type": "-"
    }
   },
   "source": [
    "### `keras` Will Figure it out Automatically With `border_mode='same'`"
   ]
  },
  {
   "cell_type": "code",
   "execution_count": null,
   "metadata": {
    "collapsed": false,
    "deletable": true,
    "editable": true,
    "slideshow": {
     "slide_type": "-"
    }
   },
   "outputs": [],
   "source": [
    "from keras.layers import Input, Convolution2D\n",
    "from keras.models import Model\n",
    "\n",
    "x = Input(shape=[1, 7, 7], name='image')\n",
    "a = Convolution2D(nb_filter=1, nb_row=3, nb_col=3, border_mode='same', name='convolution')(x)\n",
    "model = Model(x, a)\n",
    "\n",
    "model.summary(line_length=75, positions=[0.5, 0.9, 1.0, 1.0])"
   ]
  },
  {
   "cell_type": "markdown",
   "metadata": {
    "deletable": true,
    "editable": true,
    "slideshow": {
     "slide_type": "slide"
    }
   },
   "source": [
    "![winter1516_lecture7 37](images/winter1516_lecture7 37.png)"
   ]
  },
  {
   "cell_type": "markdown",
   "metadata": {
    "deletable": true,
    "editable": true,
    "slideshow": {
     "slide_type": "slide"
    }
   },
   "source": [
    "![winter1516_lecture7 38](images/winter1516_lecture7 38.png)"
   ]
  },
  {
   "cell_type": "markdown",
   "metadata": {
    "deletable": true,
    "editable": true,
    "slideshow": {
     "slide_type": "slide"
    }
   },
   "source": [
    "![winter1516_lecture7 39](images/winter1516_lecture7 39.png)"
   ]
  },
  {
   "cell_type": "markdown",
   "metadata": {
    "deletable": true,
    "editable": true,
    "slideshow": {
     "slide_type": "slide"
    }
   },
   "source": [
    "![winter1516_lecture7 40](images/winter1516_lecture7 40.png)"
   ]
  },
  {
   "cell_type": "code",
   "execution_count": null,
   "metadata": {
    "collapsed": false,
    "deletable": true,
    "editable": true,
    "slideshow": {
     "slide_type": "fragment"
    }
   },
   "outputs": [],
   "source": [
    "from keras.layers import Input, ZeroPadding2D, Convolution2D\n",
    "from keras.models import Model\n",
    "\n",
    "x = Input(shape=[3, 32, 32], name='image')\n",
    "x_padded = ZeroPadding2D(padding=[2, 2], name='image_padded')(x)\n",
    "a = Convolution2D(nb_filter=10, nb_row=5, nb_col=5, name='convolution')(x_padded)\n",
    "model = Model(x, a)\n",
    "\n",
    "model.summary(line_length=75, positions=[0.5, 0.9, 1.0, 1.0])"
   ]
  },
  {
   "cell_type": "markdown",
   "metadata": {
    "deletable": true,
    "editable": true,
    "slideshow": {
     "slide_type": "slide"
    }
   },
   "source": [
    "![winter1516_lecture7 41](images/winter1516_lecture7 41.png)"
   ]
  },
  {
   "cell_type": "markdown",
   "metadata": {
    "deletable": true,
    "editable": true,
    "slideshow": {
     "slide_type": "slide"
    }
   },
   "source": [
    "![winter1516_lecture7 42](images/winter1516_lecture7 42.png)"
   ]
  },
  {
   "cell_type": "code",
   "execution_count": null,
   "metadata": {
    "collapsed": false,
    "deletable": true,
    "editable": true,
    "slideshow": {
     "slide_type": "fragment"
    }
   },
   "outputs": [],
   "source": [
    "from keras.layers import Input, ZeroPadding2D, Convolution2D\n",
    "from keras.models import Model\n",
    "\n",
    "x = Input(shape=[3, 32, 32], name='image')\n",
    "x_padded = ZeroPadding2D(padding=[2, 2], name='image_padded')(x)\n",
    "a = Convolution2D(nb_filter=10, nb_row=5, nb_col=5, name='convolution')(x_padded)\n",
    "model = Model(x, a)\n",
    "\n",
    "model.summary(line_length=75, positions=[0.5, 0.9, 1.0, 1.0])"
   ]
  },
  {
   "cell_type": "markdown",
   "metadata": {
    "deletable": true,
    "editable": true,
    "slideshow": {
     "slide_type": "slide"
    }
   },
   "source": [
    "![winter1516_lecture7 43](images/winter1516_lecture7 43.png)"
   ]
  },
  {
   "cell_type": "markdown",
   "metadata": {
    "deletable": true,
    "editable": true,
    "slideshow": {
     "slide_type": "slide"
    }
   },
   "source": [
    "![winter1516_lecture7 44](images/winter1516_lecture7 44.png)"
   ]
  },
  {
   "cell_type": "code",
   "execution_count": null,
   "metadata": {
    "collapsed": false,
    "deletable": true,
    "editable": true,
    "slideshow": {
     "slide_type": "fragment"
    }
   },
   "outputs": [],
   "source": [
    "from keras.layers import Input, ZeroPadding2D, Convolution2D\n",
    "from keras.models import Model\n",
    "\n",
    "K = 64\n",
    "F = 3\n",
    "S = 1\n",
    "P = 2\n",
    "\n",
    "x = Input(shape=[3, 32, 32], name='image')\n",
    "x_padded = ZeroPadding2D(padding=[P, P], name='image_padded')(x)\n",
    "a = Convolution2D(nb_filter=K,\n",
    "                  nb_row=F, nb_col=F,\n",
    "                  subsample=[S, S],\n",
    "                  name='convolution')(x_padded)\n",
    "model = Model(x, a)\n",
    "\n",
    "model.summary(line_length=75, positions=[0.5, 0.9, 1.0, 1.0])"
   ]
  },
  {
   "cell_type": "markdown",
   "metadata": {
    "deletable": true,
    "editable": true,
    "slideshow": {
     "slide_type": "slide"
    }
   },
   "source": [
    "![winter1516_lecture7 45](images/winter1516_lecture7 45.png)"
   ]
  },
  {
   "cell_type": "code",
   "execution_count": null,
   "metadata": {
    "collapsed": false,
    "deletable": true,
    "editable": true,
    "slideshow": {
     "slide_type": "fragment"
    }
   },
   "outputs": [],
   "source": [
    "from keras.layers import Input, Convolution2D\n",
    "from keras.models import Model\n",
    "\n",
    "x = Input(shape=[64, 56, 56], name='image')\n",
    "a = Convolution2D(nb_filter=32, nb_row=1, nb_col=1, name='image_convolved')(x)\n",
    "model = Model(x, a)\n",
    "\n",
    "model.summary(line_length=75, positions=[0.5, 0.9, 1.0, 1.0])"
   ]
  },
  {
   "cell_type": "markdown",
   "metadata": {
    "deletable": true,
    "editable": true,
    "slideshow": {
     "slide_type": "slide"
    }
   },
   "source": [
    "![winter1516_lecture7 49](images/winter1516_lecture7 49.png)"
   ]
  },
  {
   "cell_type": "markdown",
   "metadata": {
    "deletable": true,
    "editable": true,
    "slideshow": {
     "slide_type": "slide"
    }
   },
   "source": [
    "![winter1516_lecture7 50](images/winter1516_lecture7 50.png)"
   ]
  },
  {
   "cell_type": "markdown",
   "metadata": {
    "deletable": true,
    "editable": true,
    "slideshow": {
     "slide_type": "slide"
    }
   },
   "source": [
    "![winter1516_lecture7 51](images/winter1516_lecture7 51.png)"
   ]
  },
  {
   "cell_type": "markdown",
   "metadata": {
    "deletable": true,
    "editable": true,
    "slideshow": {
     "slide_type": "slide"
    }
   },
   "source": [
    "![winter1516_lecture7 52](images/winter1516_lecture7 52.png)"
   ]
  },
  {
   "cell_type": "markdown",
   "metadata": {
    "deletable": true,
    "editable": true,
    "slideshow": {
     "slide_type": "slide"
    }
   },
   "source": [
    "![winter1516_lecture7 53](images/winter1516_lecture7 53.png)"
   ]
  },
  {
   "cell_type": "markdown",
   "metadata": {
    "deletable": true,
    "editable": true,
    "slideshow": {
     "slide_type": "slide"
    }
   },
   "source": [
    "![winter1516_lecture7 54](images/winter1516_lecture7 54.png)"
   ]
  },
  {
   "cell_type": "markdown",
   "metadata": {
    "deletable": true,
    "editable": true,
    "slideshow": {
     "slide_type": "slide"
    }
   },
   "source": [
    "![winter1516_lecture7 55](images/winter1516_lecture7 55.png)"
   ]
  },
  {
   "cell_type": "code",
   "execution_count": null,
   "metadata": {
    "collapsed": false,
    "deletable": true,
    "editable": true,
    "slideshow": {
     "slide_type": "fragment"
    }
   },
   "outputs": [],
   "source": [
    "from keras.layers import Input, MaxPooling2D\n",
    "from keras.models import Model\n",
    "\n",
    "x = Input(shape=[1, 4, 4], name='image')\n",
    "p = MaxPooling2D(pool_size=[2, 2])(x)\n",
    "model = Model(x, p)\n",
    "\n",
    "X = [[1, 1, 2, 4],\n",
    "     [5, 6, 7, 8],\n",
    "     [3, 2, 1, 0],\n",
    "     [1, 2, 3, 4]]\n",
    "\n",
    "X = np.array(X)\n",
    "\n",
    "X = np.expand_dims(X, axis=0)\n",
    "X = np.expand_dims(X, axis=0)\n",
    "\n",
    "model.predict(X)"
   ]
  },
  {
   "cell_type": "markdown",
   "metadata": {
    "deletable": true,
    "editable": true,
    "slideshow": {
     "slide_type": "slide"
    }
   },
   "source": [
    "![winter1516_lecture7 56](images/winter1516_lecture7 56.png)"
   ]
  },
  {
   "cell_type": "markdown",
   "metadata": {
    "deletable": true,
    "editable": true,
    "slideshow": {
     "slide_type": "slide"
    }
   },
   "source": [
    "![winter1516_lecture7 57](images/winter1516_lecture7 57.png)"
   ]
  },
  {
   "cell_type": "markdown",
   "metadata": {
    "deletable": true,
    "editable": true,
    "slideshow": {
     "slide_type": "slide"
    }
   },
   "source": [
    "![winter1516_lecture7 58](images/winter1516_lecture7 58.png)"
   ]
  },
  {
   "cell_type": "markdown",
   "metadata": {
    "deletable": true,
    "editable": true,
    "slideshow": {
     "slide_type": "slide"
    }
   },
   "source": [
    "![winter1516_lecture7 59](images/winter1516_lecture7 59.png)"
   ]
  }
 ],
 "metadata": {
  "anaconda-cloud": {},
  "celltoolbar": "Slideshow",
  "kernelspec": {
   "display_name": "Python 3",
   "language": "python",
   "name": "python3"
  },
  "language_info": {
   "codemirror_mode": {
    "name": "ipython",
    "version": 3
   },
   "file_extension": ".py",
   "mimetype": "text/x-python",
   "name": "python",
   "nbconvert_exporter": "python",
   "pygments_lexer": "ipython3",
   "version": "3.6.1"
  }
 },
 "nbformat": 4,
 "nbformat_minor": 0
}
