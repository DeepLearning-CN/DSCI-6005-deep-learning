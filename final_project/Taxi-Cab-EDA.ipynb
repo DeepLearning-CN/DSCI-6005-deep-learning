{
 "cells": [
  {
   "cell_type": "code",
   "execution_count": 3,
   "metadata": {
    "collapsed": false,
    "deletable": true,
    "editable": true
   },
   "outputs": [
    {
     "name": "stdout",
     "output_type": "stream",
     "text": [
      "Populating the interactive namespace from numpy and matplotlib\n"
     ]
    },
    {
     "name": "stderr",
     "output_type": "stream",
     "text": [
      "/Users/jonathanhilgart/anaconda/envs/dl/lib/python3.6/site-packages/IPython/core/magics/pylab.py:161: UserWarning: pylab import has clobbered these variables: ['random']\n",
      "`%matplotlib` prevents importing * from pylab and numpy\n",
      "  \"\\n`%matplotlib` prevents importing * from pylab and numpy\"\n"
     ]
    }
   ],
   "source": [
    "import pandas as pd\n",
    "import numpy as np\n",
    "from py_geohash_any import geohash as gh\n",
    "import datetime\n",
    "import seaborn as sns\n",
    "import matplotlib.pyplot as plt\n",
    "%pylab inline\n",
    "#!/usr/bin/env python\n",
    "from __future__ import print_function\n",
    "\n",
    "import argparse\n",
    "import random\n",
    "import numpy as np\n",
    "from collections import deque\n",
    "\n",
    "import json\n",
    "from collections import defaultdict\n",
    "from keras.models import model_from_json\n",
    "from keras.models import Sequential\n",
    "from keras.layers.core import Dense, Dropout, Activation, Flatten\n",
    "from keras.layers.convolutional import Convolution2D, MaxPooling2D\n",
    "from keras.optimizers import SGD , Adam\n",
    "import tensorflow as tf"
   ]
  },
  {
   "cell_type": "markdown",
   "metadata": {
    "deletable": true,
    "editable": true
   },
   "source": [
    "### Data Dictionary : Yellow Taxi Cab\n",
    "- VendorID A code indicating the TPEP provider that provided the record.\n",
    "1= Creative Mobile Technologies, LLC; 2= VeriFone Inc.\n",
    "- tpep_pickup_datetime The date and time when the meter was engaged.\n",
    "- tpep_dropoff_datetime The date and time when the meter was disengaged.\n",
    "- Passenger_count The number of passengers in the vehicle.\n",
    " This is a driver-entered value.\n",
    "- Trip_distance The elapsed trip distance in miles reported by the taximeter.\n",
    "- Pickup_longitude Longitude where the meter was engaged.\n",
    "- Pickup_latitude Latitude where the meter was engaged.\n",
    "- RateCodeID The final rate code in effect at the end of the trip.\n",
    " 1= Standard rate \n",
    " 2=JFK\n",
    " 3=Newark\n",
    " 4=Nassau or Westchester\n",
    " 5=Negotiated fare\n",
    " 6=Group ride\n",
    "- Store_and_fwd_flag This flag indicates whether the trip record was held in vehicle\n",
    " memory before sending to the vendor, aka “store and forward,”\n",
    " because the vehicle did not have a connection to the server.\n",
    "- Y= store and forward trip\n",
    "- N= not a store and forward trip\n",
    "- Dropoff_longitude Longitude where the meter was disengaged.\n",
    "- Dropoff_ latitude Latitude where the meter was disengaged.\n",
    "- Payment_type A numeric code signifying how the passenger paid for the trip.\n",
    " 1= Credit card\n",
    " 2= Cash\n",
    " 3= No charge\n",
    " 4= Dispute\n",
    " 5= Unknown\n",
    " 6= Voided trip\n",
    "- Fare_amount The time-and-distance fare calculated by the meter.\n",
    "- Extra Miscellaneous extras and surcharges. Currently, this only includes\n",
    " t he 0.50 and 1 rush hour and overnight charges.\n",
    " M TA_tax 0.50 MTA tax that is automatically triggered based on the metered\n",
    " rate in use.\n",
    "- Improvement_surcharge 0.30 improvement surcharge assessed trips at the flag drop. The\n",
    "- improvement surcharge began being levied in 2015.\n",
    "- Tip_amount Tip amount – This field is automatically populated for credit card\n",
    " tips. Cash tips are not included.\n",
    "- Tolls_amount Total amount of all tolls paid in trip.\n",
    "- Total_amount The total amount charged to passengers. Does not include cash tips.\n",
    "\n",
    "### Geohash dictionary the distance between geohashes based on matching characters, in meters.\n",
    "_PRECISION = {\n",
    "    0: 20000000,\n",
    "    1: 5003530,\n",
    "    2: 625441,\n",
    "    3: 123264,\n",
    "    4: 19545,\n",
    "    5: 3803,\n",
    "    6: 610,\n",
    "    7: 118,\n",
    "    8: 19,\n",
    "    9: 3.71,\n",
    "    10: 0.6,\n",
    "}\n",
    "\n",
    "### Average speed of taxis in Manhattan\n",
    "- In 2014, it dropped to 8.51 MPH. http://www.wnyc.org/story/traffic-speeds-slow-nyc-wants-curb-car-service-growth/\n",
    "- 8.51 MPH is 3.80431 meters / second\n",
    "\n",
    "### Geohash units are meters\n",
    "- http://stackoverflow.com/questions/13448595/geohash-string-length-and-accuracy"
   ]
  },
  {
   "cell_type": "code",
   "execution_count": null,
   "metadata": {
    "collapsed": true,
    "deletable": true,
    "editable": true
   },
   "outputs": [],
   "source": []
  },
  {
   "cell_type": "code",
   "execution_count": 4,
   "metadata": {
    "collapsed": false,
    "deletable": true,
    "editable": true
   },
   "outputs": [],
   "source": [
    "#yellow_taxi_geohash_min_day\n",
    "taxi_yellowcab_df = pd.read_csv(\"data/yellow_taxi_geohash_min_day.csv\")"
   ]
  },
  {
   "cell_type": "code",
   "execution_count": 10,
   "metadata": {
    "collapsed": false,
    "deletable": true,
    "editable": true
   },
   "outputs": [],
   "source": [
    "# Encoding error\n",
    "taxi_yellowcab_df['geohash_dropoff']=taxi_yellowcab_df['geohas_dropoff']\n",
    "#drop unnecessary columns\n",
    "taxi_yellowcab_df.drop(['Unnamed: 0','Unnamed: 0.1'],inplace=True,axis=1)"
   ]
  },
  {
   "cell_type": "code",
   "execution_count": 11,
   "metadata": {
    "collapsed": false,
    "deletable": true,
    "editable": true
   },
   "outputs": [
    {
     "name": "stdout",
     "output_type": "stream",
     "text": [
      "<class 'pandas.core.frame.DataFrame'>\n",
      "RangeIndex: 10906858 entries, 0 to 10906857\n",
      "Data columns (total 24 columns):\n",
      "VendorID                 int64\n",
      "tpep_pickup_datetime     object\n",
      "tpep_dropoff_datetime    object\n",
      "passenger_count          int64\n",
      "trip_distance            float64\n",
      "pickup_longitude         float64\n",
      "pickup_latitude          float64\n",
      "RatecodeID               int64\n",
      "store_and_fwd_flag       object\n",
      "dropoff_longitude        float64\n",
      "dropoff_latitude         float64\n",
      "payment_type             int64\n",
      "fare_amount              float64\n",
      "extra                    float64\n",
      "mta_tax                  float64\n",
      "tip_amount               float64\n",
      "tolls_amount             float64\n",
      "improvement_surcharge    float64\n",
      "total_amount             float64\n",
      "geohash_pickup           object\n",
      "geohas_dropoff           object\n",
      "jan_day                  int64\n",
      "jan_minute               int64\n",
      "geohash_dropoff          object\n",
      "dtypes: float64(12), int64(6), object(6)\n",
      "memory usage: 2.0+ GB\n"
     ]
    }
   ],
   "source": [
    "taxi_yellowcab_df.info()"
   ]
  },
  {
   "cell_type": "code",
   "execution_count": 13,
   "metadata": {
    "collapsed": false,
    "deletable": true,
    "editable": true
   },
   "outputs": [
    {
     "data": {
      "text/html": [
       "<div>\n",
       "<table border=\"1\" class=\"dataframe\">\n",
       "  <thead>\n",
       "    <tr style=\"text-align: right;\">\n",
       "      <th></th>\n",
       "      <th>Unnamed: 0</th>\n",
       "      <th>Unnamed: 0.1</th>\n",
       "      <th>VendorID</th>\n",
       "      <th>tpep_pickup_datetime</th>\n",
       "      <th>tpep_dropoff_datetime</th>\n",
       "      <th>passenger_count</th>\n",
       "      <th>trip_distance</th>\n",
       "      <th>pickup_longitude</th>\n",
       "      <th>pickup_latitude</th>\n",
       "      <th>RatecodeID</th>\n",
       "      <th>...</th>\n",
       "      <th>mta_tax</th>\n",
       "      <th>tip_amount</th>\n",
       "      <th>tolls_amount</th>\n",
       "      <th>improvement_surcharge</th>\n",
       "      <th>total_amount</th>\n",
       "      <th>geohash_pickup</th>\n",
       "      <th>geohas_dropoff</th>\n",
       "      <th>jan_day</th>\n",
       "      <th>jan_minute</th>\n",
       "      <th>geohash_dropoff</th>\n",
       "    </tr>\n",
       "  </thead>\n",
       "  <tbody>\n",
       "    <tr>\n",
       "      <th>0</th>\n",
       "      <td>0</td>\n",
       "      <td>0</td>\n",
       "      <td>2</td>\n",
       "      <td>2016-01-01 00:00:00</td>\n",
       "      <td>2016-01-01 00:00:00</td>\n",
       "      <td>2</td>\n",
       "      <td>1.10</td>\n",
       "      <td>-73.990372</td>\n",
       "      <td>40.734695</td>\n",
       "      <td>1</td>\n",
       "      <td>...</td>\n",
       "      <td>0.5</td>\n",
       "      <td>0.0</td>\n",
       "      <td>0.0</td>\n",
       "      <td>0.3</td>\n",
       "      <td>8.8</td>\n",
       "      <td>dr5rsr</td>\n",
       "      <td>dr5rsx</td>\n",
       "      <td>1</td>\n",
       "      <td>0</td>\n",
       "      <td>dr5rsx</td>\n",
       "    </tr>\n",
       "    <tr>\n",
       "      <th>1</th>\n",
       "      <td>1</td>\n",
       "      <td>1</td>\n",
       "      <td>2</td>\n",
       "      <td>2016-01-01 00:00:00</td>\n",
       "      <td>2016-01-01 00:00:00</td>\n",
       "      <td>5</td>\n",
       "      <td>4.90</td>\n",
       "      <td>-73.980782</td>\n",
       "      <td>40.729912</td>\n",
       "      <td>1</td>\n",
       "      <td>...</td>\n",
       "      <td>0.5</td>\n",
       "      <td>0.0</td>\n",
       "      <td>0.0</td>\n",
       "      <td>0.3</td>\n",
       "      <td>19.3</td>\n",
       "      <td>dr5rsw</td>\n",
       "      <td>dr5rtk</td>\n",
       "      <td>1</td>\n",
       "      <td>0</td>\n",
       "      <td>dr5rtk</td>\n",
       "    </tr>\n",
       "    <tr>\n",
       "      <th>2</th>\n",
       "      <td>2</td>\n",
       "      <td>2</td>\n",
       "      <td>2</td>\n",
       "      <td>2016-01-01 00:00:00</td>\n",
       "      <td>2016-01-01 00:00:00</td>\n",
       "      <td>1</td>\n",
       "      <td>10.54</td>\n",
       "      <td>-73.984550</td>\n",
       "      <td>40.679565</td>\n",
       "      <td>1</td>\n",
       "      <td>...</td>\n",
       "      <td>0.5</td>\n",
       "      <td>0.0</td>\n",
       "      <td>0.0</td>\n",
       "      <td>0.3</td>\n",
       "      <td>34.3</td>\n",
       "      <td>dr5rkm</td>\n",
       "      <td>dr72j1</td>\n",
       "      <td>1</td>\n",
       "      <td>0</td>\n",
       "      <td>dr72j1</td>\n",
       "    </tr>\n",
       "    <tr>\n",
       "      <th>3</th>\n",
       "      <td>3</td>\n",
       "      <td>3</td>\n",
       "      <td>2</td>\n",
       "      <td>2016-01-01 00:00:00</td>\n",
       "      <td>2016-01-01 00:00:00</td>\n",
       "      <td>1</td>\n",
       "      <td>4.75</td>\n",
       "      <td>-73.993469</td>\n",
       "      <td>40.718990</td>\n",
       "      <td>1</td>\n",
       "      <td>...</td>\n",
       "      <td>0.5</td>\n",
       "      <td>0.0</td>\n",
       "      <td>0.0</td>\n",
       "      <td>0.3</td>\n",
       "      <td>17.3</td>\n",
       "      <td>dr5rsh</td>\n",
       "      <td>dr5rkc</td>\n",
       "      <td>1</td>\n",
       "      <td>0</td>\n",
       "      <td>dr5rkc</td>\n",
       "    </tr>\n",
       "    <tr>\n",
       "      <th>4</th>\n",
       "      <td>4</td>\n",
       "      <td>4</td>\n",
       "      <td>2</td>\n",
       "      <td>2016-01-01 00:00:00</td>\n",
       "      <td>2016-01-01 00:00:00</td>\n",
       "      <td>3</td>\n",
       "      <td>1.76</td>\n",
       "      <td>-73.960625</td>\n",
       "      <td>40.781330</td>\n",
       "      <td>1</td>\n",
       "      <td>...</td>\n",
       "      <td>0.5</td>\n",
       "      <td>0.0</td>\n",
       "      <td>0.0</td>\n",
       "      <td>0.3</td>\n",
       "      <td>8.8</td>\n",
       "      <td>dr72hb</td>\n",
       "      <td>dr5rue</td>\n",
       "      <td>1</td>\n",
       "      <td>0</td>\n",
       "      <td>dr5rue</td>\n",
       "    </tr>\n",
       "    <tr>\n",
       "      <th>5</th>\n",
       "      <td>5</td>\n",
       "      <td>5</td>\n",
       "      <td>2</td>\n",
       "      <td>2016-01-01 00:00:00</td>\n",
       "      <td>2016-01-01 00:18:30</td>\n",
       "      <td>2</td>\n",
       "      <td>5.52</td>\n",
       "      <td>-73.980118</td>\n",
       "      <td>40.743050</td>\n",
       "      <td>1</td>\n",
       "      <td>...</td>\n",
       "      <td>0.5</td>\n",
       "      <td>0.0</td>\n",
       "      <td>0.0</td>\n",
       "      <td>0.3</td>\n",
       "      <td>20.3</td>\n",
       "      <td>dr5ru9</td>\n",
       "      <td>dr5ryh</td>\n",
       "      <td>1</td>\n",
       "      <td>18</td>\n",
       "      <td>dr5ryh</td>\n",
       "    </tr>\n",
       "    <tr>\n",
       "      <th>6</th>\n",
       "      <td>6</td>\n",
       "      <td>6</td>\n",
       "      <td>2</td>\n",
       "      <td>2016-01-01 00:00:00</td>\n",
       "      <td>2016-01-01 00:26:45</td>\n",
       "      <td>2</td>\n",
       "      <td>7.45</td>\n",
       "      <td>-73.994057</td>\n",
       "      <td>40.719990</td>\n",
       "      <td>1</td>\n",
       "      <td>...</td>\n",
       "      <td>0.5</td>\n",
       "      <td>0.0</td>\n",
       "      <td>0.0</td>\n",
       "      <td>0.3</td>\n",
       "      <td>27.3</td>\n",
       "      <td>dr5rsh</td>\n",
       "      <td>dr72hc</td>\n",
       "      <td>1</td>\n",
       "      <td>26</td>\n",
       "      <td>dr72hc</td>\n",
       "    </tr>\n",
       "    <tr>\n",
       "      <th>7</th>\n",
       "      <td>7</td>\n",
       "      <td>7</td>\n",
       "      <td>1</td>\n",
       "      <td>2016-01-01 00:00:01</td>\n",
       "      <td>2016-01-01 00:11:55</td>\n",
       "      <td>1</td>\n",
       "      <td>1.20</td>\n",
       "      <td>-73.979424</td>\n",
       "      <td>40.744614</td>\n",
       "      <td>1</td>\n",
       "      <td>...</td>\n",
       "      <td>0.5</td>\n",
       "      <td>0.0</td>\n",
       "      <td>0.0</td>\n",
       "      <td>0.3</td>\n",
       "      <td>10.3</td>\n",
       "      <td>dr5ru9</td>\n",
       "      <td>dr5ru7</td>\n",
       "      <td>1</td>\n",
       "      <td>11</td>\n",
       "      <td>dr5ru7</td>\n",
       "    </tr>\n",
       "    <tr>\n",
       "      <th>8</th>\n",
       "      <td>8</td>\n",
       "      <td>8</td>\n",
       "      <td>1</td>\n",
       "      <td>2016-01-01 00:00:02</td>\n",
       "      <td>2016-01-01 00:11:14</td>\n",
       "      <td>1</td>\n",
       "      <td>6.00</td>\n",
       "      <td>-73.947151</td>\n",
       "      <td>40.791046</td>\n",
       "      <td>1</td>\n",
       "      <td>...</td>\n",
       "      <td>0.5</td>\n",
       "      <td>0.0</td>\n",
       "      <td>0.0</td>\n",
       "      <td>0.3</td>\n",
       "      <td>19.3</td>\n",
       "      <td>dr72j3</td>\n",
       "      <td>dr72mz</td>\n",
       "      <td>1</td>\n",
       "      <td>11</td>\n",
       "      <td>dr72mz</td>\n",
       "    </tr>\n",
       "    <tr>\n",
       "      <th>9</th>\n",
       "      <td>9</td>\n",
       "      <td>9</td>\n",
       "      <td>2</td>\n",
       "      <td>2016-01-01 00:00:02</td>\n",
       "      <td>2016-01-01 00:11:08</td>\n",
       "      <td>1</td>\n",
       "      <td>3.21</td>\n",
       "      <td>-73.998344</td>\n",
       "      <td>40.723896</td>\n",
       "      <td>1</td>\n",
       "      <td>...</td>\n",
       "      <td>0.5</td>\n",
       "      <td>0.0</td>\n",
       "      <td>0.0</td>\n",
       "      <td>0.3</td>\n",
       "      <td>12.8</td>\n",
       "      <td>dr5rsj</td>\n",
       "      <td>dr5rkp</td>\n",
       "      <td>1</td>\n",
       "      <td>11</td>\n",
       "      <td>dr5rkp</td>\n",
       "    </tr>\n",
       "  </tbody>\n",
       "</table>\n",
       "<p>10 rows × 26 columns</p>\n",
       "</div>"
      ],
      "text/plain": [
       "   Unnamed: 0  Unnamed: 0.1  VendorID tpep_pickup_datetime  \\\n",
       "0           0             0         2  2016-01-01 00:00:00   \n",
       "1           1             1         2  2016-01-01 00:00:00   \n",
       "2           2             2         2  2016-01-01 00:00:00   \n",
       "3           3             3         2  2016-01-01 00:00:00   \n",
       "4           4             4         2  2016-01-01 00:00:00   \n",
       "5           5             5         2  2016-01-01 00:00:00   \n",
       "6           6             6         2  2016-01-01 00:00:00   \n",
       "7           7             7         1  2016-01-01 00:00:01   \n",
       "8           8             8         1  2016-01-01 00:00:02   \n",
       "9           9             9         2  2016-01-01 00:00:02   \n",
       "\n",
       "  tpep_dropoff_datetime  passenger_count  trip_distance  pickup_longitude  \\\n",
       "0   2016-01-01 00:00:00                2           1.10        -73.990372   \n",
       "1   2016-01-01 00:00:00                5           4.90        -73.980782   \n",
       "2   2016-01-01 00:00:00                1          10.54        -73.984550   \n",
       "3   2016-01-01 00:00:00                1           4.75        -73.993469   \n",
       "4   2016-01-01 00:00:00                3           1.76        -73.960625   \n",
       "5   2016-01-01 00:18:30                2           5.52        -73.980118   \n",
       "6   2016-01-01 00:26:45                2           7.45        -73.994057   \n",
       "7   2016-01-01 00:11:55                1           1.20        -73.979424   \n",
       "8   2016-01-01 00:11:14                1           6.00        -73.947151   \n",
       "9   2016-01-01 00:11:08                1           3.21        -73.998344   \n",
       "\n",
       "   pickup_latitude  RatecodeID       ...        mta_tax  tip_amount  \\\n",
       "0        40.734695           1       ...            0.5         0.0   \n",
       "1        40.729912           1       ...            0.5         0.0   \n",
       "2        40.679565           1       ...            0.5         0.0   \n",
       "3        40.718990           1       ...            0.5         0.0   \n",
       "4        40.781330           1       ...            0.5         0.0   \n",
       "5        40.743050           1       ...            0.5         0.0   \n",
       "6        40.719990           1       ...            0.5         0.0   \n",
       "7        40.744614           1       ...            0.5         0.0   \n",
       "8        40.791046           1       ...            0.5         0.0   \n",
       "9        40.723896           1       ...            0.5         0.0   \n",
       "\n",
       "   tolls_amount  improvement_surcharge  total_amount  geohash_pickup  \\\n",
       "0           0.0                    0.3           8.8          dr5rsr   \n",
       "1           0.0                    0.3          19.3          dr5rsw   \n",
       "2           0.0                    0.3          34.3          dr5rkm   \n",
       "3           0.0                    0.3          17.3          dr5rsh   \n",
       "4           0.0                    0.3           8.8          dr72hb   \n",
       "5           0.0                    0.3          20.3          dr5ru9   \n",
       "6           0.0                    0.3          27.3          dr5rsh   \n",
       "7           0.0                    0.3          10.3          dr5ru9   \n",
       "8           0.0                    0.3          19.3          dr72j3   \n",
       "9           0.0                    0.3          12.8          dr5rsj   \n",
       "\n",
       "   geohas_dropoff  jan_day  jan_minute  geohash_dropoff  \n",
       "0          dr5rsx        1           0           dr5rsx  \n",
       "1          dr5rtk        1           0           dr5rtk  \n",
       "2          dr72j1        1           0           dr72j1  \n",
       "3          dr5rkc        1           0           dr5rkc  \n",
       "4          dr5rue        1           0           dr5rue  \n",
       "5          dr5ryh        1          18           dr5ryh  \n",
       "6          dr72hc        1          26           dr72hc  \n",
       "7          dr5ru7        1          11           dr5ru7  \n",
       "8          dr72mz        1          11           dr72mz  \n",
       "9          dr5rkp        1          11           dr5rkp  \n",
       "\n",
       "[10 rows x 26 columns]"
      ]
     },
     "execution_count": 13,
     "metadata": {},
     "output_type": "execute_result"
    }
   ],
   "source": [
    "taxi_yellowcab_df.head(10)"
   ]
  },
  {
   "cell_type": "code",
   "execution_count": 14,
   "metadata": {
    "collapsed": false,
    "deletable": true,
    "editable": true
   },
   "outputs": [
    {
     "data": {
      "text/plain": [
       "datetime.date(2016, 11, 1)"
      ]
     },
     "execution_count": 14,
     "metadata": {},
     "output_type": "execute_result"
    }
   ],
   "source": [
    "from datetime import datetime, timedelta, date\n",
    "import dateutil\n",
    "st_date = '2016-11-01'\n",
    "dt = dateutil.parser.parse(st_date).date()\n",
    "dt"
   ]
  },
  {
   "cell_type": "markdown",
   "metadata": {
    "deletable": true,
    "editable": true
   },
   "source": [
    "## Create new columns for the day, minute, and month of january\n",
    "- Don't run again, save this as csv"
   ]
  },
  {
   "cell_type": "code",
   "execution_count": 15,
   "metadata": {
    "collapsed": false,
    "deletable": true,
    "editable": true
   },
   "outputs": [],
   "source": [
    "#taxi_yellowcab_df['jan_day']=[dateutil.parser.parse(i).day for i in taxi_yellowcab_df.tpep_dropoff_datetime]"
   ]
  },
  {
   "cell_type": "code",
   "execution_count": 16,
   "metadata": {
    "collapsed": true,
    "deletable": true,
    "editable": true
   },
   "outputs": [],
   "source": [
    "#taxi_yellowcab_df['jan_minute']=[dateutil.parser.parse(i).minute for i in taxi_yellowcab_df.tpep_dropoff_datetime]"
   ]
  },
  {
   "cell_type": "code",
   "execution_count": 17,
   "metadata": {
    "collapsed": false,
    "deletable": true,
    "editable": true
   },
   "outputs": [],
   "source": [
    "#taxi_yellowcab_df.to_csv(\"data/yellow_taxi_geohash_min_day.csv\")"
   ]
  },
  {
   "cell_type": "code",
   "execution_count": 327,
   "metadata": {
    "collapsed": false,
    "deletable": true,
    "editable": true
   },
   "outputs": [],
   "source": [
    "#taxi_yellowcab_df['month'] =[i.month for i in taxi_yellowcab_df.tpep_pickup_datetime]"
   ]
  },
  {
   "cell_type": "code",
   "execution_count": 329,
   "metadata": {
    "collapsed": false,
    "deletable": true,
    "editable": true
   },
   "outputs": [
    {
     "data": {
      "text/plain": [
       "array([1])"
      ]
     },
     "execution_count": 329,
     "metadata": {},
     "output_type": "execute_result"
    }
   ],
   "source": [
    "#taxi_yellowcab_df['month'].unique()"
   ]
  },
  {
   "cell_type": "code",
   "execution_count": 328,
   "metadata": {
    "collapsed": false,
    "deletable": true,
    "editable": true
   },
   "outputs": [
    {
     "data": {
      "text/html": [
       "<div>\n",
       "<table border=\"1\" class=\"dataframe\">\n",
       "  <thead>\n",
       "    <tr style=\"text-align: right;\">\n",
       "      <th></th>\n",
       "      <th>Unnamed: 0</th>\n",
       "      <th>Unnamed: 0.1</th>\n",
       "      <th>VendorID</th>\n",
       "      <th>tpep_pickup_datetime</th>\n",
       "      <th>tpep_dropoff_datetime</th>\n",
       "      <th>passenger_count</th>\n",
       "      <th>trip_distance</th>\n",
       "      <th>pickup_longitude</th>\n",
       "      <th>pickup_latitude</th>\n",
       "      <th>RatecodeID</th>\n",
       "      <th>...</th>\n",
       "      <th>tip_amount</th>\n",
       "      <th>tolls_amount</th>\n",
       "      <th>improvement_surcharge</th>\n",
       "      <th>total_amount</th>\n",
       "      <th>geohash_pickup</th>\n",
       "      <th>geohas_dropoff</th>\n",
       "      <th>jan_day</th>\n",
       "      <th>jan_minute</th>\n",
       "      <th>geohash_dropoff</th>\n",
       "      <th>month</th>\n",
       "    </tr>\n",
       "  </thead>\n",
       "  <tbody>\n",
       "  </tbody>\n",
       "</table>\n",
       "<p>0 rows × 27 columns</p>\n",
       "</div>"
      ],
      "text/plain": [
       "Empty DataFrame\n",
       "Columns: [Unnamed: 0, Unnamed: 0.1, VendorID, tpep_pickup_datetime, tpep_dropoff_datetime, passenger_count, trip_distance, pickup_longitude, pickup_latitude, RatecodeID, store_and_fwd_flag, dropoff_longitude, dropoff_latitude, payment_type, fare_amount, extra, mta_tax, tip_amount, tolls_amount, improvement_surcharge, total_amount, geohash_pickup, geohas_dropoff, jan_day, jan_minute, geohash_dropoff, month]\n",
       "Index: []\n",
       "\n",
       "[0 rows x 27 columns]"
      ]
     },
     "execution_count": 328,
     "metadata": {},
     "output_type": "execute_result"
    }
   ],
   "source": [
    "## filter to only have dates from January\n",
    "#taxi_yellowcab_df[taxi_yellowcab_df['month']==2]"
   ]
  },
  {
   "cell_type": "code",
   "execution_count": null,
   "metadata": {
    "collapsed": true,
    "deletable": true,
    "editable": true
   },
   "outputs": [],
   "source": []
  },
  {
   "cell_type": "code",
   "execution_count": null,
   "metadata": {
    "collapsed": true,
    "deletable": true,
    "editable": true
   },
   "outputs": [],
   "source": []
  },
  {
   "cell_type": "markdown",
   "metadata": {
    "deletable": true,
    "editable": true
   },
   "source": [
    "- Transform lat and long to zip code\n",
    "\n",
    ">zip_code_data from: https://github.com/EverythingMe/geodis\n"
   ]
  },
  {
   "cell_type": "markdown",
   "metadata": {
    "deletable": true,
    "editable": true
   },
   "source": [
    "### Create a geohash of the latitude and longtitude of the pickup and dropoff"
   ]
  },
  {
   "cell_type": "code",
   "execution_count": 123,
   "metadata": {
    "collapsed": false,
    "deletable": true,
    "editable": true
   },
   "outputs": [],
   "source": [
    "def geohash_encoding(taxi_df,precision_=6):\n",
    "    \"\"\"Encode the latitude and longtitude of the pickup and dropoff into a geohash. For reference, the precision\n",
    "    of a geohash depends on the number of characters present.\n",
    "    _PRECISION = { 0: 20000000, 1: 5003530, 2: 625441, 3: 123264, 4: 19545,\n",
    "    5: 3803, 6: 610, 7: 118, 8: 19, 9: 3.71, 10: 0.6, } - all distances in meters.\n",
    "    \n",
    "    Average taxi speed in 2014 was 5.51 miles per hour, or 3.8 meters per second.\n",
    "    Precision of 5, means that a taxi should traverse this square in ~16 minutes avg. speed 8.6 MPH.\n",
    "    Precision of 6, means a taxi should traverse square in ~3 minutes using average speed of 8.6mph.\n",
    "    Precision of 7, means a taxi should traverse the square in ~1 minute.\n",
    "    \n",
    "    Input: Pandas DF\n",
    "    Output: Pandas DF with geohas column appended\"\"\"\n",
    "    now = time.time()\n",
    "    new_taxidf = taxi_df.copy()\n",
    "    geo_hash_pickup = []\n",
    "    geo_hash_dropoff = []\n",
    "    for row in new_taxidf.iterrows():\n",
    "        # longittude followed by latitude\n",
    "        pickup_vector = np.array( [row[1]['pickup_latitude'],row[1]['pickup_longitude']])\n",
    "        dropoff_vector = np.array( [row[1]['dropoff_latitude'],row[1]['dropoff_longitude']])\n",
    "        #geohash encoding\n",
    "        geo_hash_pickup.append(gh.encode(pickup_vector[0],pickup_vector[1],precision=precision_))\n",
    "        geo_hash_dropoff.append(gh.encode(dropoff_vector[0],dropoff_vector[1],precision=precision_))\n",
    "    ## add in the new geohash columns\n",
    "    new_taxidf['geohash_pickup'] = geo_hash_pickup\n",
    "    new_taxidf['geohash_dropoff'] = geo_hash_dropoff \n",
    "    return new_taxidf\n",
    "        \n",
    "    \n",
    "    "
   ]
  },
  {
   "cell_type": "markdown",
   "metadata": {
    "deletable": true,
    "editable": true
   },
   "source": [
    "> Time how long this will take to run for 10 million rows\n",
    "- 1k samples takes .297 seconds\n",
    "- 10k samples takes 2.34 seconds\n",
    "- 10 million rows is 1,000x 10k so 2340 seconds or 39 minutes"
   ]
  },
  {
   "cell_type": "code",
   "execution_count": 117,
   "metadata": {
    "collapsed": false,
    "deletable": true,
    "editable": true
   },
   "outputs": [],
   "source": [
    "# Already ran this\n",
    "#taxi_yellowcab_jan_geohash_df = geohash_encoding(taxi_yellowcab_df)"
   ]
  },
  {
   "cell_type": "code",
   "execution_count": 18,
   "metadata": {
    "collapsed": false,
    "deletable": true,
    "editable": true
   },
   "outputs": [
    {
     "data": {
      "text/html": [
       "<div>\n",
       "<table border=\"1\" class=\"dataframe\">\n",
       "  <thead>\n",
       "    <tr style=\"text-align: right;\">\n",
       "      <th></th>\n",
       "      <th>Unnamed: 0</th>\n",
       "      <th>Unnamed: 0.1</th>\n",
       "      <th>VendorID</th>\n",
       "      <th>tpep_pickup_datetime</th>\n",
       "      <th>tpep_dropoff_datetime</th>\n",
       "      <th>passenger_count</th>\n",
       "      <th>trip_distance</th>\n",
       "      <th>pickup_longitude</th>\n",
       "      <th>pickup_latitude</th>\n",
       "      <th>RatecodeID</th>\n",
       "      <th>...</th>\n",
       "      <th>mta_tax</th>\n",
       "      <th>tip_amount</th>\n",
       "      <th>tolls_amount</th>\n",
       "      <th>improvement_surcharge</th>\n",
       "      <th>total_amount</th>\n",
       "      <th>geohash_pickup</th>\n",
       "      <th>geohas_dropoff</th>\n",
       "      <th>jan_day</th>\n",
       "      <th>jan_minute</th>\n",
       "      <th>geohash_dropoff</th>\n",
       "    </tr>\n",
       "  </thead>\n",
       "  <tbody>\n",
       "    <tr>\n",
       "      <th>0</th>\n",
       "      <td>0</td>\n",
       "      <td>0</td>\n",
       "      <td>2</td>\n",
       "      <td>2016-01-01 00:00:00</td>\n",
       "      <td>2016-01-01 00:00:00</td>\n",
       "      <td>2</td>\n",
       "      <td>1.10</td>\n",
       "      <td>-73.990372</td>\n",
       "      <td>40.734695</td>\n",
       "      <td>1</td>\n",
       "      <td>...</td>\n",
       "      <td>0.5</td>\n",
       "      <td>0.0</td>\n",
       "      <td>0.0</td>\n",
       "      <td>0.3</td>\n",
       "      <td>8.8</td>\n",
       "      <td>dr5rsr</td>\n",
       "      <td>dr5rsx</td>\n",
       "      <td>1</td>\n",
       "      <td>0</td>\n",
       "      <td>dr5rsx</td>\n",
       "    </tr>\n",
       "    <tr>\n",
       "      <th>1</th>\n",
       "      <td>1</td>\n",
       "      <td>1</td>\n",
       "      <td>2</td>\n",
       "      <td>2016-01-01 00:00:00</td>\n",
       "      <td>2016-01-01 00:00:00</td>\n",
       "      <td>5</td>\n",
       "      <td>4.90</td>\n",
       "      <td>-73.980782</td>\n",
       "      <td>40.729912</td>\n",
       "      <td>1</td>\n",
       "      <td>...</td>\n",
       "      <td>0.5</td>\n",
       "      <td>0.0</td>\n",
       "      <td>0.0</td>\n",
       "      <td>0.3</td>\n",
       "      <td>19.3</td>\n",
       "      <td>dr5rsw</td>\n",
       "      <td>dr5rtk</td>\n",
       "      <td>1</td>\n",
       "      <td>0</td>\n",
       "      <td>dr5rtk</td>\n",
       "    </tr>\n",
       "    <tr>\n",
       "      <th>2</th>\n",
       "      <td>2</td>\n",
       "      <td>2</td>\n",
       "      <td>2</td>\n",
       "      <td>2016-01-01 00:00:00</td>\n",
       "      <td>2016-01-01 00:00:00</td>\n",
       "      <td>1</td>\n",
       "      <td>10.54</td>\n",
       "      <td>-73.984550</td>\n",
       "      <td>40.679565</td>\n",
       "      <td>1</td>\n",
       "      <td>...</td>\n",
       "      <td>0.5</td>\n",
       "      <td>0.0</td>\n",
       "      <td>0.0</td>\n",
       "      <td>0.3</td>\n",
       "      <td>34.3</td>\n",
       "      <td>dr5rkm</td>\n",
       "      <td>dr72j1</td>\n",
       "      <td>1</td>\n",
       "      <td>0</td>\n",
       "      <td>dr72j1</td>\n",
       "    </tr>\n",
       "    <tr>\n",
       "      <th>3</th>\n",
       "      <td>3</td>\n",
       "      <td>3</td>\n",
       "      <td>2</td>\n",
       "      <td>2016-01-01 00:00:00</td>\n",
       "      <td>2016-01-01 00:00:00</td>\n",
       "      <td>1</td>\n",
       "      <td>4.75</td>\n",
       "      <td>-73.993469</td>\n",
       "      <td>40.718990</td>\n",
       "      <td>1</td>\n",
       "      <td>...</td>\n",
       "      <td>0.5</td>\n",
       "      <td>0.0</td>\n",
       "      <td>0.0</td>\n",
       "      <td>0.3</td>\n",
       "      <td>17.3</td>\n",
       "      <td>dr5rsh</td>\n",
       "      <td>dr5rkc</td>\n",
       "      <td>1</td>\n",
       "      <td>0</td>\n",
       "      <td>dr5rkc</td>\n",
       "    </tr>\n",
       "    <tr>\n",
       "      <th>4</th>\n",
       "      <td>4</td>\n",
       "      <td>4</td>\n",
       "      <td>2</td>\n",
       "      <td>2016-01-01 00:00:00</td>\n",
       "      <td>2016-01-01 00:00:00</td>\n",
       "      <td>3</td>\n",
       "      <td>1.76</td>\n",
       "      <td>-73.960625</td>\n",
       "      <td>40.781330</td>\n",
       "      <td>1</td>\n",
       "      <td>...</td>\n",
       "      <td>0.5</td>\n",
       "      <td>0.0</td>\n",
       "      <td>0.0</td>\n",
       "      <td>0.3</td>\n",
       "      <td>8.8</td>\n",
       "      <td>dr72hb</td>\n",
       "      <td>dr5rue</td>\n",
       "      <td>1</td>\n",
       "      <td>0</td>\n",
       "      <td>dr5rue</td>\n",
       "    </tr>\n",
       "  </tbody>\n",
       "</table>\n",
       "<p>5 rows × 26 columns</p>\n",
       "</div>"
      ],
      "text/plain": [
       "   Unnamed: 0  Unnamed: 0.1  VendorID tpep_pickup_datetime  \\\n",
       "0           0             0         2  2016-01-01 00:00:00   \n",
       "1           1             1         2  2016-01-01 00:00:00   \n",
       "2           2             2         2  2016-01-01 00:00:00   \n",
       "3           3             3         2  2016-01-01 00:00:00   \n",
       "4           4             4         2  2016-01-01 00:00:00   \n",
       "\n",
       "  tpep_dropoff_datetime  passenger_count  trip_distance  pickup_longitude  \\\n",
       "0   2016-01-01 00:00:00                2           1.10        -73.990372   \n",
       "1   2016-01-01 00:00:00                5           4.90        -73.980782   \n",
       "2   2016-01-01 00:00:00                1          10.54        -73.984550   \n",
       "3   2016-01-01 00:00:00                1           4.75        -73.993469   \n",
       "4   2016-01-01 00:00:00                3           1.76        -73.960625   \n",
       "\n",
       "   pickup_latitude  RatecodeID       ...        mta_tax  tip_amount  \\\n",
       "0        40.734695           1       ...            0.5         0.0   \n",
       "1        40.729912           1       ...            0.5         0.0   \n",
       "2        40.679565           1       ...            0.5         0.0   \n",
       "3        40.718990           1       ...            0.5         0.0   \n",
       "4        40.781330           1       ...            0.5         0.0   \n",
       "\n",
       "   tolls_amount  improvement_surcharge  total_amount  geohash_pickup  \\\n",
       "0           0.0                    0.3           8.8          dr5rsr   \n",
       "1           0.0                    0.3          19.3          dr5rsw   \n",
       "2           0.0                    0.3          34.3          dr5rkm   \n",
       "3           0.0                    0.3          17.3          dr5rsh   \n",
       "4           0.0                    0.3           8.8          dr72hb   \n",
       "\n",
       "   geohas_dropoff  jan_day  jan_minute  geohash_dropoff  \n",
       "0          dr5rsx        1           0           dr5rsx  \n",
       "1          dr5rtk        1           0           dr5rtk  \n",
       "2          dr72j1        1           0           dr72j1  \n",
       "3          dr5rkc        1           0           dr5rkc  \n",
       "4          dr5rue        1           0           dr5rue  \n",
       "\n",
       "[5 rows x 26 columns]"
      ]
     },
     "execution_count": 18,
     "metadata": {},
     "output_type": "execute_result"
    }
   ],
   "source": [
    "taxi_yellowcab_df .head()"
   ]
  },
  {
   "cell_type": "markdown",
   "metadata": {
    "deletable": true,
    "editable": true
   },
   "source": [
    "# Finding neighbors from a dropoff geohash\n",
    "- use gh.neighbors\n",
    "- Convert these neighbors to an output index from the neural network"
   ]
  },
  {
   "cell_type": "code",
   "execution_count": 296,
   "metadata": {
    "collapsed": false,
    "deletable": true,
    "editable": true
   },
   "outputs": [
    {
     "data": {
      "text/plain": [
       "{'e': 'dr5rsz',\n",
       " 'n': 'dr5rs0',\n",
       " 'ne': 'dr5rs2',\n",
       " 'nw': 'dr5rse',\n",
       " 's': 'dr5rsw',\n",
       " 'se': 'dr5rsy',\n",
       " 'sw': 'dr5rsa',\n",
       " 'w': 'dr5rsb'}"
      ]
     },
     "execution_count": 296,
     "metadata": {},
     "output_type": "execute_result"
    }
   ],
   "source": [
    "gh.neighbors(taxi_yellowcab_df.geohash_dropoff[0])"
   ]
  },
  {
   "cell_type": "code",
   "execution_count": 297,
   "metadata": {
    "collapsed": true,
    "deletable": true,
    "editable": true
   },
   "outputs": [],
   "source": [
    "# Dictionary to convert these distances into the output from the Neural Network\n",
    "# Outputs are nine numbers which correspond to a direction to go in\n",
    "# 0) NW 1) N                     2) NE\n",
    "# 3) W  4) Stay in same geohash  5)E\n",
    "# 6)SW  7) S                    8) SE\n",
    "output_predictions_to_direction={0:'nw',1:'n',2:'ne',3:'w',4:'stay',5:'e',6:'sw',7:'s',8:'se'}"
   ]
  },
  {
   "cell_type": "code",
   "execution_count": null,
   "metadata": {
    "collapsed": true,
    "deletable": true,
    "editable": true
   },
   "outputs": [],
   "source": []
  },
  {
   "cell_type": "markdown",
   "metadata": {
    "deletable": true,
    "editable": true
   },
   "source": []
  },
  {
   "cell_type": "markdown",
   "metadata": {},
   "source": [
    "# How many different paths are there for a cab driver to take"
   ]
  },
  {
   "cell_type": "code",
   "execution_count": 111,
   "metadata": {
    "collapsed": false,
    "deletable": true,
    "editable": true
   },
   "outputs": [
    {
     "data": {
      "text/plain": [
       "2946"
      ]
     },
     "execution_count": 111,
     "metadata": {},
     "output_type": "execute_result"
    }
   ],
   "source": [
    "# How many total paths are there? Each hash has eight neighbors 9**(3086+1)-1 (nine because can go back to same node)?\n",
    "len(str(9**(3086+1)-1))"
   ]
  },
  {
   "cell_type": "code",
   "execution_count": 112,
   "metadata": {
    "collapsed": false
   },
   "outputs": [
    {
     "data": {
      "text/plain": [
       "557990287007260452078176850257448283854625046647939467912042323386512308859238999101746127248854540594776592716297338793204502200564943846768898655055408089418539677452148873489909743356020178321324751487999742226934402642965188057312649378357301799453819698802938654566681601931972461592972007566942808674588464075658269093148492798021113396457315373435472116682686026144332274431406868926010325839922152342349108607373015574922081242885999260981547308003616554950306743653367253609677104227967107442229796375277287487326244410729580686791872551398410760576334150402235907397843930637583255351077142794674301858422924503585739334981417306188399646226103952035974230061033567292584509269896091304343876388741559271193279312825131226983301428651911453232698522873685719878287058722893748670665190783486027316074000263491680103788432648382675432968035272872190180306674505039478162076957376379506701517793678192217242811722352005566338966415406311961952240157769913409372512895795432806762098220287884310855195713239707447421233580094111875097502599880891796265727745463756166781759903112300901248408388889172044783795539324794036779890126616623440968315717809406799555062767777981961484698683220514577490421771804779032455863109419791786027730841218194379639942996828764825079716719832934946296969911816997884455993502267757080185057255441427206031876236462293473557252582046105378408629212900139346533582641986674206190028195576594005045806133376818835974193573192975149982445254999723710747272248528495000714395617441711099614419031288108274039602609583595749882260617335983656506088158937350691659997472835066556704862316815146124378990758076829703080361048945308843175152746060033390783590398560209143518129431323295416440099487446119138746635917424483673512602493275238391669159308793119457494801306420004422107848618698794106222675924191488369700056936624748203986275707992351793071975144125191921079416048976441203475698833344679338577990380612574651249430417280757605905058764040180900907816186924226862372888458337882064970616529710626188571864262481715201975760075559770268104860802983655825615007613295570840308922558743811207818276585975379319719632372255055346233043004316850645843271691800232442384170499098300772396304600437128249927600924421515276722944886914674804647843429911189038084463948069360747051116747388601606873180602048094917338408607505431095598777851843655884260036147573472264773401168627567726653552461139589237208998117001720737395629568897007703278551689213589747563072774057911814348588671876693260799392818841131512185543922565011049092529647316994690449239020502377535233121626354744149224806778245323313492865976649146165989453712522839411776258068211576221645723780405658632310878345779848954525720128307668333556783899492634840774552247731585615420451241147306001240583083113872966992558270986020271255850178189733487736629932489011210466556513286804021982864477346994246852188577817088032168957051728451768"
      ]
     },
     "execution_count": 112,
     "metadata": {},
     "output_type": "execute_result"
    }
   ],
   "source": [
    "9**(3086+1)-1"
   ]
  },
  {
   "cell_type": "markdown",
   "metadata": {},
   "source": [
    "# Heat Map of the most profitable geohashes"
   ]
  },
  {
   "cell_type": "code",
   "execution_count": 100,
   "metadata": {
    "collapsed": false,
    "deletable": true,
    "editable": true
   },
   "outputs": [],
   "source": [
    "pickup_sum_fare = taxi_yellowcab_df.groupby('geohash_pickup').sum()['total_amount'].reset_index()\n"
   ]
  },
  {
   "cell_type": "code",
   "execution_count": 102,
   "metadata": {
    "collapsed": false,
    "deletable": true,
    "editable": true
   },
   "outputs": [],
   "source": [
    "pickup_sum_fare = pickup_sum_fare.sort_values(by='total_amount',ascending=False)"
   ]
  },
  {
   "cell_type": "code",
   "execution_count": 106,
   "metadata": {
    "collapsed": false,
    "deletable": true,
    "editable": true
   },
   "outputs": [],
   "source": [
    "pickup_sum_fare['total_amount']= pickup_sum_fare.total_amount.apply(lambda x: round(x))"
   ]
  },
  {
   "cell_type": "code",
   "execution_count": 107,
   "metadata": {
    "collapsed": true,
    "deletable": true,
    "editable": true
   },
   "outputs": [],
   "source": [
    "# can only plot 2k values on google maps"
   ]
  },
  {
   "cell_type": "code",
   "execution_count": 108,
   "metadata": {
    "collapsed": false,
    "deletable": true,
    "editable": true
   },
   "outputs": [],
   "source": [
    "#pickup_sum_fare.loc[:2000,:].to_csv(\"data/geohash_sum_fare_all_jan.csv\",sep=\"\\t\", index=False)"
   ]
  },
  {
   "cell_type": "code",
   "execution_count": 109,
   "metadata": {
    "collapsed": false,
    "deletable": true,
    "editable": true
   },
   "outputs": [
    {
     "data": {
      "text/plain": [
       "<matplotlib.text.Text at 0x120643240>"
      ]
     },
     "execution_count": 109,
     "metadata": {},
     "output_type": "execute_result"
    },
    {
     "data": {
      "image/png": "[encoded data removed]",
      "text/plain": [
       "<matplotlib.figure.Figure at 0x12054c400>"
      ]
     },
     "metadata": {},
     "output_type": "display_data"
    }
   ],
   "source": [
    "#plt.figure(figsize=(10,5))\n",
    "ax = pickup_sum_fare[:50].plot(x='geohash_pickup',y='total_amount',kind='bar',figsize=(13,5))\n",
    "ax.get_yaxis().set_major_formatter(\n",
    "    matplotlib.ticker.FuncFormatter(lambda x, p: format(int(x), ',')))\n",
    "plt.ylabel('Total fares received - Jan - Top 50 Geohashes')"
   ]
  },
  {
   "cell_type": "markdown",
   "metadata": {
    "collapsed": true,
    "deletable": true,
    "editable": true
   },
   "source": [
    "## Break up the day into five minute intervals( the time to traverse a geohash of ~610 meters).\n",
    "- Aggregate all of the days together so that you have one 24 hour block\n",
    "- For this 24 hour block, group by five minute periods\n",
    "- For each period, take the geohash as the key and a list of tuples of ( average fares over the month, trip times in minutes)\n",
    "- This gives an end result of the average fare and corresponding trip time and ration of fare/trip time for each geohash for a given ten minutes over each day in January"
   ]
  },
  {
   "cell_type": "code",
   "execution_count": 90,
   "metadata": {
    "collapsed": false,
    "deletable": true,
    "editable": true
   },
   "outputs": [],
   "source": [
    "# Convert trip distance into minutes using the average speed of 10 MPH ( 8.6 in Manhattan + faster in the burbs)\n",
    "def convert_miles_to_minutes_nyc(input_distance):\n",
    "    \"\"\"Convert MPH to minutes using aveage speed of 10 mph. Round to this nearest 5 minutes\"\"\"\n",
    "    mph=10\n",
    "    def myround(x, base=5):\n",
    "        nearest_five = int(base * round(float(x)/base))\n",
    "        if nearest_five ==0:\n",
    "            return 5 ## shortest trip is five minutes\n",
    "        else:\n",
    "            return nearest_five\n",
    "    minutes = input_distance /mph *60\n",
    "    return myround(minutes)\n",
    "    \n",
    "taxi_yellowcab_df['trip_time_minutes'] = taxi_yellowcab_df.trip_distance.apply(lambda x: convert_miles_to_minutes_nyc(x))"
   ]
  },
  {
   "cell_type": "code",
   "execution_count": 49,
   "metadata": {
    "collapsed": false,
    "deletable": true,
    "editable": true
   },
   "outputs": [],
   "source": [
    "# distribution of trip times\n",
    "trip_minutes_grouped = taxi_yellowcab_df.groupby('trip_time_minutes').count()"
   ]
  },
  {
   "cell_type": "code",
   "execution_count": 75,
   "metadata": {
    "collapsed": false
   },
   "outputs": [
    {
     "data": {
      "text/plain": [
       "<matplotlib.text.Text at 0x722a7e390>"
      ]
     },
     "execution_count": 75,
     "metadata": {},
     "output_type": "execute_result"
    },
    {
     "data": {
      "image/png": "[encoded data removed]",
      "text/plain": [
       "<matplotlib.figure.Figure at 0x1d1e31240>"
      ]
     },
     "metadata": {},
     "output_type": "display_data"
    }
   ],
   "source": [
    "plt.figure(figsize=(20,10))\n",
    "sns.barplot(x = trip_minutes_grouped['VendorID'].reset_index()['trip_time_minutes'][:50],\n",
    "            y= trip_minutes_grouped['VendorID'].reset_index()['VendorID'][:50])\n",
    "plt.ylabel('Number of trips')\n",
    "plt.title('Disitribution of Trip Times')"
   ]
  },
  {
   "cell_type": "code",
   "execution_count": 87,
   "metadata": {
    "collapsed": false
   },
   "outputs": [
    {
     "data": {
      "text/plain": [
       "0     5\n",
       "1    30\n",
       "2    65\n",
       "3    30\n",
       "4    10\n",
       "Name: trip_time_minutes, dtype: int64"
      ]
     },
     "execution_count": 87,
     "metadata": {},
     "output_type": "execute_result"
    }
   ],
   "source": [
    "taxi_yellowcab_df['trip_time_minutes'].head()"
   ]
  },
  {
   "cell_type": "code",
   "execution_count": null,
   "metadata": {
    "collapsed": true
   },
   "outputs": [],
   "source": []
  },
  {
   "cell_type": "code",
   "execution_count": 91,
   "metadata": {
    "collapsed": true,
    "deletable": true,
    "editable": true
   },
   "outputs": [],
   "source": [
    "# Only pull the columns we need \n",
    "average_fare_during_day = taxi_yellowcab_df.loc[:,('tpep_pickup_datetime','trip_time_minutes',\n",
    "                            'tpep_dropoff_datetime','total_amount','geohash_dropoff','geohash_pickup','jan_day')]"
   ]
  },
  {
   "cell_type": "code",
   "execution_count": 92,
   "metadata": {
    "collapsed": false,
    "deletable": true,
    "editable": true
   },
   "outputs": [],
   "source": [
    "average_fare_during_day.tpep_pickup_datetime = pd.to_datetime(average_fare_during_day.tpep_pickup_datetime)\n"
   ]
  },
  {
   "cell_type": "code",
   "execution_count": 93,
   "metadata": {
    "collapsed": false,
    "deletable": true,
    "editable": true
   },
   "outputs": [],
   "source": [
    "average_fare_during_day.index = average_fare_during_day.tpep_pickup_datetime\n"
   ]
  },
  {
   "cell_type": "code",
   "execution_count": 94,
   "metadata": {
    "collapsed": false
   },
   "outputs": [
    {
     "data": {
      "text/html": [
       "<div>\n",
       "<table border=\"1\" class=\"dataframe\">\n",
       "  <thead>\n",
       "    <tr style=\"text-align: right;\">\n",
       "      <th></th>\n",
       "      <th>tpep_pickup_datetime</th>\n",
       "      <th>trip_time_minutes</th>\n",
       "      <th>tpep_dropoff_datetime</th>\n",
       "      <th>total_amount</th>\n",
       "      <th>geohash_dropoff</th>\n",
       "      <th>geohash_pickup</th>\n",
       "      <th>jan_day</th>\n",
       "    </tr>\n",
       "    <tr>\n",
       "      <th>tpep_pickup_datetime</th>\n",
       "      <th></th>\n",
       "      <th></th>\n",
       "      <th></th>\n",
       "      <th></th>\n",
       "      <th></th>\n",
       "      <th></th>\n",
       "      <th></th>\n",
       "    </tr>\n",
       "  </thead>\n",
       "  <tbody>\n",
       "    <tr>\n",
       "      <th>2016-01-01</th>\n",
       "      <td>2016-01-01</td>\n",
       "      <td>5</td>\n",
       "      <td>2016-01-01 00:00:00</td>\n",
       "      <td>8.8</td>\n",
       "      <td>dr5rsx</td>\n",
       "      <td>dr5rsr</td>\n",
       "      <td>1</td>\n",
       "    </tr>\n",
       "    <tr>\n",
       "      <th>2016-01-01</th>\n",
       "      <td>2016-01-01</td>\n",
       "      <td>30</td>\n",
       "      <td>2016-01-01 00:00:00</td>\n",
       "      <td>19.3</td>\n",
       "      <td>dr5rtk</td>\n",
       "      <td>dr5rsw</td>\n",
       "      <td>1</td>\n",
       "    </tr>\n",
       "    <tr>\n",
       "      <th>2016-01-01</th>\n",
       "      <td>2016-01-01</td>\n",
       "      <td>65</td>\n",
       "      <td>2016-01-01 00:00:00</td>\n",
       "      <td>34.3</td>\n",
       "      <td>dr72j1</td>\n",
       "      <td>dr5rkm</td>\n",
       "      <td>1</td>\n",
       "    </tr>\n",
       "    <tr>\n",
       "      <th>2016-01-01</th>\n",
       "      <td>2016-01-01</td>\n",
       "      <td>30</td>\n",
       "      <td>2016-01-01 00:00:00</td>\n",
       "      <td>17.3</td>\n",
       "      <td>dr5rkc</td>\n",
       "      <td>dr5rsh</td>\n",
       "      <td>1</td>\n",
       "    </tr>\n",
       "    <tr>\n",
       "      <th>2016-01-01</th>\n",
       "      <td>2016-01-01</td>\n",
       "      <td>10</td>\n",
       "      <td>2016-01-01 00:00:00</td>\n",
       "      <td>8.8</td>\n",
       "      <td>dr5rue</td>\n",
       "      <td>dr72hb</td>\n",
       "      <td>1</td>\n",
       "    </tr>\n",
       "  </tbody>\n",
       "</table>\n",
       "</div>"
      ],
      "text/plain": [
       "                     tpep_pickup_datetime  trip_time_minutes  \\\n",
       "tpep_pickup_datetime                                           \n",
       "2016-01-01                     2016-01-01                  5   \n",
       "2016-01-01                     2016-01-01                 30   \n",
       "2016-01-01                     2016-01-01                 65   \n",
       "2016-01-01                     2016-01-01                 30   \n",
       "2016-01-01                     2016-01-01                 10   \n",
       "\n",
       "                     tpep_dropoff_datetime  total_amount geohash_dropoff  \\\n",
       "tpep_pickup_datetime                                                       \n",
       "2016-01-01             2016-01-01 00:00:00           8.8          dr5rsx   \n",
       "2016-01-01             2016-01-01 00:00:00          19.3          dr5rtk   \n",
       "2016-01-01             2016-01-01 00:00:00          34.3          dr72j1   \n",
       "2016-01-01             2016-01-01 00:00:00          17.3          dr5rkc   \n",
       "2016-01-01             2016-01-01 00:00:00           8.8          dr5rue   \n",
       "\n",
       "                     geohash_pickup  jan_day  \n",
       "tpep_pickup_datetime                          \n",
       "2016-01-01                   dr5rsr        1  \n",
       "2016-01-01                   dr5rsw        1  \n",
       "2016-01-01                   dr5rkm        1  \n",
       "2016-01-01                   dr5rsh        1  \n",
       "2016-01-01                   dr72hb        1  "
      ]
     },
     "execution_count": 94,
     "metadata": {},
     "output_type": "execute_result"
    }
   ],
   "source": [
    "average_fare_during_day.head()"
   ]
  },
  {
   "cell_type": "code",
   "execution_count": 95,
   "metadata": {
    "collapsed": false,
    "deletable": true,
    "editable": true
   },
   "outputs": [],
   "source": [
    "grouped_pickup_fares = average_fare_during_day.groupby(pd.TimeGrouper(freq='5Min')).apply(\n",
    "    lambda x: x.groupby('geohash_pickup').mean())"
   ]
  },
  {
   "cell_type": "code",
   "execution_count": 96,
   "metadata": {
    "collapsed": false,
    "deletable": true,
    "editable": true
   },
   "outputs": [],
   "source": [
    "grouped_pickup_fares  = grouped_pickup_fares.reset_index()"
   ]
  },
  {
   "cell_type": "code",
   "execution_count": 97,
   "metadata": {
    "collapsed": false,
    "deletable": true,
    "editable": true
   },
   "outputs": [],
   "source": [
    "# groupby again only on minutes this time\n",
    "grouped_pickup_fares['time'] = grouped_pickup_fares.tpep_pickup_datetime.apply(lambda x : x.time())"
   ]
  },
  {
   "cell_type": "code",
   "execution_count": 98,
   "metadata": {
    "collapsed": false,
    "deletable": true,
    "editable": true
   },
   "outputs": [
    {
     "data": {
      "text/html": [
       "<div>\n",
       "<table border=\"1\" class=\"dataframe\">\n",
       "  <thead>\n",
       "    <tr style=\"text-align: right;\">\n",
       "      <th></th>\n",
       "      <th>tpep_pickup_datetime</th>\n",
       "      <th>geohash_pickup</th>\n",
       "      <th>trip_time_minutes</th>\n",
       "      <th>total_amount</th>\n",
       "      <th>jan_day</th>\n",
       "      <th>time</th>\n",
       "    </tr>\n",
       "  </thead>\n",
       "  <tbody>\n",
       "    <tr>\n",
       "      <th>0</th>\n",
       "      <td>2016-01-01</td>\n",
       "      <td>7zzzzz</td>\n",
       "      <td>12.500000</td>\n",
       "      <td>13.050625</td>\n",
       "      <td>1.0</td>\n",
       "      <td>00:00:00</td>\n",
       "    </tr>\n",
       "    <tr>\n",
       "      <th>1</th>\n",
       "      <td>2016-01-01</td>\n",
       "      <td>dr5rec</td>\n",
       "      <td>55.000000</td>\n",
       "      <td>28.300000</td>\n",
       "      <td>1.0</td>\n",
       "      <td>00:00:00</td>\n",
       "    </tr>\n",
       "    <tr>\n",
       "      <th>2</th>\n",
       "      <td>2016-01-01</td>\n",
       "      <td>dr5ree</td>\n",
       "      <td>5.000000</td>\n",
       "      <td>20.800000</td>\n",
       "      <td>1.0</td>\n",
       "      <td>00:00:00</td>\n",
       "    </tr>\n",
       "    <tr>\n",
       "      <th>3</th>\n",
       "      <td>2016-01-01</td>\n",
       "      <td>dr5ref</td>\n",
       "      <td>20.833333</td>\n",
       "      <td>15.693333</td>\n",
       "      <td>1.0</td>\n",
       "      <td>00:00:00</td>\n",
       "    </tr>\n",
       "    <tr>\n",
       "      <th>4</th>\n",
       "      <td>2016-01-01</td>\n",
       "      <td>dr5reg</td>\n",
       "      <td>23.333333</td>\n",
       "      <td>18.533333</td>\n",
       "      <td>1.0</td>\n",
       "      <td>00:00:00</td>\n",
       "    </tr>\n",
       "  </tbody>\n",
       "</table>\n",
       "</div>"
      ],
      "text/plain": [
       "  tpep_pickup_datetime geohash_pickup  trip_time_minutes  total_amount  \\\n",
       "0           2016-01-01         7zzzzz          12.500000     13.050625   \n",
       "1           2016-01-01         dr5rec          55.000000     28.300000   \n",
       "2           2016-01-01         dr5ree           5.000000     20.800000   \n",
       "3           2016-01-01         dr5ref          20.833333     15.693333   \n",
       "4           2016-01-01         dr5reg          23.333333     18.533333   \n",
       "\n",
       "   jan_day      time  \n",
       "0      1.0  00:00:00  \n",
       "1      1.0  00:00:00  \n",
       "2      1.0  00:00:00  \n",
       "3      1.0  00:00:00  \n",
       "4      1.0  00:00:00  "
      ]
     },
     "execution_count": 98,
     "metadata": {},
     "output_type": "execute_result"
    }
   ],
   "source": [
    "grouped_pickup_fares .head()"
   ]
  },
  {
   "cell_type": "code",
   "execution_count": 100,
   "metadata": {
    "collapsed": false
   },
   "outputs": [],
   "source": [
    "# change the trip time to be a factor of five again\n",
    "def myround(x, base=5):\n",
    "        nearest_five = int(base * round(float(x)/base))\n",
    "        if nearest_five ==0:\n",
    "            return 5 ## shortest trip is five minutes\n",
    "        else:\n",
    "            return nearest_five\n",
    "grouped_pickup_fares.trip_time_minutes = grouped_pickup_fares.trip_time_minutes.apply(lambda x: myround(x))"
   ]
  },
  {
   "cell_type": "code",
   "execution_count": 101,
   "metadata": {
    "collapsed": false,
    "deletable": true,
    "editable": true
   },
   "outputs": [],
   "source": [
    "average_fares_throughout_day_geohash = grouped_pickup_fares.groupby(\n",
    "    ['time','geohash_pickup','jan_day','trip_time_minutes']).mean().reset_index()"
   ]
  },
  {
   "cell_type": "code",
   "execution_count": 102,
   "metadata": {
    "collapsed": false,
    "deletable": true,
    "editable": true
   },
   "outputs": [],
   "source": [
    "average_fares_throughout_day_geohash['average_fare'] = average_fares_throughout_day_geohash['total_amount']\n",
    "average_fares_throughout_day_geohash.drop('total_amount',inplace=True,axis=1)"
   ]
  },
  {
   "cell_type": "code",
   "execution_count": 187,
   "metadata": {
    "collapsed": false
   },
   "outputs": [],
   "source": [
    "## convert the string of time into an integer\n",
    "def time_to_int(time):\n",
    "    hour = str(time.hour)\n",
    "    minutes = str(time.minute)\n",
    "    if len(hour)==1:\n",
    "        hour ='0'+hour\n",
    "    if len(minutes)==1:\n",
    "        minutes = '0'+minutes\n",
    "    return int(hour+minutes)\n",
    "average_fares_throughout_day_geohash.time = average_fares_throughout_day_geohash.time.apply(lambda x: time_to_int(x))"
   ]
  },
  {
   "cell_type": "code",
   "execution_count": 208,
   "metadata": {
    "collapsed": false
   },
   "outputs": [
    {
     "data": {
      "text/plain": [
       "982035    2355\n",
       "982036    2355\n",
       "982037    2355\n",
       "982038    2355\n",
       "982039    2355\n",
       "Name: time, dtype: int64"
      ]
     },
     "execution_count": 208,
     "metadata": {},
     "output_type": "execute_result"
    }
   ],
   "source": [
    "average_fares_throughout_day_geohash.time.tail() # midnight is now 0"
   ]
  },
  {
   "cell_type": "code",
   "execution_count": 205,
   "metadata": {
    "collapsed": false,
    "deletable": true,
    "editable": true
   },
   "outputs": [],
   "source": [
    "# Turn this into a dictionary where the key is the time : key is the geohas : value is a list of a tuple of fares,\n",
    "# time, fare divided by time\n",
    "# on average for that day for that geohash \n",
    "\n",
    "time_geohash_fare_dict = defaultdict(lambda : defaultdict(list))"
   ]
  },
  {
   "cell_type": "code",
   "execution_count": 206,
   "metadata": {
    "collapsed": false,
    "deletable": true,
    "editable": true
   },
   "outputs": [],
   "source": [
    "for row in average_fares_throughout_day_geohash.iterrows():\n",
    "    # Create a dict of dict of a list of tuples - tuple is (fare, trip-minutes, fare/trip-minutes)\n",
    "\n",
    "    time_geohash_fare_dict[row[1]['time']][row[1]['geohash_pickup']].append(\n",
    "    (row[1]['average_fare'],row[1]['trip_time_minutes'],row[1]['average_fare']/(row[1]['trip_time_minutes']+.000000001)))\n"
   ]
  },
  {
   "cell_type": "code",
   "execution_count": 212,
   "metadata": {
    "collapsed": false,
    "deletable": true,
    "editable": true
   },
   "outputs": [
    {
     "data": {
      "text/plain": [
       "[(19.62545454545454, 20, 0.9812727272236634),\n",
       " (10.66375, 15, 0.7109166666192722),\n",
       " (14.304800000000002, 20, 0.7152399999642381),\n",
       " (18.312499999999996, 30, 0.6104166666463193),\n",
       " (35.85, 15, 2.3899999998406667),\n",
       " (21.926250000000003, 20, 1.0963124999451845),\n",
       " (24.080000000000002, 10, 2.4079999997592),\n",
       " (15.987857142857147, 20, 0.7993928571028877),\n",
       " (19.24666666666667, 20, 0.9623333332852169),\n",
       " (14.967083333333337, 15, 0.9978055554890354),\n",
       " (28.507499999999997, 20, 1.425374999928731),\n",
       " (22.775000000000002, 30, 0.7591666666413612),\n",
       " (26.528333333333336, 25, 1.061133333290888),\n",
       " (13.094999999999999, 20, 0.6547499999672625),\n",
       " (23.794375000000002, 25, 0.951774999961929),\n",
       " (18.226666666666674, 25, 0.7290666666375043),\n",
       " (13.440454545454545, 15, 0.8960303029705676),\n",
       " (14.093636363636364, 15, 0.9395757575131192),\n",
       " (23.42333333333334, 15, 1.5615555554514522),\n",
       " (16.810000000000002, 25, 0.6723999999731041),\n",
       " (20.621000000000002, 20, 1.0310499999484477),\n",
       " (18.48166666666667, 20, 0.9240833332871293),\n",
       " (14.140000000000004, 15, 0.9426666666038225),\n",
       " (15.3, 20, 0.76499999996175),\n",
       " (28.604285714285716, 40, 0.7151071428392652),\n",
       " (25.619999999999997, 15, 1.707999999886133),\n",
       " (14.968749999999998, 15, 0.9979166666001388),\n",
       " (24.827500000000004, 25, 0.9930999999602762),\n",
       " (17.394242424242425, 15, 1.1596161615388538),\n",
       " (13.913333333333336, 10, 1.3913333331942002)]"
      ]
     },
     "execution_count": 212,
     "metadata": {},
     "output_type": "execute_result"
    }
   ],
   "source": [
    "# test the dictionary # fare followed by time in minutes)\n",
    "time_geohash_fare_dict[115]['7zzzzz']"
   ]
  },
  {
   "cell_type": "code",
   "execution_count": 226,
   "metadata": {
    "collapsed": false,
    "deletable": true,
    "editable": true
   },
   "outputs": [
    {
     "data": {
      "text/plain": [
       "[(48.87133333333332, 15, 3.258088888671682),\n",
       " (24.65, 40, 0.6162499999845937),\n",
       " (11.410000000000002, 10, 1.1409999998859002),\n",
       " (15.143333333333333, 25, 0.605733333309104),\n",
       " (20.418, 30, 0.6805999999773134),\n",
       " (11.894444444444442, 15, 0.7929629629100986),\n",
       " (17.953333333333333, 25, 0.7181333333046079),\n",
       " (14.90625, 20, 0.7453124999627344),\n",
       " (28.386666666666667, 40, 0.7096666666489251),\n",
       " (34.31333333333333, 60, 0.5718888888793574),\n",
       " (14.976666666666667, 20, 0.7488333332958916),\n",
       " (23.72142857142857, 25, 0.9488571428191885),\n",
       " (18.258888888888887, 30, 0.6086296296093419),\n",
       " (13.047999999999998, 15, 0.8698666666086754),\n",
       " (11.77, 15, 0.7846666666143555),\n",
       " (43.74333333333333, 15, 2.916222222027807),\n",
       " (74.3, 80, 0.9287499999883906),\n",
       " (59.379999999999995, 40, 1.4844999999628876),\n",
       " (9.227999999999998, 10, 0.9227999999077198),\n",
       " (21.27857142857143, 20, 1.063928571375375),\n",
       " (19.254, 25, 0.7701599999691936),\n",
       " (18.447000000000006, 25, 0.737879999970485),\n",
       " (29.793333333333337, 45, 0.6620740740593615),\n",
       " (28.718, 45, 0.6381777777635961),\n",
       " (14.81875, 20, 0.7409374999629531),\n",
       " (9.352, 15, 0.6234666666251022),\n",
       " (11.564285714285713, 15, 0.7709523809009841),\n",
       " (73.56500000000001, 35, 2.1018571427970905),\n",
       " (36.521666666666675, 45, 0.8115925925745574)]"
      ]
     },
     "execution_count": 226,
     "metadata": {},
     "output_type": "execute_result"
    }
   ],
   "source": [
    "# test the dictionary and ensure that the fare and the time changes, fare followed by time in minutes\n",
    "time_geohash_fare_dict[555]['7zzzzz']"
   ]
  },
  {
   "cell_type": "markdown",
   "metadata": {},
   "source": [
    "## Index the geohashes to a number\n",
    "## List of possible times"
   ]
  },
  {
   "cell_type": "code",
   "execution_count": 241,
   "metadata": {
    "collapsed": false
   },
   "outputs": [
    {
     "data": {
      "text/plain": [
       "3086"
      ]
     },
     "execution_count": 241,
     "metadata": {},
     "output_type": "execute_result"
    }
   ],
   "source": [
    "## get a list of unique geohashes\n",
    "list_of_unique_geohashes = taxi_yellowcab_df.geohash_pickup.unique()\n",
    "len(unique_geohashes)"
   ]
  },
  {
   "cell_type": "code",
   "execution_count": 243,
   "metadata": {
    "collapsed": false
   },
   "outputs": [],
   "source": [
    "list_of_geohash_index  = defaultdict(int)\n",
    "for idx,hash_n in enumerate(list_of_unique_geohashes):\n",
    "    list_of_geohash_index [hash_n] = idx"
   ]
  },
  {
   "cell_type": "code",
   "execution_count": 238,
   "metadata": {
    "collapsed": true
   },
   "outputs": [],
   "source": [
    "list_of_inverse_heohash_index = defaultdict(str)\n",
    "for idx,hash_n in enumerate(unique_geohashes):\n",
    "    list_of_inverse_heohash_index[idx] = hash_n"
   ]
  },
  {
   "cell_type": "code",
   "execution_count": 236,
   "metadata": {
    "collapsed": true
   },
   "outputs": [],
   "source": [
    "list_of_time_index = average_fares_throughout_day_geohash.time.unique()"
   ]
  },
  {
   "cell_type": "code",
   "execution_count": 237,
   "metadata": {
    "collapsed": false
   },
   "outputs": [
    {
     "data": {
      "text/plain": [
       "array([   0,    5,   10,   15,   20,   25,   30,   35,   40,   45,   50,\n",
       "         55,  100,  105,  110,  115,  120,  125,  130,  135,  140,  145,\n",
       "        150,  155,  200,  205,  210,  215,  220,  225,  230,  235,  240,\n",
       "        245,  250,  255,  300,  305,  310,  315,  320,  325,  330,  335,\n",
       "        340,  345,  350,  355,  400,  405,  410,  415,  420,  425,  430,\n",
       "        435,  440,  445,  450,  455,  500,  505,  510,  515,  520,  525,\n",
       "        530,  535,  540,  545,  550,  555,  600,  605,  610,  615,  620,\n",
       "        625,  630,  635,  640,  645,  650,  655,  700,  705,  710,  715,\n",
       "        720,  725,  730,  735,  740,  745,  750,  755,  800,  805,  810,\n",
       "        815,  820,  825,  830,  835,  840,  845,  850,  855,  900,  905,\n",
       "        910,  915,  920,  925,  930,  935,  940,  945,  950,  955, 1000,\n",
       "       1005, 1010, 1015, 1020, 1025, 1030, 1035, 1040, 1045, 1050, 1055,\n",
       "       1100, 1105, 1110, 1115, 1120, 1125, 1130, 1135, 1140, 1145, 1150,\n",
       "       1155, 1200, 1205, 1210, 1215, 1220, 1225, 1230, 1235, 1240, 1245,\n",
       "       1250, 1255, 1300, 1305, 1310, 1315, 1320, 1325, 1330, 1335, 1340,\n",
       "       1345, 1350, 1355, 1400, 1405, 1410, 1415, 1420, 1425, 1430, 1435,\n",
       "       1440, 1445, 1450, 1455, 1500, 1505, 1510, 1515, 1520, 1525, 1530,\n",
       "       1535, 1540, 1545, 1550, 1555, 1600, 1605, 1610, 1615, 1620, 1625,\n",
       "       1630, 1635, 1640, 1645, 1650, 1655, 1700, 1705, 1710, 1715, 1720,\n",
       "       1725, 1730, 1735, 1740, 1745, 1750, 1755, 1800, 1805, 1810, 1815,\n",
       "       1820, 1825, 1830, 1835, 1840, 1845, 1850, 1855, 1900, 1905, 1910,\n",
       "       1915, 1920, 1925, 1930, 1935, 1940, 1945, 1950, 1955, 2000, 2005,\n",
       "       2010, 2015, 2020, 2025, 2030, 2035, 2040, 2045, 2050, 2055, 2100,\n",
       "       2105, 2110, 2115, 2120, 2125, 2130, 2135, 2140, 2145, 2150, 2155,\n",
       "       2200, 2205, 2210, 2215, 2220, 2225, 2230, 2235, 2240, 2245, 2250,\n",
       "       2255, 2300, 2305, 2310, 2315, 2320, 2325, 2330, 2335, 2340, 2345,\n",
       "       2350, 2355])"
      ]
     },
     "execution_count": 237,
     "metadata": {},
     "output_type": "execute_result"
    }
   ],
   "source": [
    "list_of_time_index"
   ]
  },
  {
   "cell_type": "code",
   "execution_count": null,
   "metadata": {
    "collapsed": true
   },
   "outputs": [],
   "source": []
  },
  {
   "cell_type": "markdown",
   "metadata": {
    "collapsed": true,
    "deletable": true,
    "editable": true
   },
   "source": [
    "# Use an Actor Critic Model\n",
    "- https://yanpanlau.github.io/2016/10/11/Torcs-Keras.html"
   ]
  },
  {
   "cell_type": "code",
   "execution_count": 75,
   "metadata": {
    "collapsed": true,
    "deletable": true,
    "editable": true
   },
   "outputs": [],
   "source": [
    "def create_actor_network(self, state_size,action_dim):\n",
    "        print(\"Now we build the model\")\n",
    "        S = Input(shape=[state_size])  \n",
    "        h0 = Dense(HIDDEN1_UNITS, activation='relu')(S)\n",
    "        h1 = Dense(HIDDEN2_UNITS, activation='relu')(h0)\n",
    "        Steering = Dense(1,activation='tanh',init=lambda shape, name: normal(shape, scale=1e-4, name=name))(h1)   \n",
    "        Acceleration = Dense(1,activation='sigmoid',init=lambda shape, name: normal(shape, scale=1e-4, name=name))(h1)   \n",
    "        Brake = Dense(1,activation='sigmoid',init=lambda shape, name: normal(shape, scale=1e-4, name=name))(h1)   \n",
    "        V = merge([Steering,Acceleration,Brake],mode='concat')          \n",
    "        model = Model(input=S,output=V)\n",
    "        print(\"We finished building the model\")\n",
    "        return model, model.trainable_weights, S"
   ]
  },
  {
   "cell_type": "code",
   "execution_count": 41,
   "metadata": {
    "collapsed": false,
    "deletable": true,
    "editable": true
   },
   "outputs": [
    {
     "name": "stdout",
     "output_type": "stream",
     "text": [
      "Now we build the model\n",
      "____________________________________________________________________________________________________\n",
      "Layer (type)                     Output Shape          Param #     Connected to                     \n",
      "====================================================================================================\n",
      "input_18 (InputLayer)            (None, 5)             0                                            \n",
      "____________________________________________________________________________________________________\n",
      "dense_75 (Dense)                 (None, 10)            60                                           \n",
      "____________________________________________________________________________________________________\n",
      "dense_76 (Dense)                 (None, 20)            220                                          \n",
      "____________________________________________________________________________________________________\n",
      "dense_77 (Dense)                 (None, 1)             21                                           \n",
      "____________________________________________________________________________________________________\n",
      "dense_78 (Dense)                 (None, 1)             21                                           \n",
      "____________________________________________________________________________________________________\n",
      "dense_79 (Dense)                 (None, 1)             21                                           \n",
      "====================================================================================================\n",
      "Total params: 343.0\n",
      "Trainable params: 343.0\n",
      "Non-trainable params: 0.0\n",
      "____________________________________________________________________________________________________\n",
      "We finished building the model\n"
     ]
    },
    {
     "name": "stderr",
     "output_type": "stream",
     "text": [
      "/Users/jonathanhilgart/anaconda/envs/dl/lib/python3.6/site-packages/keras/legacy/interfaces.py:86: UserWarning: Update your `Model` call to the Keras 2 API: `Model(inputs=Tensor(\"in..., outputs=[<tf.Tenso...)`\n",
      "  '` call to the Keras 2 API: ' + signature)\n"
     ]
    }
   ],
   "source": [
    "## Actor\n",
    "HIDDEN1_UNITS=10\n",
    "HIDDEN2_UNITS=20\n",
    "state_size=5\n",
    "print(\"Now we build the model\")\n",
    "S = Input(shape=[state_size])\n",
    "h0 = Dense(HIDDEN1_UNITS, activation='relu')(S)\n",
    "h1 = Dense(HIDDEN2_UNITS, activation='relu')(h0)\n",
    "\n",
    "Steering = Dense(1,activation='tanh')(h1)   \n",
    "Acceleration = Dense(1,activation='sigmoid')(h1)   \n",
    "Brake = Dense(1,activation='sigmoid')(h1)   \n",
    "V = Concatenate([Steering,Acceleration,Brake])\n",
    "\n",
    "model = Model(inputs=S,output=[Steering,Acceleration,Brake])\n",
    "model.summary()\n",
    "print(\"We finished building the model\")\n"
   ]
  },
  {
   "cell_type": "code",
   "execution_count": 50,
   "metadata": {
    "collapsed": false,
    "deletable": true,
    "editable": true
   },
   "outputs": [
    {
     "ename": "TypeError",
     "evalue": "__init__() takes 1 positional argument but 3 were given",
     "output_type": "error",
     "traceback": [
      "\u001b[0;31m---------------------------------------------------------------------------\u001b[0m",
      "\u001b[0;31mTypeError\u001b[0m                                 Traceback (most recent call last)",
      "\u001b[0;32m<ipython-input-50-ffd45f30b01e>\u001b[0m in \u001b[0;36m<module>\u001b[0;34m()\u001b[0m\n\u001b[1;32m      6\u001b[0m \u001b[0ma1\u001b[0m \u001b[0;34m=\u001b[0m \u001b[0mDense\u001b[0m\u001b[0;34m(\u001b[0m\u001b[0mHIDDEN2_UNITS\u001b[0m\u001b[0;34m,\u001b[0m \u001b[0mactivation\u001b[0m\u001b[0;34m=\u001b[0m\u001b[0;34m'linear'\u001b[0m\u001b[0;34m)\u001b[0m\u001b[0;34m(\u001b[0m\u001b[0mA\u001b[0m\u001b[0;34m)\u001b[0m\u001b[0;34m\u001b[0m\u001b[0m\n\u001b[1;32m      7\u001b[0m \u001b[0mh1\u001b[0m \u001b[0;34m=\u001b[0m \u001b[0mDense\u001b[0m\u001b[0;34m(\u001b[0m\u001b[0mHIDDEN2_UNITS\u001b[0m\u001b[0;34m,\u001b[0m \u001b[0mactivation\u001b[0m\u001b[0;34m=\u001b[0m\u001b[0;34m'linear'\u001b[0m\u001b[0;34m)\u001b[0m\u001b[0;34m(\u001b[0m\u001b[0mw1\u001b[0m\u001b[0;34m)\u001b[0m\u001b[0;34m\u001b[0m\u001b[0m\n\u001b[0;32m----> 8\u001b[0;31m \u001b[0mh2\u001b[0m \u001b[0;34m=\u001b[0m \u001b[0mAdd\u001b[0m\u001b[0;34m(\u001b[0m\u001b[0mh1\u001b[0m\u001b[0;34m,\u001b[0m\u001b[0ma1\u001b[0m\u001b[0;34m)\u001b[0m\u001b[0;34m\u001b[0m\u001b[0m\n\u001b[0m\u001b[1;32m      9\u001b[0m \u001b[0mh3\u001b[0m \u001b[0;34m=\u001b[0m \u001b[0mDense\u001b[0m\u001b[0;34m(\u001b[0m\u001b[0mHIDDEN2_UNITS\u001b[0m\u001b[0;34m,\u001b[0m \u001b[0mactivation\u001b[0m\u001b[0;34m=\u001b[0m\u001b[0;34m'relu'\u001b[0m\u001b[0;34m)\u001b[0m\u001b[0;34m(\u001b[0m\u001b[0mh2\u001b[0m\u001b[0;34m)\u001b[0m\u001b[0;34m\u001b[0m\u001b[0m\n\u001b[1;32m     10\u001b[0m \u001b[0mV\u001b[0m \u001b[0;34m=\u001b[0m \u001b[0mDense\u001b[0m\u001b[0;34m(\u001b[0m\u001b[0maction_dim\u001b[0m\u001b[0;34m,\u001b[0m\u001b[0mactivation\u001b[0m\u001b[0;34m=\u001b[0m\u001b[0;34m'linear'\u001b[0m\u001b[0;34m)\u001b[0m\u001b[0;34m(\u001b[0m\u001b[0mh3\u001b[0m\u001b[0;34m)\u001b[0m\u001b[0;34m\u001b[0m\u001b[0m\n",
      "\u001b[0;31mTypeError\u001b[0m: __init__() takes 1 positional argument but 3 were given"
     ]
    }
   ],
   "source": [
    "## Critic\n",
    "action_dim = 100\n",
    "S = Input(shape=[state_size])\n",
    "A = Input(shape=[action_dim],name='action2')    \n",
    "w1 = Dense(HIDDEN1_UNITS, activation='relu')(S)\n",
    "a1 = Dense(HIDDEN2_UNITS, activation='linear')(A)\n",
    "h1 = Dense(HIDDEN2_UNITS, activation='linear')(w1)\n",
    "h2 = Add(h1,a1)    \n",
    "h3 = Dense(HIDDEN2_UNITS, activation='relu')(h2)\n",
    "V = Dense(action_dim,activation='linear')(h3) \n",
    "\n",
    "model = Concatenate(input=[S,A],output=V)\n",
    "\n",
    "adam = Adam(lr=self.LEARNING_RATE)\n",
    "model.compile(loss='mse', optimizer=adam)\n",
    "print(\"We finished building the model\")"
   ]
  },
  {
   "cell_type": "code",
   "execution_count": null,
   "metadata": {
    "collapsed": true,
    "deletable": true,
    "editable": true
   },
   "outputs": [],
   "source": []
  },
  {
   "cell_type": "code",
   "execution_count": null,
   "metadata": {
    "collapsed": true,
    "deletable": true,
    "editable": true
   },
   "outputs": [],
   "source": []
  },
  {
   "cell_type": "code",
   "execution_count": 135,
   "metadata": {
    "collapsed": true,
    "deletable": true,
    "editable": true
   },
   "outputs": [],
   "source": [
    "# parameters\n",
    "GAME = 'bird' # the name of the game being played for log files\n",
    "CONFIG = 'nothreshold'\n",
    "ACTIONS = 9 # number of valid actions\n",
    "GAMMA = 0.99 # decay rate of past observations\n",
    "OBSERVATION = 3200. # timesteps to observe before training\n",
    "EXPLORE = 3000000. # frames over which to anneal epsilon\n",
    "FINAL_EPSILON = 0.0001 # final value of epsilon\n",
    "INITIAL_EPSILON = 0.1 # starting value of epsilon\n",
    "REPLAY_MEMORY = 50000 # number of previous transitions to remember\n",
    "BATCH = 32 # size of minibatch\n",
    "FRAME_PER_ACTION = 1\n",
    "LEARNING_RATE = 1e-4"
   ]
  },
  {
   "cell_type": "code",
   "execution_count": 218,
   "metadata": {
    "collapsed": false
   },
   "outputs": [],
   "source": [
    "##define some test inputs , time, state\n",
    "X = np.array([[10,2]])"
   ]
  },
  {
   "cell_type": "code",
   "execution_count": 281,
   "metadata": {
    "collapsed": false,
    "deletable": true,
    "editable": true
   },
   "outputs": [
    {
     "name": "stdout",
     "output_type": "stream",
     "text": [
      "_________________________________________________________________\n",
      "Layer (type)                 Output Shape              Param #   \n",
      "=================================================================\n",
      "dense_13 (Dense)             (None, 100)               300       \n",
      "_________________________________________________________________\n",
      "dense_14 (Dense)             (None, 9)                 909       \n",
      "=================================================================\n",
      "Total params: 1,209.0\n",
      "Trainable params: 1,209\n",
      "Non-trainable params: 0.0\n",
      "_________________________________________________________________\n"
     ]
    }
   ],
   "source": [
    "##Define a simple model where the output is a softmax probability over the eight states\n",
    "# Inputs will be the time, current geohash-index ()\n",
    "# Outputs are nine numbers which correspond to a direction to go in\n",
    "# 0) NW 1) N                     2) NE\n",
    "# 3) W  4) Stay in same geohash  5)E\n",
    "# 6)SW  7) S                    8) SE\n",
    "model_simple = Sequential()\n",
    "model_simple.add(Dense(100, activation='relu', input_shape= (2,)))\n",
    "model_simple.add(Dense(9, activation='softmax')) ## predict which geohash to move to next\n",
    "adam = Adam(lr=LEARNING_RATE)\n",
    "model_simple.compile(loss='mse',optimizer=adam)\n",
    "model_simple.summary()\n"
   ]
  },
  {
   "cell_type": "code",
   "execution_count": 282,
   "metadata": {
    "collapsed": false
   },
   "outputs": [
    {
     "data": {
      "text/plain": [
       "array([[ 0.06836795,  0.02239234,  0.01410827,  0.01209796,  0.35565951,\n",
       "         0.2706784 ,  0.15476888,  0.04057044,  0.06135627]], dtype=float32)"
      ]
     },
     "execution_count": 282,
     "metadata": {},
     "output_type": "execute_result"
    }
   ],
   "source": [
    "model_simple.predict(X)"
   ]
  },
  {
   "cell_type": "code",
   "execution_count": 256,
   "metadata": {
    "collapsed": false
   },
   "outputs": [
    {
     "data": {
      "text/plain": [
       "770"
      ]
     },
     "execution_count": 256,
     "metadata": {},
     "output_type": "execute_result"
    }
   ],
   "source": [
    "list_of_geohash_index[np.random.choice(list_of_unique_geohashes)] # index of geohash"
   ]
  },
  {
   "cell_type": "code",
   "execution_count": 259,
   "metadata": {
    "collapsed": false
   },
   "outputs": [
    {
     "data": {
      "text/plain": [
       "1410"
      ]
     },
     "execution_count": 259,
     "metadata": {},
     "output_type": "execute_result"
    }
   ],
   "source": [
    "np.random.choice(list_of_time_index) # time"
   ]
  },
  {
   "cell_type": "code",
   "execution_count": 271,
   "metadata": {
    "collapsed": false
   },
   "outputs": [
    {
     "data": {
      "text/plain": [
       "array([[ 605, 2775]])"
      ]
     },
     "execution_count": 271,
     "metadata": {},
     "output_type": "execute_result"
    }
   ],
   "source": [
    "np.array([[np.random.choice(list_of_time_index),\n",
    "                     list_of_geohash_index[np.random.choice(list_of_unique_geohashes)]]])\n",
    "    "
   ]
  },
  {
   "cell_type": "code",
   "execution_count": 278,
   "metadata": {
    "collapsed": false
   },
   "outputs": [
    {
     "data": {
      "text/plain": [
       "8"
      ]
     },
     "execution_count": 278,
     "metadata": {},
     "output_type": "execute_result"
    }
   ],
   "source": [
    "random.randrange(ACTIONS)"
   ]
  },
  {
   "cell_type": "code",
   "execution_count": 319,
   "metadata": {
    "collapsed": false
   },
   "outputs": [],
   "source": [
    "def trainNetworkNeuralNetworkTaxicab(model, list_of_unique_geohashes):\n",
    "    # Code adapted from https://github.com/yanpanlau/Keras-FlappyBird/blob/master/qlearn.py\n",
    "    ## pick a random state and time to start at\n",
    "    \n",
    "    # store the previous observations in replay memory\n",
    "    D = deque()\n",
    "    \n",
    "    # get the first state by randomlly choosing a geohash to start at and random time to start at\n",
    "    starting_geohash = np.random.choice(list_of_unique_geohashes)\n",
    "    s_t = np.array([[np.random.choice(list_of_time_index),\n",
    "                     list_of_geohash_index[starting_geohash]]])\n",
    "    print(s_t,'starting time and geohash index')\n",
    "    args = {'None':0}\n",
    "    try:\n",
    "        args['mode'] == 'Run' ## don't need this\n",
    "        OBSERVE = 999999999    #We keep observe, never train\n",
    "        epsilon = FINAL_EPSILON\n",
    "        print (\"Now we load weight\")\n",
    "        model.load_weights(\"model.h5\")\n",
    "        adam = Adam(lr=LEARNING_RATE)\n",
    "        model.compile(loss='mse',optimizer=adam)\n",
    "        print (\"Weight load successfully\")    \n",
    "    except KeyError:                       #We go to training mode\n",
    "        OBSERVE = OBSERVATION\n",
    "        epsilon = INITIAL_EPSILON\n",
    "        \n",
    "    #start your observations\n",
    "    t = 0\n",
    "    while (True):\n",
    "        loss = 0\n",
    "        Q_sa = 0\n",
    "        action_index = 0\n",
    "        r_t = 0\n",
    "        a_t = np.zeros([ACTIONS])\n",
    "        print(t, ' t')\n",
    "        #choose a random action action epsilon greedy\n",
    "        if t % FRAME_PER_ACTION == 0: ## will always choose this if frame per action is 1\n",
    "            if random.random() <= epsilon:\n",
    "                print(\"----------Random Action----------\")\n",
    "                action_index = random.randrange(ACTIONS) # Randomlly choose another geohash to go to\n",
    "                a_t[action_index] = 1\n",
    "            else:\n",
    "                q = model.predict(s_t)       #input the time followed by the geohash index\n",
    "                max_Q = np.argmax(q)  # find the position of the highest probability (which direction to go in)\n",
    "                action_index = max_Q\n",
    "                a_t[max_Q] = 1\n",
    "                \n",
    "        #We reduced the epsilon gradually to take more random actions \n",
    "        if epsilon > FINAL_EPSILON and t > OBSERVE:\n",
    "            epsilon -= (INITIAL_EPSILON - FINAL_EPSILON) / EXPLORE\n",
    "            \n",
    "        #run the selected action and observed next state and reward\n",
    "        # We need to find the neighbors to the geohash that we started at\n",
    "        \n",
    "#         x_t1_colored, r_t, terminal = game_state.frame_step(a_t)\n",
    "        \n",
    "\n",
    "#         x_t1 = skimage.color.rgb2gray(x_t1_colored)\n",
    "#         x_t1 = skimage.transform.resize(x_t1,(80,80))\n",
    "#         x_t1 = skimage.exposure.rescale_intensity(x_t1, out_range=(0, 255))\n",
    "\n",
    "#         x_t1 = x_t1.reshape(1, x_t1.shape[0], x_t1.shape[1], 1) #1x80x80x1\n",
    "#         s_t1 = np.append(x_t1, s_t[:, :, :, :3], axis=3)\n",
    "\n",
    "#         # store the transition in D\n",
    "#         D.append((s_t, action_index, r_t, s_t1, terminal))\n",
    "#         if len(D) > REPLAY_MEMORY:\n",
    "#             D.popleft()\n",
    "\n",
    "            \n",
    "        #gh.neighbors()\n",
    "        print(a_t,'a_t')\n",
    "        print(output_predictions_to_direction[np.argmax(a_t)],'direction to take')\n",
    "        print(action_index,'action index')\n",
    "        break"
   ]
  },
  {
   "cell_type": "code",
   "execution_count": 325,
   "metadata": {
    "collapsed": false
   },
   "outputs": [
    {
     "name": "stdout",
     "output_type": "stream",
     "text": [
      "[[2105 2233]] starting time and geohash index\n",
      "0  t\n",
      "[ 0.  0.  0.  0.  0.  1.  0.  0.  0.] a_t\n",
      "e direction to take\n",
      "5 action index\n"
     ]
    }
   ],
   "source": [
    "trainNetworkNeuralNetworkTaxicab(model_simple, list_of_unique_geohashes)"
   ]
  },
  {
   "cell_type": "code",
   "execution_count": null,
   "metadata": {
    "collapsed": true
   },
   "outputs": [],
   "source": []
  },
  {
   "cell_type": "code",
   "execution_count": null,
   "metadata": {
    "collapsed": true,
    "deletable": true,
    "editable": true
   },
   "outputs": [],
   "source": [
    "def trainNetwork(model,args):\n",
    "    # open up a game state to communicate with emulator \n",
    "    game_state = game.GameState()\n",
    "\n",
    "    # store the previous observations in replay memory\n",
    "    D = deque()\n",
    "\n",
    "    # get the first state by doing nothing and preprocess the image to 80x80x4\n",
    "    do_nothing = np.zeros(ACTIONS)\n",
    "    do_nothing[0] = 1\n",
    "    x_t, r_0, terminal = game_state.frame_step(do_nothing)\n",
    "\n",
    "    x_t = skimage.color.rgb2gray(x_t)\n",
    "    x_t = skimage.transform.resize(x_t,(80,80))\n",
    "    x_t = skimage.exposure.rescale_intensity(x_t,out_range=(0,255))\n",
    "\n",
    "    s_t = np.stack((x_t, x_t, x_t, x_t), axis=2)\n",
    "    #print (s_t.shape)\n",
    "\n",
    "    #In Keras, need to reshape\n",
    "    s_t = s_t.reshape(1, s_t.shape[0], s_t.shape[1], s_t.shape[2])  #1*80*80*4\n",
    "    \n",
    "    if args['mode'] == 'Run': ## don't need this\n",
    "        OBSERVE = 999999999    #We keep observe, never train\n",
    "        epsilon = FINAL_EPSILON\n",
    "        print (\"Now we load weight\")\n",
    "        model.load_weights(\"model.h5\")\n",
    "        adam = Adam(lr=LEARNING_RATE)\n",
    "        model.compile(loss='mse',optimizer=adam)\n",
    "        print (\"Weight load successfully\")    \n",
    "    else:                       #We go to training mode\n",
    "        OBSERVE = OBSERVATION\n",
    "        epsilon = INITIAL_EPSILON\n",
    "\n",
    "    t = 0\n",
    "    while (True):\n",
    "        loss = 0\n",
    "        Q_sa = 0\n",
    "        action_index = 0\n",
    "        r_t = 0\n",
    "        a_t = np.zeros([ACTIONS])\n",
    "        #choose an action epsilon greedy\n",
    "        if t % FRAME_PER_ACTION == 0:\n",
    "            if random.random() <= epsilon:\n",
    "                print(\"----------Random Action----------\")\n",
    "                action_index = random.randrange(ACTIONS)\n",
    "                a_t[action_index] = 1\n",
    "            else:\n",
    "                q = model.predict(s_t)       #input a stack of 4 images, get the prediction\n",
    "                max_Q = np.argmax(q)\n",
    "                action_index = max_Q\n",
    "                a_t[max_Q] = 1\n",
    "\n",
    "        #We reduced the epsilon gradually to take more random actions \n",
    "        if epsilon > FINAL_EPSILON and t > OBSERVE:\n",
    "            epsilon -= (INITIAL_EPSILON - FINAL_EPSILON) / EXPLORE\n",
    "\n",
    "        #run the selected action and observed next state and reward\n",
    "        x_t1_colored, r_t, terminal = game_state.frame_step(a_t)\n",
    "        \n",
    "\n",
    "        x_t1 = skimage.color.rgb2gray(x_t1_colored)\n",
    "        x_t1 = skimage.transform.resize(x_t1,(80,80))\n",
    "        x_t1 = skimage.exposure.rescale_intensity(x_t1, out_range=(0, 255))\n",
    "\n",
    "        x_t1 = x_t1.reshape(1, x_t1.shape[0], x_t1.shape[1], 1) #1x80x80x1\n",
    "        s_t1 = np.append(x_t1, s_t[:, :, :, :3], axis=3)\n",
    "\n",
    "        # store the transition in D\n",
    "        D.append((s_t, action_index, r_t, s_t1, terminal))\n",
    "        if len(D) > REPLAY_MEMORY:\n",
    "            D.popleft()\n",
    "\n",
    "        #only train if done observing\n",
    "        if t > OBSERVE:\n",
    "            #sample a minibatch to train on\n",
    "            minibatch = random.sample(D, BATCH)\n",
    "\n",
    "\n",
    "\n",
    "            inputs = np.zeros((BATCH, s_t.shape[1], s_t.shape[2], s_t.shape[3]))   #32, 80, 80, 4\n",
    "            print (inputs.shape)\n",
    "            targets = np.zeros((inputs.shape[0], ACTIONS))                         #32, 2\n",
    "\n",
    "            #Now we do the experience replay\n",
    "            for i in range(0, len(minibatch)):\n",
    "                state_t = minibatch[i][0]\n",
    "                action_t = minibatch[i][1]   #This is action index\n",
    "                reward_t = minibatch[i][2]\n",
    "                state_t1 = minibatch[i][3]\n",
    "                terminal = minibatch[i][4]\n",
    "                # if terminated, only equals reward\n",
    "\n",
    "                inputs[i:i + 1] = state_t    #I saved down s_t\n",
    "\n",
    "                targets[i] = model.predict(state_t)  # Hitting each buttom probability\n",
    "                Q_sa = model.predict(state_t1)\n",
    "\n",
    "                if terminal:\n",
    "                    targets[i, action_t] = reward_t\n",
    "                else:\n",
    "                    targets[i, action_t] = reward_t + GAMMA * np.max(Q_sa)\n",
    "\n",
    "            # targets2 = normalize(targets)\n",
    "            loss += model.train_on_batch(inputs, targets)\n",
    "\n",
    "        s_t = s_t1\n",
    "        t = t + 1\n",
    "\n",
    "        # save progress every 10000 iterations\n",
    "        if t % 1000 == 0:\n",
    "            print(\"Now we save model\")\n",
    "            model.save_weights(\"model.h5\", overwrite=True)\n",
    "            with open(\"model.json\", \"w\") as outfile:\n",
    "                json.dump(model.to_json(), outfile)\n",
    "\n",
    "        # print info\n",
    "        state = \"\"\n",
    "        if t <= OBSERVE:\n",
    "            state = \"observe\"\n",
    "        elif t > OBSERVE and t <= OBSERVE + EXPLORE:\n",
    "            state = \"explore\"\n",
    "        else:\n",
    "            state = \"train\"\n",
    "\n",
    "        print(\"TIMESTEP\", t, \"/ STATE\", state, \\\n",
    "            \"/ EPSILON\", epsilon, \"/ ACTION\", action_index, \"/ REWARD\", r_t, \\\n",
    "            \"/ Q_MAX \" , np.max(Q_sa), \"/ Loss \", loss)\n",
    "\n",
    "    print(\"Episode finished!\")\n",
    "    print(\"************************\")"
   ]
  }
 ],
 "metadata": {
  "kernelspec": {
   "display_name": "Python [conda env:dl]",
   "language": "python",
   "name": "conda-env-dl-py"
  },
  "language_info": {
   "codemirror_mode": {
    "name": "ipython",
    "version": 3
   },
   "file_extension": ".py",
   "mimetype": "text/x-python",
   "name": "python",
   "nbconvert_exporter": "python",
   "pygments_lexer": "ipython3",
   "version": "3.6.0"
  }
 },
 "nbformat": 4,
 "nbformat_minor": 2
}
