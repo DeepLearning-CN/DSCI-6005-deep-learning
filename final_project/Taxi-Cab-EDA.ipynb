{
 "cells": [
  {
   "cell_type": "code",
   "execution_count": 275,
   "metadata": {
    "collapsed": false,
    "deletable": true,
    "editable": true
   },
   "outputs": [
    {
     "name": "stdout",
     "output_type": "stream",
     "text": [
      "Populating the interactive namespace from numpy and matplotlib\n"
     ]
    },
    {
     "name": "stderr",
     "output_type": "stream",
     "text": [
      "/Users/jonathanhilgart/anaconda/envs/dl/lib/python3.6/site-packages/IPython/core/magics/pylab.py:161: UserWarning: pylab import has clobbered these variables: ['random']\n",
      "`%matplotlib` prevents importing * from pylab and numpy\n",
      "  \"\\n`%matplotlib` prevents importing * from pylab and numpy\"\n"
     ]
    }
   ],
   "source": [
    "import pandas as pd\n",
    "import numpy as np\n",
    "from py_geohash_any import geohash as gh\n",
    "import datetime\n",
    "import seaborn as sns\n",
    "import matplotlib.pyplot as plt\n",
    "%pylab inline\n",
    "#!/usr/bin/env python\n",
    "from __future__ import print_function\n",
    "\n",
    "import argparse\n",
    "import random\n",
    "import numpy as np\n",
    "from collections import deque\n",
    "\n",
    "import json\n",
    "from collections import defaultdict\n",
    "from keras.models import model_from_json\n",
    "from keras.models import Sequential\n",
    "from keras.layers.core import Dense, Dropout, Activation, Flatten\n",
    "from keras.layers.convolutional import Convolution2D, MaxPooling2D\n",
    "from keras.optimizers import SGD , Adam\n",
    "import tensorflow as tf"
   ]
  },
  {
   "cell_type": "markdown",
   "metadata": {
    "deletable": true,
    "editable": true
   },
   "source": [
    "### Data Dictionary : Yellow Taxi Cab\n",
    "- VendorID A code indicating the TPEP provider that provided the record.\n",
    "1= Creative Mobile Technologies, LLC; 2= VeriFone Inc.\n",
    "- tpep_pickup_datetime The date and time when the meter was engaged.\n",
    "- tpep_dropoff_datetime The date and time when the meter was disengaged.\n",
    "- Passenger_count The number of passengers in the vehicle.\n",
    " This is a driver-entered value.\n",
    "- Trip_distance The elapsed trip distance in miles reported by the taximeter.\n",
    "- Pickup_longitude Longitude where the meter was engaged.\n",
    "- Pickup_latitude Latitude where the meter was engaged.\n",
    "- RateCodeID The final rate code in effect at the end of the trip.\n",
    " 1= Standard rate \n",
    " 2=JFK\n",
    " 3=Newark\n",
    " 4=Nassau or Westchester\n",
    " 5=Negotiated fare\n",
    " 6=Group ride\n",
    "- Store_and_fwd_flag This flag indicates whether the trip record was held in vehicle\n",
    " memory before sending to the vendor, aka “store and forward,”\n",
    " because the vehicle did not have a connection to the server.\n",
    "- Y= store and forward trip\n",
    "- N= not a store and forward trip\n",
    "- Dropoff_longitude Longitude where the meter was disengaged.\n",
    "- Dropoff_ latitude Latitude where the meter was disengaged.\n",
    "- Payment_type A numeric code signifying how the passenger paid for the trip.\n",
    " 1= Credit card\n",
    " 2= Cash\n",
    " 3= No charge\n",
    " 4= Dispute\n",
    " 5= Unknown\n",
    " 6= Voided trip\n",
    "- Fare_amount The time-and-distance fare calculated by the meter.\n",
    "- Extra Miscellaneous extras and surcharges. Currently, this only includes\n",
    " t he 0.50 and 1 rush hour and overnight charges.\n",
    " M TA_tax 0.50 MTA tax that is automatically triggered based on the metered\n",
    " rate in use.\n",
    "- Improvement_surcharge 0.30 improvement surcharge assessed trips at the flag drop. The\n",
    "- improvement surcharge began being levied in 2015.\n",
    "- Tip_amount Tip amount – This field is automatically populated for credit card\n",
    " tips. Cash tips are not included.\n",
    "- Tolls_amount Total amount of all tolls paid in trip.\n",
    "- Total_amount The total amount charged to passengers. Does not include cash tips.\n",
    "\n",
    "### Geohash dictionary the distance between geohashes based on matching characters, in meters.\n",
    "_PRECISION = {\n",
    "    0: 20000000,\n",
    "    1: 5003530,\n",
    "    2: 625441,\n",
    "    3: 123264,\n",
    "    4: 19545,\n",
    "    5: 3803,\n",
    "    6: 610,\n",
    "    7: 118,\n",
    "    8: 19,\n",
    "    9: 3.71,\n",
    "    10: 0.6,\n",
    "}\n",
    "\n",
    "### Average speed of taxis\n",
    "- In 2014, it dropped to 8.51 MPH. http://www.wnyc.org/story/traffic-speeds-slow-nyc-wants-curb-car-service-growth/\n",
    "- 8.51 MPH is 3.80431 meters / second\n",
    "\n",
    "### Geohash units are meters\n",
    "- http://stackoverflow.com/questions/13448595/geohash-string-length-and-accuracy"
   ]
  },
  {
   "cell_type": "code",
   "execution_count": null,
   "metadata": {
    "collapsed": true,
    "deletable": true,
    "editable": true
   },
   "outputs": [],
   "source": []
  },
  {
   "cell_type": "code",
   "execution_count": null,
   "metadata": {
    "collapsed": false,
    "deletable": true,
    "editable": true
   },
   "outputs": [],
   "source": [
    "#yellow_taxi_geohash_min_day\n",
    "taxi_yellowcab_df = pd.read_csv(\"data/yellow_taxi_geohash_min_day.csv\")"
   ]
  },
  {
   "cell_type": "code",
   "execution_count": null,
   "metadata": {
    "collapsed": true,
    "deletable": true,
    "editable": true
   },
   "outputs": [],
   "source": [
    "# Encoding error\n",
    "taxi_yellowcab_df['geohash_dropoff']=taxi_yellowcab_df['geohas_dropoff']"
   ]
  },
  {
   "cell_type": "code",
   "execution_count": null,
   "metadata": {
    "collapsed": true,
    "deletable": true,
    "editable": true
   },
   "outputs": [],
   "source": [
    "taxi_lookup = pd.read_csv(\"data/taxi+_zone_lookup.csv\")"
   ]
  },
  {
   "cell_type": "code",
   "execution_count": null,
   "metadata": {
    "collapsed": false,
    "deletable": true,
    "editable": true
   },
   "outputs": [],
   "source": [
    "names_ = ['zipcode','city','state','lat','long','radius?','?']\n",
    "#dataframe = read_csv('projects.csv', converters={'project_id': lambda x: str(x)})\n",
    "zip_codes = pd.read_csv(\"data/zipcode.csv\",converters={'zipcode': lambda x: str(x)},names=names_)"
   ]
  },
  {
   "cell_type": "code",
   "execution_count": null,
   "metadata": {
    "collapsed": false,
    "deletable": true,
    "editable": true
   },
   "outputs": [],
   "source": [
    "zip_codes .head()"
   ]
  },
  {
   "cell_type": "code",
   "execution_count": null,
   "metadata": {
    "collapsed": false,
    "deletable": true,
    "editable": true
   },
   "outputs": [],
   "source": [
    "taxi_lookup.head()"
   ]
  },
  {
   "cell_type": "code",
   "execution_count": null,
   "metadata": {
    "collapsed": false,
    "deletable": true,
    "editable": true
   },
   "outputs": [],
   "source": [
    "zip_codes.info()"
   ]
  },
  {
   "cell_type": "code",
   "execution_count": null,
   "metadata": {
    "collapsed": true,
    "deletable": true,
    "editable": true
   },
   "outputs": [],
   "source": [
    "# Truncate zip codes to only be NY"
   ]
  },
  {
   "cell_type": "code",
   "execution_count": null,
   "metadata": {
    "collapsed": true,
    "deletable": true,
    "editable": true
   },
   "outputs": [],
   "source": [
    "zip_codes_ny = zip_codes[zip_codes.state=='NY']"
   ]
  },
  {
   "cell_type": "code",
   "execution_count": 11,
   "metadata": {
    "collapsed": false,
    "deletable": true,
    "editable": true
   },
   "outputs": [
    {
     "name": "stdout",
     "output_type": "stream",
     "text": [
      "<class 'pandas.core.frame.DataFrame'>\n",
      "Int64Index: 2281 entries, 6 to 5721\n",
      "Data columns (total 7 columns):\n",
      "zipcode    2281 non-null object\n",
      "city       2281 non-null object\n",
      "state      2281 non-null object\n",
      "lat        2281 non-null float64\n",
      "long       2281 non-null float64\n",
      "radius?    2281 non-null int64\n",
      "?          2281 non-null int64\n",
      "dtypes: float64(2), int64(2), object(3)\n",
      "memory usage: 142.6+ KB\n"
     ]
    }
   ],
   "source": [
    "zip_codes_ny.info()"
   ]
  },
  {
   "cell_type": "code",
   "execution_count": 12,
   "metadata": {
    "collapsed": false,
    "deletable": true,
    "editable": true
   },
   "outputs": [
    {
     "name": "stdout",
     "output_type": "stream",
     "text": [
      "<class 'pandas.core.frame.DataFrame'>\n",
      "RangeIndex: 10906858 entries, 0 to 10906857\n",
      "Data columns (total 26 columns):\n",
      "Unnamed: 0               int64\n",
      "Unnamed: 0.1             int64\n",
      "VendorID                 int64\n",
      "tpep_pickup_datetime     object\n",
      "tpep_dropoff_datetime    object\n",
      "passenger_count          int64\n",
      "trip_distance            float64\n",
      "pickup_longitude         float64\n",
      "pickup_latitude          float64\n",
      "RatecodeID               int64\n",
      "store_and_fwd_flag       object\n",
      "dropoff_longitude        float64\n",
      "dropoff_latitude         float64\n",
      "payment_type             int64\n",
      "fare_amount              float64\n",
      "extra                    float64\n",
      "mta_tax                  float64\n",
      "tip_amount               float64\n",
      "tolls_amount             float64\n",
      "improvement_surcharge    float64\n",
      "total_amount             float64\n",
      "geohash_pickup           object\n",
      "geohas_dropoff           object\n",
      "jan_day                  int64\n",
      "jan_minute               int64\n",
      "geohash_dropoff          object\n",
      "dtypes: float64(12), int64(8), object(6)\n",
      "memory usage: 2.1+ GB\n"
     ]
    }
   ],
   "source": [
    "taxi_yellowcab_df.info()"
   ]
  },
  {
   "cell_type": "code",
   "execution_count": 13,
   "metadata": {
    "collapsed": false,
    "deletable": true,
    "editable": true
   },
   "outputs": [
    {
     "data": {
      "text/html": [
       "<div>\n",
       "<table border=\"1\" class=\"dataframe\">\n",
       "  <thead>\n",
       "    <tr style=\"text-align: right;\">\n",
       "      <th></th>\n",
       "      <th>Unnamed: 0</th>\n",
       "      <th>Unnamed: 0.1</th>\n",
       "      <th>VendorID</th>\n",
       "      <th>tpep_pickup_datetime</th>\n",
       "      <th>tpep_dropoff_datetime</th>\n",
       "      <th>passenger_count</th>\n",
       "      <th>trip_distance</th>\n",
       "      <th>pickup_longitude</th>\n",
       "      <th>pickup_latitude</th>\n",
       "      <th>RatecodeID</th>\n",
       "      <th>...</th>\n",
       "      <th>mta_tax</th>\n",
       "      <th>tip_amount</th>\n",
       "      <th>tolls_amount</th>\n",
       "      <th>improvement_surcharge</th>\n",
       "      <th>total_amount</th>\n",
       "      <th>geohash_pickup</th>\n",
       "      <th>geohas_dropoff</th>\n",
       "      <th>jan_day</th>\n",
       "      <th>jan_minute</th>\n",
       "      <th>geohash_dropoff</th>\n",
       "    </tr>\n",
       "  </thead>\n",
       "  <tbody>\n",
       "    <tr>\n",
       "      <th>0</th>\n",
       "      <td>0</td>\n",
       "      <td>0</td>\n",
       "      <td>2</td>\n",
       "      <td>2016-01-01 00:00:00</td>\n",
       "      <td>2016-01-01 00:00:00</td>\n",
       "      <td>2</td>\n",
       "      <td>1.10</td>\n",
       "      <td>-73.990372</td>\n",
       "      <td>40.734695</td>\n",
       "      <td>1</td>\n",
       "      <td>...</td>\n",
       "      <td>0.5</td>\n",
       "      <td>0.0</td>\n",
       "      <td>0.0</td>\n",
       "      <td>0.3</td>\n",
       "      <td>8.8</td>\n",
       "      <td>dr5rsr</td>\n",
       "      <td>dr5rsx</td>\n",
       "      <td>1</td>\n",
       "      <td>0</td>\n",
       "      <td>dr5rsx</td>\n",
       "    </tr>\n",
       "    <tr>\n",
       "      <th>1</th>\n",
       "      <td>1</td>\n",
       "      <td>1</td>\n",
       "      <td>2</td>\n",
       "      <td>2016-01-01 00:00:00</td>\n",
       "      <td>2016-01-01 00:00:00</td>\n",
       "      <td>5</td>\n",
       "      <td>4.90</td>\n",
       "      <td>-73.980782</td>\n",
       "      <td>40.729912</td>\n",
       "      <td>1</td>\n",
       "      <td>...</td>\n",
       "      <td>0.5</td>\n",
       "      <td>0.0</td>\n",
       "      <td>0.0</td>\n",
       "      <td>0.3</td>\n",
       "      <td>19.3</td>\n",
       "      <td>dr5rsw</td>\n",
       "      <td>dr5rtk</td>\n",
       "      <td>1</td>\n",
       "      <td>0</td>\n",
       "      <td>dr5rtk</td>\n",
       "    </tr>\n",
       "    <tr>\n",
       "      <th>2</th>\n",
       "      <td>2</td>\n",
       "      <td>2</td>\n",
       "      <td>2</td>\n",
       "      <td>2016-01-01 00:00:00</td>\n",
       "      <td>2016-01-01 00:00:00</td>\n",
       "      <td>1</td>\n",
       "      <td>10.54</td>\n",
       "      <td>-73.984550</td>\n",
       "      <td>40.679565</td>\n",
       "      <td>1</td>\n",
       "      <td>...</td>\n",
       "      <td>0.5</td>\n",
       "      <td>0.0</td>\n",
       "      <td>0.0</td>\n",
       "      <td>0.3</td>\n",
       "      <td>34.3</td>\n",
       "      <td>dr5rkm</td>\n",
       "      <td>dr72j1</td>\n",
       "      <td>1</td>\n",
       "      <td>0</td>\n",
       "      <td>dr72j1</td>\n",
       "    </tr>\n",
       "    <tr>\n",
       "      <th>3</th>\n",
       "      <td>3</td>\n",
       "      <td>3</td>\n",
       "      <td>2</td>\n",
       "      <td>2016-01-01 00:00:00</td>\n",
       "      <td>2016-01-01 00:00:00</td>\n",
       "      <td>1</td>\n",
       "      <td>4.75</td>\n",
       "      <td>-73.993469</td>\n",
       "      <td>40.718990</td>\n",
       "      <td>1</td>\n",
       "      <td>...</td>\n",
       "      <td>0.5</td>\n",
       "      <td>0.0</td>\n",
       "      <td>0.0</td>\n",
       "      <td>0.3</td>\n",
       "      <td>17.3</td>\n",
       "      <td>dr5rsh</td>\n",
       "      <td>dr5rkc</td>\n",
       "      <td>1</td>\n",
       "      <td>0</td>\n",
       "      <td>dr5rkc</td>\n",
       "    </tr>\n",
       "    <tr>\n",
       "      <th>4</th>\n",
       "      <td>4</td>\n",
       "      <td>4</td>\n",
       "      <td>2</td>\n",
       "      <td>2016-01-01 00:00:00</td>\n",
       "      <td>2016-01-01 00:00:00</td>\n",
       "      <td>3</td>\n",
       "      <td>1.76</td>\n",
       "      <td>-73.960625</td>\n",
       "      <td>40.781330</td>\n",
       "      <td>1</td>\n",
       "      <td>...</td>\n",
       "      <td>0.5</td>\n",
       "      <td>0.0</td>\n",
       "      <td>0.0</td>\n",
       "      <td>0.3</td>\n",
       "      <td>8.8</td>\n",
       "      <td>dr72hb</td>\n",
       "      <td>dr5rue</td>\n",
       "      <td>1</td>\n",
       "      <td>0</td>\n",
       "      <td>dr5rue</td>\n",
       "    </tr>\n",
       "    <tr>\n",
       "      <th>5</th>\n",
       "      <td>5</td>\n",
       "      <td>5</td>\n",
       "      <td>2</td>\n",
       "      <td>2016-01-01 00:00:00</td>\n",
       "      <td>2016-01-01 00:18:30</td>\n",
       "      <td>2</td>\n",
       "      <td>5.52</td>\n",
       "      <td>-73.980118</td>\n",
       "      <td>40.743050</td>\n",
       "      <td>1</td>\n",
       "      <td>...</td>\n",
       "      <td>0.5</td>\n",
       "      <td>0.0</td>\n",
       "      <td>0.0</td>\n",
       "      <td>0.3</td>\n",
       "      <td>20.3</td>\n",
       "      <td>dr5ru9</td>\n",
       "      <td>dr5ryh</td>\n",
       "      <td>1</td>\n",
       "      <td>18</td>\n",
       "      <td>dr5ryh</td>\n",
       "    </tr>\n",
       "    <tr>\n",
       "      <th>6</th>\n",
       "      <td>6</td>\n",
       "      <td>6</td>\n",
       "      <td>2</td>\n",
       "      <td>2016-01-01 00:00:00</td>\n",
       "      <td>2016-01-01 00:26:45</td>\n",
       "      <td>2</td>\n",
       "      <td>7.45</td>\n",
       "      <td>-73.994057</td>\n",
       "      <td>40.719990</td>\n",
       "      <td>1</td>\n",
       "      <td>...</td>\n",
       "      <td>0.5</td>\n",
       "      <td>0.0</td>\n",
       "      <td>0.0</td>\n",
       "      <td>0.3</td>\n",
       "      <td>27.3</td>\n",
       "      <td>dr5rsh</td>\n",
       "      <td>dr72hc</td>\n",
       "      <td>1</td>\n",
       "      <td>26</td>\n",
       "      <td>dr72hc</td>\n",
       "    </tr>\n",
       "    <tr>\n",
       "      <th>7</th>\n",
       "      <td>7</td>\n",
       "      <td>7</td>\n",
       "      <td>1</td>\n",
       "      <td>2016-01-01 00:00:01</td>\n",
       "      <td>2016-01-01 00:11:55</td>\n",
       "      <td>1</td>\n",
       "      <td>1.20</td>\n",
       "      <td>-73.979424</td>\n",
       "      <td>40.744614</td>\n",
       "      <td>1</td>\n",
       "      <td>...</td>\n",
       "      <td>0.5</td>\n",
       "      <td>0.0</td>\n",
       "      <td>0.0</td>\n",
       "      <td>0.3</td>\n",
       "      <td>10.3</td>\n",
       "      <td>dr5ru9</td>\n",
       "      <td>dr5ru7</td>\n",
       "      <td>1</td>\n",
       "      <td>11</td>\n",
       "      <td>dr5ru7</td>\n",
       "    </tr>\n",
       "    <tr>\n",
       "      <th>8</th>\n",
       "      <td>8</td>\n",
       "      <td>8</td>\n",
       "      <td>1</td>\n",
       "      <td>2016-01-01 00:00:02</td>\n",
       "      <td>2016-01-01 00:11:14</td>\n",
       "      <td>1</td>\n",
       "      <td>6.00</td>\n",
       "      <td>-73.947151</td>\n",
       "      <td>40.791046</td>\n",
       "      <td>1</td>\n",
       "      <td>...</td>\n",
       "      <td>0.5</td>\n",
       "      <td>0.0</td>\n",
       "      <td>0.0</td>\n",
       "      <td>0.3</td>\n",
       "      <td>19.3</td>\n",
       "      <td>dr72j3</td>\n",
       "      <td>dr72mz</td>\n",
       "      <td>1</td>\n",
       "      <td>11</td>\n",
       "      <td>dr72mz</td>\n",
       "    </tr>\n",
       "    <tr>\n",
       "      <th>9</th>\n",
       "      <td>9</td>\n",
       "      <td>9</td>\n",
       "      <td>2</td>\n",
       "      <td>2016-01-01 00:00:02</td>\n",
       "      <td>2016-01-01 00:11:08</td>\n",
       "      <td>1</td>\n",
       "      <td>3.21</td>\n",
       "      <td>-73.998344</td>\n",
       "      <td>40.723896</td>\n",
       "      <td>1</td>\n",
       "      <td>...</td>\n",
       "      <td>0.5</td>\n",
       "      <td>0.0</td>\n",
       "      <td>0.0</td>\n",
       "      <td>0.3</td>\n",
       "      <td>12.8</td>\n",
       "      <td>dr5rsj</td>\n",
       "      <td>dr5rkp</td>\n",
       "      <td>1</td>\n",
       "      <td>11</td>\n",
       "      <td>dr5rkp</td>\n",
       "    </tr>\n",
       "  </tbody>\n",
       "</table>\n",
       "<p>10 rows × 26 columns</p>\n",
       "</div>"
      ],
      "text/plain": [
       "   Unnamed: 0  Unnamed: 0.1  VendorID tpep_pickup_datetime  \\\n",
       "0           0             0         2  2016-01-01 00:00:00   \n",
       "1           1             1         2  2016-01-01 00:00:00   \n",
       "2           2             2         2  2016-01-01 00:00:00   \n",
       "3           3             3         2  2016-01-01 00:00:00   \n",
       "4           4             4         2  2016-01-01 00:00:00   \n",
       "5           5             5         2  2016-01-01 00:00:00   \n",
       "6           6             6         2  2016-01-01 00:00:00   \n",
       "7           7             7         1  2016-01-01 00:00:01   \n",
       "8           8             8         1  2016-01-01 00:00:02   \n",
       "9           9             9         2  2016-01-01 00:00:02   \n",
       "\n",
       "  tpep_dropoff_datetime  passenger_count  trip_distance  pickup_longitude  \\\n",
       "0   2016-01-01 00:00:00                2           1.10        -73.990372   \n",
       "1   2016-01-01 00:00:00                5           4.90        -73.980782   \n",
       "2   2016-01-01 00:00:00                1          10.54        -73.984550   \n",
       "3   2016-01-01 00:00:00                1           4.75        -73.993469   \n",
       "4   2016-01-01 00:00:00                3           1.76        -73.960625   \n",
       "5   2016-01-01 00:18:30                2           5.52        -73.980118   \n",
       "6   2016-01-01 00:26:45                2           7.45        -73.994057   \n",
       "7   2016-01-01 00:11:55                1           1.20        -73.979424   \n",
       "8   2016-01-01 00:11:14                1           6.00        -73.947151   \n",
       "9   2016-01-01 00:11:08                1           3.21        -73.998344   \n",
       "\n",
       "   pickup_latitude  RatecodeID       ...        mta_tax  tip_amount  \\\n",
       "0        40.734695           1       ...            0.5         0.0   \n",
       "1        40.729912           1       ...            0.5         0.0   \n",
       "2        40.679565           1       ...            0.5         0.0   \n",
       "3        40.718990           1       ...            0.5         0.0   \n",
       "4        40.781330           1       ...            0.5         0.0   \n",
       "5        40.743050           1       ...            0.5         0.0   \n",
       "6        40.719990           1       ...            0.5         0.0   \n",
       "7        40.744614           1       ...            0.5         0.0   \n",
       "8        40.791046           1       ...            0.5         0.0   \n",
       "9        40.723896           1       ...            0.5         0.0   \n",
       "\n",
       "   tolls_amount  improvement_surcharge  total_amount  geohash_pickup  \\\n",
       "0           0.0                    0.3           8.8          dr5rsr   \n",
       "1           0.0                    0.3          19.3          dr5rsw   \n",
       "2           0.0                    0.3          34.3          dr5rkm   \n",
       "3           0.0                    0.3          17.3          dr5rsh   \n",
       "4           0.0                    0.3           8.8          dr72hb   \n",
       "5           0.0                    0.3          20.3          dr5ru9   \n",
       "6           0.0                    0.3          27.3          dr5rsh   \n",
       "7           0.0                    0.3          10.3          dr5ru9   \n",
       "8           0.0                    0.3          19.3          dr72j3   \n",
       "9           0.0                    0.3          12.8          dr5rsj   \n",
       "\n",
       "   geohas_dropoff  jan_day  jan_minute  geohash_dropoff  \n",
       "0          dr5rsx        1           0           dr5rsx  \n",
       "1          dr5rtk        1           0           dr5rtk  \n",
       "2          dr72j1        1           0           dr72j1  \n",
       "3          dr5rkc        1           0           dr5rkc  \n",
       "4          dr5rue        1           0           dr5rue  \n",
       "5          dr5ryh        1          18           dr5ryh  \n",
       "6          dr72hc        1          26           dr72hc  \n",
       "7          dr5ru7        1          11           dr5ru7  \n",
       "8          dr72mz        1          11           dr72mz  \n",
       "9          dr5rkp        1          11           dr5rkp  \n",
       "\n",
       "[10 rows x 26 columns]"
      ]
     },
     "execution_count": 13,
     "metadata": {},
     "output_type": "execute_result"
    }
   ],
   "source": [
    "taxi_yellowcab_df.head(10)"
   ]
  },
  {
   "cell_type": "code",
   "execution_count": 14,
   "metadata": {
    "collapsed": false,
    "deletable": true,
    "editable": true
   },
   "outputs": [
    {
     "data": {
      "text/plain": [
       "datetime.date(2016, 11, 1)"
      ]
     },
     "execution_count": 14,
     "metadata": {},
     "output_type": "execute_result"
    }
   ],
   "source": [
    "from datetime import datetime, timedelta, date\n",
    "import dateutil\n",
    "st_date = '2016-11-01'\n",
    "dt = dateutil.parser.parse(st_date).date()\n",
    "dt"
   ]
  },
  {
   "cell_type": "markdown",
   "metadata": {
    "deletable": true,
    "editable": true
   },
   "source": [
    "## Create new columns for the day, minute, and month of january\n",
    "- Don't run again, save this as csv"
   ]
  },
  {
   "cell_type": "code",
   "execution_count": 15,
   "metadata": {
    "collapsed": false,
    "deletable": true,
    "editable": true
   },
   "outputs": [],
   "source": [
    "#taxi_yellowcab_df['jan_day']=[dateutil.parser.parse(i).day for i in taxi_yellowcab_df.tpep_dropoff_datetime]"
   ]
  },
  {
   "cell_type": "code",
   "execution_count": 16,
   "metadata": {
    "collapsed": true,
    "deletable": true,
    "editable": true
   },
   "outputs": [],
   "source": [
    "#taxi_yellowcab_df['jan_minute']=[dateutil.parser.parse(i).minute for i in taxi_yellowcab_df.tpep_dropoff_datetime]"
   ]
  },
  {
   "cell_type": "code",
   "execution_count": 17,
   "metadata": {
    "collapsed": false,
    "deletable": true,
    "editable": true
   },
   "outputs": [],
   "source": [
    "#taxi_yellowcab_df.to_csv(\"data/yellow_taxi_geohash_min_day.csv\")"
   ]
  },
  {
   "cell_type": "code",
   "execution_count": 327,
   "metadata": {
    "collapsed": false,
    "deletable": true,
    "editable": true
   },
   "outputs": [],
   "source": [
    "#taxi_yellowcab_df['month'] =[i.month for i in taxi_yellowcab_df.tpep_pickup_datetime]"
   ]
  },
  {
   "cell_type": "code",
   "execution_count": 329,
   "metadata": {
    "collapsed": false
   },
   "outputs": [
    {
     "data": {
      "text/plain": [
       "array([1])"
      ]
     },
     "execution_count": 329,
     "metadata": {},
     "output_type": "execute_result"
    }
   ],
   "source": [
    "#taxi_yellowcab_df['month'].unique()"
   ]
  },
  {
   "cell_type": "code",
   "execution_count": 328,
   "metadata": {
    "collapsed": false
   },
   "outputs": [
    {
     "data": {
      "text/html": [
       "<div>\n",
       "<table border=\"1\" class=\"dataframe\">\n",
       "  <thead>\n",
       "    <tr style=\"text-align: right;\">\n",
       "      <th></th>\n",
       "      <th>Unnamed: 0</th>\n",
       "      <th>Unnamed: 0.1</th>\n",
       "      <th>VendorID</th>\n",
       "      <th>tpep_pickup_datetime</th>\n",
       "      <th>tpep_dropoff_datetime</th>\n",
       "      <th>passenger_count</th>\n",
       "      <th>trip_distance</th>\n",
       "      <th>pickup_longitude</th>\n",
       "      <th>pickup_latitude</th>\n",
       "      <th>RatecodeID</th>\n",
       "      <th>...</th>\n",
       "      <th>tip_amount</th>\n",
       "      <th>tolls_amount</th>\n",
       "      <th>improvement_surcharge</th>\n",
       "      <th>total_amount</th>\n",
       "      <th>geohash_pickup</th>\n",
       "      <th>geohas_dropoff</th>\n",
       "      <th>jan_day</th>\n",
       "      <th>jan_minute</th>\n",
       "      <th>geohash_dropoff</th>\n",
       "      <th>month</th>\n",
       "    </tr>\n",
       "  </thead>\n",
       "  <tbody>\n",
       "  </tbody>\n",
       "</table>\n",
       "<p>0 rows × 27 columns</p>\n",
       "</div>"
      ],
      "text/plain": [
       "Empty DataFrame\n",
       "Columns: [Unnamed: 0, Unnamed: 0.1, VendorID, tpep_pickup_datetime, tpep_dropoff_datetime, passenger_count, trip_distance, pickup_longitude, pickup_latitude, RatecodeID, store_and_fwd_flag, dropoff_longitude, dropoff_latitude, payment_type, fare_amount, extra, mta_tax, tip_amount, tolls_amount, improvement_surcharge, total_amount, geohash_pickup, geohas_dropoff, jan_day, jan_minute, geohash_dropoff, month]\n",
       "Index: []\n",
       "\n",
       "[0 rows x 27 columns]"
      ]
     },
     "execution_count": 328,
     "metadata": {},
     "output_type": "execute_result"
    }
   ],
   "source": [
    "## filter to only have dates from January\n",
    "#taxi_yellowcab_df[taxi_yellowcab_df['month']==2]"
   ]
  },
  {
   "cell_type": "code",
   "execution_count": null,
   "metadata": {
    "collapsed": true
   },
   "outputs": [],
   "source": []
  },
  {
   "cell_type": "code",
   "execution_count": null,
   "metadata": {
    "collapsed": true
   },
   "outputs": [],
   "source": []
  },
  {
   "cell_type": "markdown",
   "metadata": {
    "deletable": true,
    "editable": true
   },
   "source": [
    "- Transform lat and long to zip code\n",
    "\n",
    ">zip_code_data from: https://github.com/EverythingMe/geodis\n"
   ]
  },
  {
   "cell_type": "markdown",
   "metadata": {
    "deletable": true,
    "editable": true
   },
   "source": [
    "### Create a geohash of the latitude and longtitude of the pickup and dropoff"
   ]
  },
  {
   "cell_type": "code",
   "execution_count": 123,
   "metadata": {
    "collapsed": false,
    "deletable": true,
    "editable": true
   },
   "outputs": [],
   "source": [
    "def geohash_encoding(taxi_df,precision_=6):\n",
    "    \"\"\"Encode the latitude and longtitude of the pickup and dropoff into a geohash. For reference, the precision\n",
    "    of a geohash depends on the number of characters present.\n",
    "    _PRECISION = { 0: 20000000, 1: 5003530, 2: 625441, 3: 123264, 4: 19545,\n",
    "    5: 3803, 6: 610, 7: 118, 8: 19, 9: 3.71, 10: 0.6, } - all distances in meters.\n",
    "    \n",
    "    Average taxi speed in 2014 was 5.51 miles per hour, or 3.8 meters per second.\n",
    "    Precision of 5, means that a taxi should traverse this square in ~16 minutes.\n",
    "    Precision of 6, means a taxi should traverse square in ~3 minutes.\n",
    "    Precision of 7, means a taxi should traverse the square in ~1 minute.\n",
    "    \n",
    "    Input: Pandas DF\n",
    "    Output: Pandas DF with geohas column appended\"\"\"\n",
    "    now = time.time()\n",
    "    new_taxidf = taxi_df.copy()\n",
    "    geo_hash_pickup = []\n",
    "    geo_hash_dropoff = []\n",
    "    for row in new_taxidf.iterrows():\n",
    "        # longittude followed by latitude\n",
    "        pickup_vector = np.array( [row[1]['pickup_latitude'],row[1]['pickup_longitude']])\n",
    "        dropoff_vector = np.array( [row[1]['dropoff_latitude'],row[1]['dropoff_longitude']])\n",
    "        #geohash encoding\n",
    "        geo_hash_pickup.append(gh.encode(pickup_vector[0],pickup_vector[1],precision=precision_))\n",
    "        geo_hash_dropoff.append(gh.encode(dropoff_vector[0],dropoff_vector[1],precision=precision_))\n",
    "    ## add in the new geohash columns\n",
    "    new_taxidf['geohash_pickup'] = geo_hash_pickup\n",
    "    new_taxidf['geohash_dropoff'] = geo_hash_dropoff \n",
    "    return new_taxidf\n",
    "        \n",
    "    \n",
    "    "
   ]
  },
  {
   "cell_type": "markdown",
   "metadata": {
    "deletable": true,
    "editable": true
   },
   "source": [
    "> Time how long this will take to run for 10 million rows\n",
    "- 1k samples takes .297 seconds\n",
    "- 10k samples takes 2.34 seconds\n",
    "- 10 million rows is 1,000x 10k so 2340 seconds or 39 minutes"
   ]
  },
  {
   "cell_type": "code",
   "execution_count": 117,
   "metadata": {
    "collapsed": false,
    "deletable": true,
    "editable": true
   },
   "outputs": [],
   "source": [
    "# Already ran this\n",
    "#taxi_yellowcab_jan_geohash_df = geohash_encoding(taxi_yellowcab_df)"
   ]
  },
  {
   "cell_type": "code",
   "execution_count": 18,
   "metadata": {
    "collapsed": false,
    "deletable": true,
    "editable": true
   },
   "outputs": [
    {
     "data": {
      "text/html": [
       "<div>\n",
       "<table border=\"1\" class=\"dataframe\">\n",
       "  <thead>\n",
       "    <tr style=\"text-align: right;\">\n",
       "      <th></th>\n",
       "      <th>Unnamed: 0</th>\n",
       "      <th>Unnamed: 0.1</th>\n",
       "      <th>VendorID</th>\n",
       "      <th>tpep_pickup_datetime</th>\n",
       "      <th>tpep_dropoff_datetime</th>\n",
       "      <th>passenger_count</th>\n",
       "      <th>trip_distance</th>\n",
       "      <th>pickup_longitude</th>\n",
       "      <th>pickup_latitude</th>\n",
       "      <th>RatecodeID</th>\n",
       "      <th>...</th>\n",
       "      <th>mta_tax</th>\n",
       "      <th>tip_amount</th>\n",
       "      <th>tolls_amount</th>\n",
       "      <th>improvement_surcharge</th>\n",
       "      <th>total_amount</th>\n",
       "      <th>geohash_pickup</th>\n",
       "      <th>geohas_dropoff</th>\n",
       "      <th>jan_day</th>\n",
       "      <th>jan_minute</th>\n",
       "      <th>geohash_dropoff</th>\n",
       "    </tr>\n",
       "  </thead>\n",
       "  <tbody>\n",
       "    <tr>\n",
       "      <th>0</th>\n",
       "      <td>0</td>\n",
       "      <td>0</td>\n",
       "      <td>2</td>\n",
       "      <td>2016-01-01 00:00:00</td>\n",
       "      <td>2016-01-01 00:00:00</td>\n",
       "      <td>2</td>\n",
       "      <td>1.10</td>\n",
       "      <td>-73.990372</td>\n",
       "      <td>40.734695</td>\n",
       "      <td>1</td>\n",
       "      <td>...</td>\n",
       "      <td>0.5</td>\n",
       "      <td>0.0</td>\n",
       "      <td>0.0</td>\n",
       "      <td>0.3</td>\n",
       "      <td>8.8</td>\n",
       "      <td>dr5rsr</td>\n",
       "      <td>dr5rsx</td>\n",
       "      <td>1</td>\n",
       "      <td>0</td>\n",
       "      <td>dr5rsx</td>\n",
       "    </tr>\n",
       "    <tr>\n",
       "      <th>1</th>\n",
       "      <td>1</td>\n",
       "      <td>1</td>\n",
       "      <td>2</td>\n",
       "      <td>2016-01-01 00:00:00</td>\n",
       "      <td>2016-01-01 00:00:00</td>\n",
       "      <td>5</td>\n",
       "      <td>4.90</td>\n",
       "      <td>-73.980782</td>\n",
       "      <td>40.729912</td>\n",
       "      <td>1</td>\n",
       "      <td>...</td>\n",
       "      <td>0.5</td>\n",
       "      <td>0.0</td>\n",
       "      <td>0.0</td>\n",
       "      <td>0.3</td>\n",
       "      <td>19.3</td>\n",
       "      <td>dr5rsw</td>\n",
       "      <td>dr5rtk</td>\n",
       "      <td>1</td>\n",
       "      <td>0</td>\n",
       "      <td>dr5rtk</td>\n",
       "    </tr>\n",
       "    <tr>\n",
       "      <th>2</th>\n",
       "      <td>2</td>\n",
       "      <td>2</td>\n",
       "      <td>2</td>\n",
       "      <td>2016-01-01 00:00:00</td>\n",
       "      <td>2016-01-01 00:00:00</td>\n",
       "      <td>1</td>\n",
       "      <td>10.54</td>\n",
       "      <td>-73.984550</td>\n",
       "      <td>40.679565</td>\n",
       "      <td>1</td>\n",
       "      <td>...</td>\n",
       "      <td>0.5</td>\n",
       "      <td>0.0</td>\n",
       "      <td>0.0</td>\n",
       "      <td>0.3</td>\n",
       "      <td>34.3</td>\n",
       "      <td>dr5rkm</td>\n",
       "      <td>dr72j1</td>\n",
       "      <td>1</td>\n",
       "      <td>0</td>\n",
       "      <td>dr72j1</td>\n",
       "    </tr>\n",
       "    <tr>\n",
       "      <th>3</th>\n",
       "      <td>3</td>\n",
       "      <td>3</td>\n",
       "      <td>2</td>\n",
       "      <td>2016-01-01 00:00:00</td>\n",
       "      <td>2016-01-01 00:00:00</td>\n",
       "      <td>1</td>\n",
       "      <td>4.75</td>\n",
       "      <td>-73.993469</td>\n",
       "      <td>40.718990</td>\n",
       "      <td>1</td>\n",
       "      <td>...</td>\n",
       "      <td>0.5</td>\n",
       "      <td>0.0</td>\n",
       "      <td>0.0</td>\n",
       "      <td>0.3</td>\n",
       "      <td>17.3</td>\n",
       "      <td>dr5rsh</td>\n",
       "      <td>dr5rkc</td>\n",
       "      <td>1</td>\n",
       "      <td>0</td>\n",
       "      <td>dr5rkc</td>\n",
       "    </tr>\n",
       "    <tr>\n",
       "      <th>4</th>\n",
       "      <td>4</td>\n",
       "      <td>4</td>\n",
       "      <td>2</td>\n",
       "      <td>2016-01-01 00:00:00</td>\n",
       "      <td>2016-01-01 00:00:00</td>\n",
       "      <td>3</td>\n",
       "      <td>1.76</td>\n",
       "      <td>-73.960625</td>\n",
       "      <td>40.781330</td>\n",
       "      <td>1</td>\n",
       "      <td>...</td>\n",
       "      <td>0.5</td>\n",
       "      <td>0.0</td>\n",
       "      <td>0.0</td>\n",
       "      <td>0.3</td>\n",
       "      <td>8.8</td>\n",
       "      <td>dr72hb</td>\n",
       "      <td>dr5rue</td>\n",
       "      <td>1</td>\n",
       "      <td>0</td>\n",
       "      <td>dr5rue</td>\n",
       "    </tr>\n",
       "  </tbody>\n",
       "</table>\n",
       "<p>5 rows × 26 columns</p>\n",
       "</div>"
      ],
      "text/plain": [
       "   Unnamed: 0  Unnamed: 0.1  VendorID tpep_pickup_datetime  \\\n",
       "0           0             0         2  2016-01-01 00:00:00   \n",
       "1           1             1         2  2016-01-01 00:00:00   \n",
       "2           2             2         2  2016-01-01 00:00:00   \n",
       "3           3             3         2  2016-01-01 00:00:00   \n",
       "4           4             4         2  2016-01-01 00:00:00   \n",
       "\n",
       "  tpep_dropoff_datetime  passenger_count  trip_distance  pickup_longitude  \\\n",
       "0   2016-01-01 00:00:00                2           1.10        -73.990372   \n",
       "1   2016-01-01 00:00:00                5           4.90        -73.980782   \n",
       "2   2016-01-01 00:00:00                1          10.54        -73.984550   \n",
       "3   2016-01-01 00:00:00                1           4.75        -73.993469   \n",
       "4   2016-01-01 00:00:00                3           1.76        -73.960625   \n",
       "\n",
       "   pickup_latitude  RatecodeID       ...        mta_tax  tip_amount  \\\n",
       "0        40.734695           1       ...            0.5         0.0   \n",
       "1        40.729912           1       ...            0.5         0.0   \n",
       "2        40.679565           1       ...            0.5         0.0   \n",
       "3        40.718990           1       ...            0.5         0.0   \n",
       "4        40.781330           1       ...            0.5         0.0   \n",
       "\n",
       "   tolls_amount  improvement_surcharge  total_amount  geohash_pickup  \\\n",
       "0           0.0                    0.3           8.8          dr5rsr   \n",
       "1           0.0                    0.3          19.3          dr5rsw   \n",
       "2           0.0                    0.3          34.3          dr5rkm   \n",
       "3           0.0                    0.3          17.3          dr5rsh   \n",
       "4           0.0                    0.3           8.8          dr72hb   \n",
       "\n",
       "   geohas_dropoff  jan_day  jan_minute  geohash_dropoff  \n",
       "0          dr5rsx        1           0           dr5rsx  \n",
       "1          dr5rtk        1           0           dr5rtk  \n",
       "2          dr72j1        1           0           dr72j1  \n",
       "3          dr5rkc        1           0           dr5rkc  \n",
       "4          dr5rue        1           0           dr5rue  \n",
       "\n",
       "[5 rows x 26 columns]"
      ]
     },
     "execution_count": 18,
     "metadata": {},
     "output_type": "execute_result"
    }
   ],
   "source": [
    "taxi_yellowcab_df .head()"
   ]
  },
  {
   "cell_type": "markdown",
   "metadata": {
    "deletable": true,
    "editable": true
   },
   "source": [
    "# Finding neighbors from a dropoff geohash\n",
    "- use gh.neighbors"
   ]
  },
  {
   "cell_type": "code",
   "execution_count": 141,
   "metadata": {
    "collapsed": false,
    "deletable": true,
    "editable": true
   },
   "outputs": [
    {
     "data": {
      "text/plain": [
       "{'e': 'dr5rsz',\n",
       " 'n': 'dr5rs0',\n",
       " 'ne': 'dr5rs2',\n",
       " 'nw': 'dr5rse',\n",
       " 's': 'dr5rsw',\n",
       " 'se': 'dr5rsy',\n",
       " 'sw': 'dr5rsa',\n",
       " 'w': 'dr5rsb'}"
      ]
     },
     "execution_count": 141,
     "metadata": {},
     "output_type": "execute_result"
    }
   ],
   "source": [
    "gh.neighbors(taxi_yellowcab_jan_geohash_df.geohas_dropoff[0])"
   ]
  },
  {
   "cell_type": "code",
   "execution_count": null,
   "metadata": {
    "collapsed": true
   },
   "outputs": [],
   "source": []
  },
  {
   "cell_type": "code",
   "execution_count": null,
   "metadata": {
    "collapsed": true
   },
   "outputs": [],
   "source": []
  },
  {
   "cell_type": "markdown",
   "metadata": {
    "deletable": true,
    "editable": true
   },
   "source": [
    "## Heat map of the most profitable zip codes "
   ]
  },
  {
   "cell_type": "code",
   "execution_count": 20,
   "metadata": {
    "collapsed": false,
    "deletable": true,
    "editable": true
   },
   "outputs": [
    {
     "data": {
      "text/plain": [
       "Index(['Unnamed: 0', 'VendorID', 'tpep_pickup_datetime',\n",
       "       'tpep_dropoff_datetime', 'passenger_count', 'trip_distance',\n",
       "       'pickup_longitude', 'pickup_latitude', 'RatecodeID',\n",
       "       'store_and_fwd_flag', 'dropoff_longitude', 'dropoff_latitude',\n",
       "       'payment_type', 'fare_amount', 'extra', 'mta_tax', 'tip_amount',\n",
       "       'tolls_amount', 'improvement_surcharge', 'total_amount',\n",
       "       'geohash_pickup', 'geohas_dropoff', 'jan_day', 'jan_minute'],\n",
       "      dtype='object')"
      ]
     },
     "execution_count": 20,
     "metadata": {},
     "output_type": "execute_result"
    }
   ],
   "source": [
    "taxi_yellowcab_df.columns"
   ]
  },
  {
   "cell_type": "code",
   "execution_count": 333,
   "metadata": {
    "collapsed": false
   },
   "outputs": [
    {
     "data": {
      "text/plain": [
       "3086"
      ]
     },
     "execution_count": 333,
     "metadata": {},
     "output_type": "execute_result"
    }
   ],
   "source": [
    "## get a list of unique geohashes\n",
    "unique_geohashes = taxi_yellowcab_df.geohash_pickup.unique()\n",
    "len(unique_geohashes)"
   ]
  },
  {
   "cell_type": "code",
   "execution_count": 100,
   "metadata": {
    "collapsed": false,
    "deletable": true,
    "editable": true
   },
   "outputs": [],
   "source": [
    "pickup_sum_fare = taxi_yellowcab_df.groupby('geohash_pickup').sum()['total_amount'].reset_index()\n"
   ]
  },
  {
   "cell_type": "code",
   "execution_count": 102,
   "metadata": {
    "collapsed": false,
    "deletable": true,
    "editable": true
   },
   "outputs": [],
   "source": [
    "pickup_sum_fare = pickup_sum_fare.sort_values(by='total_amount',ascending=False)"
   ]
  },
  {
   "cell_type": "code",
   "execution_count": 106,
   "metadata": {
    "collapsed": false,
    "deletable": true,
    "editable": true
   },
   "outputs": [],
   "source": [
    "pickup_sum_fare['total_amount']= pickup_sum_fare.total_amount.apply(lambda x: round(x))"
   ]
  },
  {
   "cell_type": "code",
   "execution_count": 107,
   "metadata": {
    "collapsed": true,
    "deletable": true,
    "editable": true
   },
   "outputs": [],
   "source": [
    "# can only plot 2k values on google maps"
   ]
  },
  {
   "cell_type": "code",
   "execution_count": 108,
   "metadata": {
    "collapsed": false,
    "deletable": true,
    "editable": true
   },
   "outputs": [],
   "source": [
    "#pickup_sum_fare.loc[:2000,:].to_csv(\"data/geohash_sum_fare_all_jan.csv\",sep=\"\\t\", index=False)"
   ]
  },
  {
   "cell_type": "code",
   "execution_count": 109,
   "metadata": {
    "collapsed": false,
    "deletable": true,
    "editable": true
   },
   "outputs": [
    {
     "data": {
      "text/plain": [
       "<matplotlib.text.Text at 0x120643240>"
      ]
     },
     "execution_count": 109,
     "metadata": {},
     "output_type": "execute_result"
    },
    {
     "data": {
      "image/png": "[encoded data removed]",
      "text/plain": [
       "<matplotlib.figure.Figure at 0x12054c400>"
      ]
     },
     "metadata": {},
     "output_type": "display_data"
    }
   ],
   "source": [
    "#plt.figure(figsize=(10,5))\n",
    "ax = pickup_sum_fare[:50].plot(x='geohash_pickup',y='total_amount',kind='bar',figsize=(13,5))\n",
    "ax.get_yaxis().set_major_formatter(\n",
    "    matplotlib.ticker.FuncFormatter(lambda x, p: format(int(x), ',')))\n",
    "plt.ylabel('Total fares received - Jan - Top 50 Geohashes')"
   ]
  },
  {
   "cell_type": "markdown",
   "metadata": {
    "collapsed": true,
    "deletable": true,
    "editable": true
   },
   "source": [
    "## Break up the day into five minute intervals( the time to traverse a geohash of ~610 meters).\n",
    "- Average the time across the entire month of January"
   ]
  },
  {
   "cell_type": "code",
   "execution_count": null,
   "metadata": {
    "collapsed": true
   },
   "outputs": [],
   "source": []
  },
  {
   "cell_type": "code",
   "execution_count": 220,
   "metadata": {
    "collapsed": true
   },
   "outputs": [],
   "source": [
    "# Only pull the columns we need \n",
    "average_fare_during_day = taxi_yellowcab_df.loc[:,('tpep_pickup_datetime',\n",
    "                            'tpep_dropoff_datetime','total_amount','geohash_dropoff','geohash_pickup')]"
   ]
  },
  {
   "cell_type": "code",
   "execution_count": 221,
   "metadata": {
    "collapsed": false,
    "deletable": true,
    "editable": true
   },
   "outputs": [],
   "source": [
    "average_fare_during_day.tpep_pickup_datetime = pd.to_datetime(average_fare_during_day.tpep_pickup_datetime)\n"
   ]
  },
  {
   "cell_type": "code",
   "execution_count": 223,
   "metadata": {
    "collapsed": false,
    "deletable": true,
    "editable": true
   },
   "outputs": [],
   "source": [
    "average_fare_during_day.index = average_fare_during_day.tpep_pickup_datetime\n"
   ]
  },
  {
   "cell_type": "code",
   "execution_count": 309,
   "metadata": {
    "collapsed": false,
    "deletable": true,
    "editable": true
   },
   "outputs": [],
   "source": [
    "grouped_pickup_fares = average_fare_during_day.groupby(pd.TimeGrouper(freq='5Min')).apply(\n",
    "    lambda x: x.groupby('geohash_pickup').mean())"
   ]
  },
  {
   "cell_type": "code",
   "execution_count": 310,
   "metadata": {
    "collapsed": false,
    "deletable": true,
    "editable": true
   },
   "outputs": [],
   "source": [
    "grouped_pickup_fares  = grouped_pickup_fares.reset_index()"
   ]
  },
  {
   "cell_type": "code",
   "execution_count": 311,
   "metadata": {
    "collapsed": false
   },
   "outputs": [],
   "source": [
    "# groupby again only on minutes this time\n",
    "grouped_pickup_fares['time'] = grouped_pickup_fares.tpep_pickup_datetime.apply(lambda x : x.time())"
   ]
  },
  {
   "cell_type": "code",
   "execution_count": 312,
   "metadata": {
    "collapsed": false
   },
   "outputs": [],
   "source": [
    "average_fares_throughout_day_geohash = grouped_pickup_fares.groupby(['time','geohash_pickup']).mean().reset_index()"
   ]
  },
  {
   "cell_type": "code",
   "execution_count": 331,
   "metadata": {
    "collapsed": false
   },
   "outputs": [],
   "source": [
    "average_fares_throughout_day_geohash['average_fare'] = average_fares_throughout_day_geohash['total_amount']\n",
    "average_fares_throughout_day_geohash.drop('total_amount',inplace=True,axis=1)"
   ]
  },
  {
   "cell_type": "code",
   "execution_count": 334,
   "metadata": {
    "collapsed": false
   },
   "outputs": [],
   "source": [
    "# Turn this into a dictionary for fast lookups!\n",
    "\n",
    "time_geohash_fare_dict = defaultdict(lambda : defaultdict(int))"
   ]
  },
  {
   "cell_type": "code",
   "execution_count": 337,
   "metadata": {
    "collapsed": false
   },
   "outputs": [],
   "source": [
    "for row in average_fares_throughout_day_geohash.iterrows():\n",
    "    time_geohash_fare_dict[str(row[1]['time'])][row[1]['geohash_pickup']]=row[1]['average_fare']\n"
   ]
  },
  {
   "cell_type": "code",
   "execution_count": 338,
   "metadata": {
    "collapsed": false
   },
   "outputs": [
    {
     "data": {
      "text/plain": [
       "15.16335448753311"
      ]
     },
     "execution_count": 338,
     "metadata": {},
     "output_type": "execute_result"
    }
   ],
   "source": [
    "time_geohash_fare_dict['09:20:00']['7zzzzz']"
   ]
  },
  {
   "cell_type": "code",
   "execution_count": null,
   "metadata": {
    "collapsed": true,
    "deletable": true,
    "editable": true
   },
   "outputs": [],
   "source": []
  },
  {
   "cell_type": "markdown",
   "metadata": {
    "collapsed": true,
    "deletable": true,
    "editable": true
   },
   "source": [
    "# Use an Actor Critic Model\n",
    "- https://yanpanlau.github.io/2016/10/11/Torcs-Keras.html"
   ]
  },
  {
   "cell_type": "code",
   "execution_count": 75,
   "metadata": {
    "collapsed": true,
    "deletable": true,
    "editable": true
   },
   "outputs": [],
   "source": [
    "def create_actor_network(self, state_size,action_dim):\n",
    "        print(\"Now we build the model\")\n",
    "        S = Input(shape=[state_size])  \n",
    "        h0 = Dense(HIDDEN1_UNITS, activation='relu')(S)\n",
    "        h1 = Dense(HIDDEN2_UNITS, activation='relu')(h0)\n",
    "        Steering = Dense(1,activation='tanh',init=lambda shape, name: normal(shape, scale=1e-4, name=name))(h1)   \n",
    "        Acceleration = Dense(1,activation='sigmoid',init=lambda shape, name: normal(shape, scale=1e-4, name=name))(h1)   \n",
    "        Brake = Dense(1,activation='sigmoid',init=lambda shape, name: normal(shape, scale=1e-4, name=name))(h1)   \n",
    "        V = merge([Steering,Acceleration,Brake],mode='concat')          \n",
    "        model = Model(input=S,output=V)\n",
    "        print(\"We finished building the model\")\n",
    "        return model, model.trainable_weights, S"
   ]
  },
  {
   "cell_type": "code",
   "execution_count": 41,
   "metadata": {
    "collapsed": false,
    "deletable": true,
    "editable": true
   },
   "outputs": [
    {
     "name": "stdout",
     "output_type": "stream",
     "text": [
      "Now we build the model\n",
      "____________________________________________________________________________________________________\n",
      "Layer (type)                     Output Shape          Param #     Connected to                     \n",
      "====================================================================================================\n",
      "input_18 (InputLayer)            (None, 5)             0                                            \n",
      "____________________________________________________________________________________________________\n",
      "dense_75 (Dense)                 (None, 10)            60                                           \n",
      "____________________________________________________________________________________________________\n",
      "dense_76 (Dense)                 (None, 20)            220                                          \n",
      "____________________________________________________________________________________________________\n",
      "dense_77 (Dense)                 (None, 1)             21                                           \n",
      "____________________________________________________________________________________________________\n",
      "dense_78 (Dense)                 (None, 1)             21                                           \n",
      "____________________________________________________________________________________________________\n",
      "dense_79 (Dense)                 (None, 1)             21                                           \n",
      "====================================================================================================\n",
      "Total params: 343.0\n",
      "Trainable params: 343.0\n",
      "Non-trainable params: 0.0\n",
      "____________________________________________________________________________________________________\n",
      "We finished building the model\n"
     ]
    },
    {
     "name": "stderr",
     "output_type": "stream",
     "text": [
      "/Users/jonathanhilgart/anaconda/envs/dl/lib/python3.6/site-packages/keras/legacy/interfaces.py:86: UserWarning: Update your `Model` call to the Keras 2 API: `Model(inputs=Tensor(\"in..., outputs=[<tf.Tenso...)`\n",
      "  '` call to the Keras 2 API: ' + signature)\n"
     ]
    }
   ],
   "source": [
    "## Actor\n",
    "HIDDEN1_UNITS=10\n",
    "HIDDEN2_UNITS=20\n",
    "state_size=5\n",
    "print(\"Now we build the model\")\n",
    "S = Input(shape=[state_size])\n",
    "h0 = Dense(HIDDEN1_UNITS, activation='relu')(S)\n",
    "h1 = Dense(HIDDEN2_UNITS, activation='relu')(h0)\n",
    "\n",
    "Steering = Dense(1,activation='tanh')(h1)   \n",
    "Acceleration = Dense(1,activation='sigmoid')(h1)   \n",
    "Brake = Dense(1,activation='sigmoid')(h1)   \n",
    "V = Concatenate([Steering,Acceleration,Brake])\n",
    "\n",
    "model = Model(inputs=S,output=[Steering,Acceleration,Brake])\n",
    "model.summary()\n",
    "print(\"We finished building the model\")\n"
   ]
  },
  {
   "cell_type": "code",
   "execution_count": 50,
   "metadata": {
    "collapsed": false,
    "deletable": true,
    "editable": true
   },
   "outputs": [
    {
     "ename": "TypeError",
     "evalue": "__init__() takes 1 positional argument but 3 were given",
     "output_type": "error",
     "traceback": [
      "\u001b[0;31m---------------------------------------------------------------------------\u001b[0m",
      "\u001b[0;31mTypeError\u001b[0m                                 Traceback (most recent call last)",
      "\u001b[0;32m<ipython-input-50-ffd45f30b01e>\u001b[0m in \u001b[0;36m<module>\u001b[0;34m()\u001b[0m\n\u001b[1;32m      6\u001b[0m \u001b[0ma1\u001b[0m \u001b[0;34m=\u001b[0m \u001b[0mDense\u001b[0m\u001b[0;34m(\u001b[0m\u001b[0mHIDDEN2_UNITS\u001b[0m\u001b[0;34m,\u001b[0m \u001b[0mactivation\u001b[0m\u001b[0;34m=\u001b[0m\u001b[0;34m'linear'\u001b[0m\u001b[0;34m)\u001b[0m\u001b[0;34m(\u001b[0m\u001b[0mA\u001b[0m\u001b[0;34m)\u001b[0m\u001b[0;34m\u001b[0m\u001b[0m\n\u001b[1;32m      7\u001b[0m \u001b[0mh1\u001b[0m \u001b[0;34m=\u001b[0m \u001b[0mDense\u001b[0m\u001b[0;34m(\u001b[0m\u001b[0mHIDDEN2_UNITS\u001b[0m\u001b[0;34m,\u001b[0m \u001b[0mactivation\u001b[0m\u001b[0;34m=\u001b[0m\u001b[0;34m'linear'\u001b[0m\u001b[0;34m)\u001b[0m\u001b[0;34m(\u001b[0m\u001b[0mw1\u001b[0m\u001b[0;34m)\u001b[0m\u001b[0;34m\u001b[0m\u001b[0m\n\u001b[0;32m----> 8\u001b[0;31m \u001b[0mh2\u001b[0m \u001b[0;34m=\u001b[0m \u001b[0mAdd\u001b[0m\u001b[0;34m(\u001b[0m\u001b[0mh1\u001b[0m\u001b[0;34m,\u001b[0m\u001b[0ma1\u001b[0m\u001b[0;34m)\u001b[0m\u001b[0;34m\u001b[0m\u001b[0m\n\u001b[0m\u001b[1;32m      9\u001b[0m \u001b[0mh3\u001b[0m \u001b[0;34m=\u001b[0m \u001b[0mDense\u001b[0m\u001b[0;34m(\u001b[0m\u001b[0mHIDDEN2_UNITS\u001b[0m\u001b[0;34m,\u001b[0m \u001b[0mactivation\u001b[0m\u001b[0;34m=\u001b[0m\u001b[0;34m'relu'\u001b[0m\u001b[0;34m)\u001b[0m\u001b[0;34m(\u001b[0m\u001b[0mh2\u001b[0m\u001b[0;34m)\u001b[0m\u001b[0;34m\u001b[0m\u001b[0m\n\u001b[1;32m     10\u001b[0m \u001b[0mV\u001b[0m \u001b[0;34m=\u001b[0m \u001b[0mDense\u001b[0m\u001b[0;34m(\u001b[0m\u001b[0maction_dim\u001b[0m\u001b[0;34m,\u001b[0m\u001b[0mactivation\u001b[0m\u001b[0;34m=\u001b[0m\u001b[0;34m'linear'\u001b[0m\u001b[0;34m)\u001b[0m\u001b[0;34m(\u001b[0m\u001b[0mh3\u001b[0m\u001b[0;34m)\u001b[0m\u001b[0;34m\u001b[0m\u001b[0m\n",
      "\u001b[0;31mTypeError\u001b[0m: __init__() takes 1 positional argument but 3 were given"
     ]
    }
   ],
   "source": [
    "## Critic\n",
    "action_dim = 100\n",
    "S = Input(shape=[state_size])\n",
    "A = Input(shape=[action_dim],name='action2')    \n",
    "w1 = Dense(HIDDEN1_UNITS, activation='relu')(S)\n",
    "a1 = Dense(HIDDEN2_UNITS, activation='linear')(A)\n",
    "h1 = Dense(HIDDEN2_UNITS, activation='linear')(w1)\n",
    "h2 = Add(h1,a1)    \n",
    "h3 = Dense(HIDDEN2_UNITS, activation='relu')(h2)\n",
    "V = Dense(action_dim,activation='linear')(h3) \n",
    "\n",
    "model = Concatenate(input=[S,A],output=V)\n",
    "\n",
    "adam = Adam(lr=self.LEARNING_RATE)\n",
    "model.compile(loss='mse', optimizer=adam)\n",
    "print(\"We finished building the model\")"
   ]
  },
  {
   "cell_type": "code",
   "execution_count": null,
   "metadata": {
    "collapsed": true,
    "deletable": true,
    "editable": true
   },
   "outputs": [],
   "source": []
  },
  {
   "cell_type": "code",
   "execution_count": null,
   "metadata": {
    "collapsed": true,
    "deletable": true,
    "editable": true
   },
   "outputs": [],
   "source": []
  },
  {
   "cell_type": "code",
   "execution_count": null,
   "metadata": {
    "collapsed": true,
    "deletable": true,
    "editable": true
   },
   "outputs": [],
   "source": []
  },
  {
   "cell_type": "code",
   "execution_count": 56,
   "metadata": {
    "collapsed": false,
    "deletable": true,
    "editable": true
   },
   "outputs": [
    {
     "name": "stdout",
     "output_type": "stream",
     "text": [
      "_________________________________________________________________\n",
      "Layer (type)                 Output Shape              Param #   \n",
      "=================================================================\n",
      "dense_97 (Dense)             (None, 100)               300       \n",
      "_________________________________________________________________\n",
      "dense_98 (Dense)             (None, 8)                 808       \n",
      "=================================================================\n",
      "Total params: 1,108.0\n",
      "Trainable params: 1,108\n",
      "Non-trainable params: 0.0\n",
      "_________________________________________________________________\n"
     ]
    }
   ],
   "source": [
    "##Define a simple model where the output is a softmax probability over the eight states\n",
    "# INputs will be the time, current geohash\n",
    "model_simple = Sequential()\n",
    "model_simple.add(Dense(100, activation='relu', input_shape= (2,)))\n",
    "model_simple.add(Dense(9, activation='softmax')) ## predict which geohash to move to next\n",
    "model_simple.summary()"
   ]
  },
  {
   "cell_type": "code",
   "execution_count": null,
   "metadata": {
    "collapsed": true
   },
   "outputs": [],
   "source": []
  },
  {
   "cell_type": "code",
   "execution_count": null,
   "metadata": {
    "collapsed": true
   },
   "outputs": [],
   "source": [
    "# parameters\n",
    "GAME = 'bird' # the name of the game being played for log files\n",
    "CONFIG = 'nothreshold'\n",
    "ACTIONS = 9 # number of valid actions\n",
    "GAMMA = 0.99 # decay rate of past observations\n",
    "OBSERVATION = 3200. # timesteps to observe before training\n",
    "EXPLORE = 3000000. # frames over which to anneal epsilon\n",
    "FINAL_EPSILON = 0.0001 # final value of epsilon\n",
    "INITIAL_EPSILON = 0.1 # starting value of epsilon\n",
    "REPLAY_MEMORY = 50000 # number of previous transitions to remember\n",
    "BATCH = 32 # size of minibatch\n",
    "FRAME_PER_ACTION = 1\n",
    "LEARNING_RATE = 1e-4"
   ]
  },
  {
   "cell_type": "code",
   "execution_count": null,
   "metadata": {
    "collapsed": true,
    "deletable": true,
    "editable": true
   },
   "outputs": [],
   "source": [
    "def trainNetwork(model,args):\n",
    "    # open up a game state to communicate with emulator\n",
    "    game_state = game.GameState()\n",
    "\n",
    "    # store the previous observations in replay memory\n",
    "    D = deque()\n",
    "\n",
    "    # get the first state by doing nothing and preprocess the image to 80x80x4\n",
    "    do_nothing = np.zeros(ACTIONS)\n",
    "    do_nothing[0] = 1\n",
    "    x_t, r_0, terminal = game_state.frame_step(do_nothing)\n",
    "\n",
    "    x_t = skimage.color.rgb2gray(x_t)\n",
    "    x_t = skimage.transform.resize(x_t,(80,80))\n",
    "    x_t = skimage.exposure.rescale_intensity(x_t,out_range=(0,255))\n",
    "\n",
    "    s_t = np.stack((x_t, x_t, x_t, x_t), axis=2)\n",
    "    #print (s_t.shape)\n",
    "\n",
    "    #In Keras, need to reshape\n",
    "    s_t = s_t.reshape(1, s_t.shape[0], s_t.shape[1], s_t.shape[2])  #1*80*80*4\n",
    "\n",
    "    \n",
    "    if args['mode'] == 'Run':\n",
    "        OBSERVE = 999999999    #We keep observe, never train\n",
    "        epsilon = FINAL_EPSILON\n",
    "        print (\"Now we load weight\")\n",
    "        model.load_weights(\"model.h5\")\n",
    "        adam = Adam(lr=LEARNING_RATE)\n",
    "        model.compile(loss='mse',optimizer=adam)\n",
    "        print (\"Weight load successfully\")    \n",
    "    else:                       #We go to training mode\n",
    "        OBSERVE = OBSERVATION\n",
    "        epsilon = INITIAL_EPSILON\n",
    "\n",
    "    t = 0\n",
    "    while (True):\n",
    "        loss = 0\n",
    "        Q_sa = 0\n",
    "        action_index = 0\n",
    "        r_t = 0\n",
    "        a_t = np.zeros([ACTIONS])\n",
    "        #choose an action epsilon greedy\n",
    "        if t % FRAME_PER_ACTION == 0:\n",
    "            if random.random() <= epsilon:\n",
    "                print(\"----------Random Action----------\")\n",
    "                action_index = random.randrange(ACTIONS)\n",
    "                a_t[action_index] = 1\n",
    "            else:\n",
    "                q = model.predict(s_t)       #input a stack of 4 images, get the prediction\n",
    "                max_Q = np.argmax(q)\n",
    "                action_index = max_Q\n",
    "                a_t[max_Q] = 1\n",
    "\n",
    "        #We reduced the epsilon gradually\n",
    "        if epsilon > FINAL_EPSILON and t > OBSERVE:\n",
    "            epsilon -= (INITIAL_EPSILON - FINAL_EPSILON) / EXPLORE\n",
    "\n",
    "        #run the selected action and observed next state and reward\n",
    "        x_t1_colored, r_t, terminal = game_state.frame_step(a_t)\n",
    "        \n",
    "\n",
    "        x_t1 = skimage.color.rgb2gray(x_t1_colored)\n",
    "        x_t1 = skimage.transform.resize(x_t1,(80,80))\n",
    "        x_t1 = skimage.exposure.rescale_intensity(x_t1, out_range=(0, 255))\n",
    "\n",
    "        x_t1 = x_t1.reshape(1, x_t1.shape[0], x_t1.shape[1], 1) #1x80x80x1\n",
    "        s_t1 = np.append(x_t1, s_t[:, :, :, :3], axis=3)\n",
    "\n",
    "        # store the transition in D\n",
    "        D.append((s_t, action_index, r_t, s_t1, terminal))\n",
    "        if len(D) > REPLAY_MEMORY:\n",
    "            D.popleft()\n",
    "\n",
    "        #only train if done observing\n",
    "        if t > OBSERVE:\n",
    "            #sample a minibatch to train on\n",
    "            minibatch = random.sample(D, BATCH)\n",
    "\n",
    "\n",
    "\n",
    "            inputs = np.zeros((BATCH, s_t.shape[1], s_t.shape[2], s_t.shape[3]))   #32, 80, 80, 4\n",
    "            print (inputs.shape)\n",
    "            targets = np.zeros((inputs.shape[0], ACTIONS))                         #32, 2\n",
    "\n",
    "            #Now we do the experience replay\n",
    "            for i in range(0, len(minibatch)):\n",
    "                state_t = minibatch[i][0]\n",
    "                action_t = minibatch[i][1]   #This is action index\n",
    "                reward_t = minibatch[i][2]\n",
    "                state_t1 = minibatch[i][3]\n",
    "                terminal = minibatch[i][4]\n",
    "                # if terminated, only equals reward\n",
    "\n",
    "                inputs[i:i + 1] = state_t    #I saved down s_t\n",
    "\n",
    "                targets[i] = model.predict(state_t)  # Hitting each buttom probability\n",
    "                Q_sa = model.predict(state_t1)\n",
    "\n",
    "                if terminal:\n",
    "                    targets[i, action_t] = reward_t\n",
    "                else:\n",
    "                    targets[i, action_t] = reward_t + GAMMA * np.max(Q_sa)\n",
    "\n",
    "            # targets2 = normalize(targets)\n",
    "            loss += model.train_on_batch(inputs, targets)\n",
    "\n",
    "        s_t = s_t1\n",
    "        t = t + 1\n",
    "\n",
    "        # save progress every 10000 iterations\n",
    "        if t % 1000 == 0:\n",
    "            print(\"Now we save model\")\n",
    "            model.save_weights(\"model.h5\", overwrite=True)\n",
    "            with open(\"model.json\", \"w\") as outfile:\n",
    "                json.dump(model.to_json(), outfile)\n",
    "\n",
    "        # print info\n",
    "        state = \"\"\n",
    "        if t <= OBSERVE:\n",
    "            state = \"observe\"\n",
    "        elif t > OBSERVE and t <= OBSERVE + EXPLORE:\n",
    "            state = \"explore\"\n",
    "        else:\n",
    "            state = \"train\"\n",
    "\n",
    "        print(\"TIMESTEP\", t, \"/ STATE\", state, \\\n",
    "            \"/ EPSILON\", epsilon, \"/ ACTION\", action_index, \"/ REWARD\", r_t, \\\n",
    "            \"/ Q_MAX \" , np.max(Q_sa), \"/ Loss \", loss)\n",
    "\n",
    "    print(\"Episode finished!\")\n",
    "    print(\"************************\")"
   ]
  }
 ],
 "metadata": {
  "kernelspec": {
   "display_name": "Python [conda env:dl]",
   "language": "python",
   "name": "conda-env-dl-py"
  },
  "language_info": {
   "codemirror_mode": {
    "name": "ipython",
    "version": 3
   },
   "file_extension": ".py",
   "mimetype": "text/x-python",
   "name": "python",
   "nbconvert_exporter": "python",
   "pygments_lexer": "ipython3",
   "version": "3.6.0"
  }
 },
 "nbformat": 4,
 "nbformat_minor": 2
}
